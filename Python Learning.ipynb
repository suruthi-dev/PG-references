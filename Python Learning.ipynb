{
 "cells": [
  {
   "cell_type": "code",
   "execution_count": null,
   "id": "52545c28",
   "metadata": {},
   "outputs": [],
   "source": []
  },
  {
   "cell_type": "code",
   "execution_count": 2,
   "id": "b05c239f",
   "metadata": {},
   "outputs": [
    {
     "data": {
      "text/plain": [
       "1"
      ]
     },
     "execution_count": 2,
     "metadata": {},
     "output_type": "execute_result"
    }
   ],
   "source": [
    "10%3  #  MODULO Function returns reminder"
   ]
  },
  {
   "cell_type": "code",
   "execution_count": 6,
   "id": "c0e1fa8b",
   "metadata": {},
   "outputs": [
    {
     "data": {
      "text/plain": [
       "1728"
      ]
     },
     "execution_count": 6,
     "metadata": {},
     "output_type": "execute_result"
    }
   ],
   "source": [
    "12**3  #power"
   ]
  },
  {
   "cell_type": "code",
   "execution_count": 9,
   "id": "5686ddb8",
   "metadata": {},
   "outputs": [
    {
     "data": {
      "text/plain": [
       "1"
      ]
     },
     "execution_count": 9,
     "metadata": {},
     "output_type": "execute_result"
    }
   ],
   "source": [
    "10//7 # returns only the quotient"
   ]
  },
  {
   "cell_type": "code",
   "execution_count": 16,
   "id": "aa955ec4",
   "metadata": {},
   "outputs": [],
   "source": []
  },
  {
   "cell_type": "code",
   "execution_count": 14,
   "id": "0b8d97a0",
   "metadata": {},
   "outputs": [
    {
     "data": {
      "text/plain": [
       "8"
      ]
     },
     "execution_count": 14,
     "metadata": {},
     "output_type": "execute_result"
    }
   ],
   "source": [
    "x = 5\n",
    "x = x +3\n",
    "x"
   ]
  },
  {
   "cell_type": "code",
   "execution_count": 17,
   "id": "58d7b340",
   "metadata": {},
   "outputs": [
    {
     "data": {
      "text/plain": [
       "2"
      ]
     },
     "execution_count": 17,
     "metadata": {},
     "output_type": "execute_result"
    }
   ],
   "source": [
    "x = 5\n",
    "x = x -3\n",
    "x"
   ]
  },
  {
   "cell_type": "code",
   "execution_count": 19,
   "id": "fc6eb89c",
   "metadata": {},
   "outputs": [
    {
     "data": {
      "text/plain": [
       "15"
      ]
     },
     "execution_count": 19,
     "metadata": {},
     "output_type": "execute_result"
    }
   ],
   "source": [
    "x = 5\n",
    "x = x * 3\n",
    "x"
   ]
  },
  {
   "cell_type": "code",
   "execution_count": 21,
   "id": "d2e46771",
   "metadata": {},
   "outputs": [
    {
     "data": {
      "text/plain": [
       "1"
      ]
     },
     "execution_count": 21,
     "metadata": {},
     "output_type": "execute_result"
    }
   ],
   "source": [
    "# bitwise - or\n",
    "\n",
    "x = 5  #0101\n",
    "x = x & 3  #0011\n",
    "x   #0101 and 0011  gives 1\n",
    "\n",
    "# 0 & 0 → 0\n",
    "# 1 & 0 → 0\n",
    "# 0 & 1 → 0\n",
    "# 1 & 1 → 1\n",
    "# The final result is 0001, which is 1 in decimal."
   ]
  },
  {
   "cell_type": "code",
   "execution_count": 22,
   "id": "711e5a2c",
   "metadata": {},
   "outputs": [
    {
     "data": {
      "text/plain": [
       "4"
      ]
     },
     "execution_count": 22,
     "metadata": {},
     "output_type": "execute_result"
    }
   ],
   "source": [
    "# 4\t100\n",
    "# 7\t111\n",
    "\n",
    "x = 4\n",
    "x = x & 7\n",
    "x # gives 100 "
   ]
  },
  {
   "cell_type": "code",
   "execution_count": 23,
   "id": "1c9d44ae",
   "metadata": {},
   "outputs": [
    {
     "data": {
      "text/plain": [
       "7"
      ]
     },
     "execution_count": 23,
     "metadata": {},
     "output_type": "execute_result"
    }
   ],
   "source": [
    "x = 5   # 0101\n",
    "x |= 3  # 0011\n",
    "x       # gives 0111 -> 7"
   ]
  },
  {
   "cell_type": "code",
   "execution_count": 24,
   "id": "aabefd66",
   "metadata": {},
   "outputs": [
    {
     "data": {
      "text/plain": [
       "6"
      ]
     },
     "execution_count": 24,
     "metadata": {},
     "output_type": "execute_result"
    }
   ],
   "source": [
    "x = 5\n",
    "x ^= 3\n",
    "x\n",
    "\n",
    "#   0101   (5 in binary)\n",
    "# ^ 0011   (3 in binary)\n",
    "#   0110   (6 in decimal)"
   ]
  },
  {
   "cell_type": "code",
   "execution_count": 25,
   "id": "15b4a6c1",
   "metadata": {},
   "outputs": [
    {
     "data": {
      "text/plain": [
       "0"
      ]
     },
     "execution_count": 25,
     "metadata": {},
     "output_type": "execute_result"
    }
   ],
   "source": [
    "# Right Shift Operation\n",
    "\n",
    "x = 5\n",
    "x >>= 3\n",
    "x\n",
    "\n",
    "# Original:  0101\n",
    "# Shift 1:   0010  (dropping the rightmost bit)\n",
    "# Shift 2:   0001  (dropping the rightmost bit)\n",
    "# Shift 3:   0000  (dropping the rightmost bit)"
   ]
  },
  {
   "cell_type": "code",
   "execution_count": 26,
   "id": "5fa4e298",
   "metadata": {},
   "outputs": [
    {
     "data": {
      "text/plain": [
       "40"
      ]
     },
     "execution_count": 26,
     "metadata": {},
     "output_type": "execute_result"
    }
   ],
   "source": [
    "# Left shift operation\n",
    "\n",
    "x = 5\n",
    "x <<= 3\n",
    "x\n",
    "\n",
    "# Original: 0101\n",
    "# shift 1 : 1010\n",
    "# shift 2 : 0100\n",
    "# shift 3 : 1000\n",
    "\n"
   ]
  },
  {
   "cell_type": "code",
   "execution_count": 27,
   "id": "3ebc17d7",
   "metadata": {},
   "outputs": [],
   "source": [
    "a = 10\n",
    "b = 4\n",
    "\n",
    "and_ = a & b \n",
    "or_ = a | b\n",
    "not_ = ~a\n",
    "xor = a ^ b\n",
    "right_shift = a>>b\n",
    "left_shift = a<<b\n"
   ]
  },
  {
   "cell_type": "code",
   "execution_count": 28,
   "id": "6177192b",
   "metadata": {},
   "outputs": [
    {
     "name": "stdout",
     "output_type": "stream",
     "text": [
      "0 14 -11 14 0 160\n"
     ]
    }
   ],
   "source": [
    "print(and_,or_,not_,xor,right_shift,left_shift )"
   ]
  },
  {
   "cell_type": "code",
   "execution_count": 30,
   "id": "c2755403",
   "metadata": {},
   "outputs": [
    {
     "name": "stdout",
     "output_type": "stream",
     "text": [
      "3\n"
     ]
    }
   ],
   "source": [
    "print(x:= 3)\n",
    "# The walrus operator is handy in situations where you want to assign a value and use it in the same expression"
   ]
  },
  {
   "cell_type": "code",
   "execution_count": 31,
   "id": "a02b7de4",
   "metadata": {},
   "outputs": [
    {
     "name": "stdout",
     "output_type": "stream",
     "text": [
      "Enter a number: 1\n",
      "You entered: 1\n",
      "Enter a number: 2\n",
      "You entered: 2\n",
      "Enter a number: -1\n"
     ]
    }
   ],
   "source": [
    "while (num := int(input(\"Enter a number: \"))) > 0:\n",
    "    print(f\"You entered: {num}\")\n"
   ]
  },
  {
   "cell_type": "code",
   "execution_count": 32,
   "id": "687a16b5",
   "metadata": {},
   "outputs": [
    {
     "data": {
      "text/plain": [
       "-1"
      ]
     },
     "execution_count": 32,
     "metadata": {},
     "output_type": "execute_result"
    }
   ],
   "source": [
    "num"
   ]
  },
  {
   "cell_type": "markdown",
   "id": "d8a93fe1",
   "metadata": {},
   "source": [
    "# Conditional"
   ]
  },
  {
   "cell_type": "code",
   "execution_count": 33,
   "id": "40a1f237",
   "metadata": {},
   "outputs": [
    {
     "name": "stdout",
     "output_type": "stream",
     "text": [
      "a is greater than b\n"
     ]
    }
   ],
   "source": [
    "# The elif keyword is Python's way of saying \"if the previous conditions were not true, then try this condition\".\n",
    "# The else keyword catches anything which isn't caught by the preceding conditions.\n",
    "\n",
    "a = 200\n",
    "b = 33\n",
    "\n",
    "if b > a:\n",
    "    print(\"b is greater than a\")\n",
    "elif a == b:\n",
    "    print(\"a and b are equal\")\n",
    "else:\n",
    "    print(\"a is greater than b\")"
   ]
  },
  {
   "cell_type": "code",
   "execution_count": 36,
   "id": "da91f13e",
   "metadata": {},
   "outputs": [
    {
     "name": "stdout",
     "output_type": "stream",
     "text": [
      "a is greater than b\n"
     ]
    }
   ],
   "source": [
    "# short-hand if\n",
    "\n",
    "a = 200\n",
    "b = 33\n",
    "\n",
    "if a > b : print(\"a is greater than b\")\n"
   ]
  },
  {
   "cell_type": "code",
   "execution_count": 37,
   "id": "9c7730a2",
   "metadata": {},
   "outputs": [
    {
     "name": "stdout",
     "output_type": "stream",
     "text": [
      "A\n"
     ]
    }
   ],
   "source": [
    "# short-hand if else\n",
    "\n",
    "print(\"A\") if a>b else print(\"B is greater\")"
   ]
  },
  {
   "cell_type": "markdown",
   "id": "f8293b85",
   "metadata": {},
   "source": [
    "The pass statement in Python is a no-operation (no-op) statement. It is used when a statement is syntactically required but you don't want to perform any action. "
   ]
  },
  {
   "cell_type": "code",
   "execution_count": null,
   "id": "61126019",
   "metadata": {},
   "outputs": [],
   "source": []
  },
  {
   "cell_type": "code",
   "execution_count": null,
   "id": "bdeb49a6",
   "metadata": {},
   "outputs": [],
   "source": []
  },
  {
   "cell_type": "code",
   "execution_count": 39,
   "id": "94d072d4",
   "metadata": {},
   "outputs": [
    {
     "data": {
      "text/plain": [
       "'C:\\\\Users\\\\SURUTHI S'"
      ]
     },
     "execution_count": 39,
     "metadata": {},
     "output_type": "execute_result"
    }
   ],
   "source": [
    "import os\n",
    "os.getcwd()"
   ]
  },
  {
   "cell_type": "code",
   "execution_count": null,
   "id": "2fb99a80",
   "metadata": {},
   "outputs": [],
   "source": []
  },
  {
   "cell_type": "code",
   "execution_count": null,
   "id": "9de6bdc5",
   "metadata": {},
   "outputs": [],
   "source": []
  },
  {
   "cell_type": "code",
   "execution_count": null,
   "id": "3b20bd16",
   "metadata": {},
   "outputs": [],
   "source": []
  },
  {
   "cell_type": "code",
   "execution_count": null,
   "id": "9e4d8046",
   "metadata": {},
   "outputs": [],
   "source": []
  },
  {
   "cell_type": "code",
   "execution_count": null,
   "id": "3bafe707",
   "metadata": {},
   "outputs": [],
   "source": []
  },
  {
   "cell_type": "code",
   "execution_count": null,
   "id": "067b4721",
   "metadata": {},
   "outputs": [],
   "source": []
  },
  {
   "cell_type": "code",
   "execution_count": null,
   "id": "4ef85386",
   "metadata": {},
   "outputs": [],
   "source": []
  },
  {
   "cell_type": "code",
   "execution_count": null,
   "id": "ee985c12",
   "metadata": {},
   "outputs": [],
   "source": []
  },
  {
   "cell_type": "code",
   "execution_count": null,
   "id": "ab0857a0",
   "metadata": {},
   "outputs": [],
   "source": []
  },
  {
   "cell_type": "code",
   "execution_count": null,
   "id": "4893de37",
   "metadata": {},
   "outputs": [],
   "source": []
  },
  {
   "cell_type": "code",
   "execution_count": null,
   "id": "e669f755",
   "metadata": {},
   "outputs": [],
   "source": []
  }
 ],
 "metadata": {
  "kernelspec": {
   "display_name": "Python 3 (ipykernel)",
   "language": "python",
   "name": "python3"
  },
  "language_info": {
   "codemirror_mode": {
    "name": "ipython",
    "version": 3
   },
   "file_extension": ".py",
   "mimetype": "text/x-python",
   "name": "python",
   "nbconvert_exporter": "python",
   "pygments_lexer": "ipython3",
   "version": "3.10.9"
  }
 },
 "nbformat": 4,
 "nbformat_minor": 5
}
