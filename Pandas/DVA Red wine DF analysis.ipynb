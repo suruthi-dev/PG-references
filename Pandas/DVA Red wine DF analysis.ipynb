{
 "cells": [
  {
   "cell_type": "markdown",
   "metadata": {},
   "source": [
    "# **SURUTHI S**\n",
    "# 225229141\n",
    "\n",
    "# Lab2. Red Wine Quality Data Analysis using NumPy Part-II"
   ]
  },
  {
   "cell_type": "code",
   "execution_count": 1,
   "metadata": {},
   "outputs": [],
   "source": [
    "import numpy as np"
   ]
  },
  {
   "cell_type": "code",
   "execution_count": 2,
   "metadata": {},
   "outputs": [
    {
     "name": "stdout",
     "output_type": "stream",
     "text": [
      "[[ 7.4    0.7    0.    ...  0.56   9.4    5.   ]\n",
      " [ 7.8    0.88   0.    ...  0.68   9.8    5.   ]\n",
      " [ 7.8    0.76   0.04  ...  0.65   9.8    5.   ]\n",
      " ...\n",
      " [ 6.3    0.51   0.13  ...  0.75  11.     6.   ]\n",
      " [ 5.9    0.645  0.12  ...  0.71  10.2    5.   ]\n",
      " [ 6.     0.31   0.47  ...  0.66  11.     6.   ]]\n"
     ]
    }
   ],
   "source": [
    "from numpy import genfromtxt\n",
    "wines = genfromtxt('winequality-red.csv', delimiter=',', skip_header = 1)\n",
    "print(wines)"
   ]
  },
  {
   "cell_type": "code",
   "execution_count": 3,
   "metadata": {},
   "outputs": [
    {
     "data": {
      "text/plain": [
       "array([[ 7.4  ,  0.7  ,  0.   , ...,  0.56 ,  9.4  ,  5.   ],\n",
       "       [ 7.8  ,  0.88 ,  0.   , ...,  0.68 ,  9.8  ,  5.   ],\n",
       "       [ 7.8  ,  0.76 ,  0.04 , ...,  0.65 ,  9.8  ,  5.   ],\n",
       "       ...,\n",
       "       [ 6.3  ,  0.51 ,  0.13 , ...,  0.75 , 11.   ,  6.   ],\n",
       "       [ 5.9  ,  0.645,  0.12 , ...,  0.71 , 10.2  ,  5.   ],\n",
       "       [ 6.   ,  0.31 ,  0.47 , ...,  0.66 , 11.   ,  6.   ]])"
      ]
     },
     "execution_count": 3,
     "metadata": {},
     "output_type": "execute_result"
    }
   ],
   "source": [
    "wines"
   ]
  },
  {
   "cell_type": "markdown",
   "metadata": {},
   "source": [
    "**Find sum of all residual sugar values**"
   ]
  },
  {
   "cell_type": "code",
   "execution_count": 4,
   "metadata": {},
   "outputs": [
    {
     "data": {
      "text/plain": [
       "4059.550000000003"
      ]
     },
     "execution_count": 4,
     "metadata": {},
     "output_type": "execute_result"
    }
   ],
   "source": [
    "wines.sum(axis=0)[3]"
   ]
  },
  {
   "cell_type": "markdown",
   "metadata": {},
   "source": [
    "**Find sums of every feature value. There are 12 features altogether**"
   ]
  },
  {
   "cell_type": "code",
   "execution_count": 5,
   "metadata": {},
   "outputs": [
    {
     "data": {
      "text/plain": [
       "array([13303.1    ,   843.985  ,   433.29   ,  4059.55   ,   139.859  ,\n",
       "       25384.     , 74302.     ,  1593.79794,  5294.47   ,  1052.38   ,\n",
       "       16666.35   ,  9012.     ])"
      ]
     },
     "execution_count": 5,
     "metadata": {},
     "output_type": "execute_result"
    }
   ],
   "source": [
    "wines.sum(axis =0 )"
   ]
  },
  {
   "cell_type": "markdown",
   "metadata": {},
   "source": [
    "**Find sum of every row**"
   ]
  },
  {
   "cell_type": "code",
   "execution_count": 6,
   "metadata": {},
   "outputs": [
    {
     "data": {
      "text/plain": [
       "array([ 74.5438 , 123.0548 ,  99.699  , ..., 100.48174, 105.21547,\n",
       "        92.49249])"
      ]
     },
     "execution_count": 6,
     "metadata": {},
     "output_type": "execute_result"
    }
   ],
   "source": [
    "wines.sum(axis=1)"
   ]
  },
  {
   "cell_type": "markdown",
   "metadata": {},
   "source": [
    "**What is its size?**"
   ]
  },
  {
   "cell_type": "code",
   "execution_count": 7,
   "metadata": {},
   "outputs": [
    {
     "data": {
      "text/plain": [
       "(1599, 12)"
      ]
     },
     "execution_count": 7,
     "metadata": {},
     "output_type": "execute_result"
    }
   ],
   "source": [
    "wines.shape"
   ]
  },
  {
   "cell_type": "markdown",
   "metadata": {},
   "source": [
    "**What is the maximum residual sugar value in red wines wines?**"
   ]
  },
  {
   "cell_type": "code",
   "execution_count": 8,
   "metadata": {},
   "outputs": [
    {
     "data": {
      "text/plain": [
       "array([1, 2, 2, ..., 2, 2, 3])"
      ]
     },
     "execution_count": 8,
     "metadata": {},
     "output_type": "execute_result"
    }
   ],
   "source": [
    "np.int_(wines[:,3])"
   ]
  },
  {
   "cell_type": "markdown",
   "metadata": {},
   "source": [
    "**find its maximum residual sugar value**"
   ]
  },
  {
   "cell_type": "code",
   "execution_count": 9,
   "metadata": {},
   "outputs": [
    {
     "data": {
      "text/plain": [
       "15"
      ]
     },
     "execution_count": 9,
     "metadata": {},
     "output_type": "execute_result"
    }
   ],
   "source": [
    "np.max(np.int_(wines[:,3]))"
   ]
  },
  {
   "cell_type": "markdown",
   "metadata": {},
   "source": [
    "**What is the minimum residual sugar value in red wines wines?**"
   ]
  },
  {
   "cell_type": "code",
   "execution_count": 10,
   "metadata": {},
   "outputs": [
    {
     "data": {
      "text/plain": [
       "0"
      ]
     },
     "execution_count": 10,
     "metadata": {},
     "output_type": "execute_result"
    }
   ],
   "source": [
    "np.min(np.int_(wines[:,3]))"
   ]
  },
  {
   "cell_type": "markdown",
   "metadata": {},
   "source": [
    "**What is the average residual sugar value in red wines wines?**"
   ]
  },
  {
   "cell_type": "code",
   "execution_count": 11,
   "metadata": {},
   "outputs": [
    {
     "data": {
      "text/plain": [
       "2.53880550343965"
      ]
     },
     "execution_count": 11,
     "metadata": {},
     "output_type": "execute_result"
    }
   ],
   "source": [
    "np.average(wines[:,3])"
   ]
  },
  {
   "cell_type": "markdown",
   "metadata": {},
   "source": [
    "**What is 25 percentile residual sugar value?**"
   ]
  },
  {
   "cell_type": "code",
   "execution_count": 12,
   "metadata": {},
   "outputs": [
    {
     "data": {
      "text/plain": [
       "1.9"
      ]
     },
     "execution_count": 12,
     "metadata": {},
     "output_type": "execute_result"
    }
   ],
   "source": [
    "np.percentile(wines[:,3],25)"
   ]
  },
  {
   "cell_type": "markdown",
   "metadata": {},
   "source": [
    "**What is 75 percentile residual sugar value?**"
   ]
  },
  {
   "cell_type": "code",
   "execution_count": 13,
   "metadata": {},
   "outputs": [
    {
     "data": {
      "text/plain": [
       "2.6"
      ]
     },
     "execution_count": 13,
     "metadata": {},
     "output_type": "execute_result"
    }
   ],
   "source": [
    "np.percentile(wines[:,3],75)"
   ]
  },
  {
   "cell_type": "markdown",
   "metadata": {},
   "source": [
    "**Find the average of each feature value**"
   ]
  },
  {
   "cell_type": "code",
   "execution_count": 14,
   "metadata": {},
   "outputs": [
    {
     "data": {
      "text/plain": [
       "array([ 8.31963727,  0.52782051,  0.27097561,  2.5388055 ,  0.08746654,\n",
       "       15.87492183, 46.46779237,  0.99674668,  3.3111132 ,  0.65814884,\n",
       "       10.42298311,  5.63602251])"
      ]
     },
     "execution_count": 14,
     "metadata": {},
     "output_type": "execute_result"
    }
   ],
   "source": [
    "np.average(wines,axis=0)"
   ]
  },
  {
   "cell_type": "markdown",
   "metadata": {},
   "source": [
    "# NumPy Array Comparisons"
   ]
  },
  {
   "cell_type": "markdown",
   "metadata": {},
   "source": [
    "**Show all wines with quality > 5**"
   ]
  },
  {
   "cell_type": "code",
   "execution_count": 15,
   "metadata": {},
   "outputs": [
    {
     "data": {
      "text/plain": [
       "array([False, False, False, ...,  True, False,  True])"
      ]
     },
     "execution_count": 15,
     "metadata": {},
     "output_type": "execute_result"
    }
   ],
   "source": [
    "wines[:,-1]>5"
   ]
  },
  {
   "cell_type": "markdown",
   "metadata": {},
   "source": [
    "**Show all wines with quality > 7**"
   ]
  },
  {
   "cell_type": "code",
   "execution_count": 16,
   "metadata": {},
   "outputs": [
    {
     "data": {
      "text/plain": [
       "array([False, False, False, ..., False, False, False])"
      ]
     },
     "execution_count": 16,
     "metadata": {},
     "output_type": "execute_result"
    }
   ],
   "source": [
    "wines[:,-1]>7"
   ]
  },
  {
   "cell_type": "markdown",
   "metadata": {},
   "source": [
    "**check if any wines value is True for the condition quality > 7**"
   ]
  },
  {
   "cell_type": "code",
   "execution_count": 17,
   "metadata": {},
   "outputs": [
    {
     "data": {
      "text/plain": [
       "True"
      ]
     },
     "execution_count": 17,
     "metadata": {},
     "output_type": "execute_result"
    }
   ],
   "source": [
    "np.any(wines[:,-1],axis=0)"
   ]
  },
  {
   "cell_type": "markdown",
   "metadata": {},
   "source": [
    "**Show first 3 rows where wine quality > 7, call it high_quality**"
   ]
  },
  {
   "cell_type": "code",
   "execution_count": 18,
   "metadata": {},
   "outputs": [],
   "source": [
    "high_quality = wines[:,-1]>7"
   ]
  },
  {
   "cell_type": "code",
   "execution_count": 19,
   "metadata": {},
   "outputs": [
    {
     "data": {
      "text/plain": [
       "array([False, False, False, ..., False, False, False])"
      ]
     },
     "execution_count": 19,
     "metadata": {},
     "output_type": "execute_result"
    }
   ],
   "source": [
    "high_quality"
   ]
  },
  {
   "cell_type": "code",
   "execution_count": 20,
   "metadata": {},
   "outputs": [
    {
     "data": {
      "text/plain": [
       "array([False, False, False])"
      ]
     },
     "execution_count": 20,
     "metadata": {},
     "output_type": "execute_result"
    }
   ],
   "source": [
    "# first 3 rows\n",
    "high_quality[:3]"
   ]
  },
  {
   "cell_type": "markdown",
   "metadata": {},
   "source": [
    "**Show only top 3 rows and all columns of high_quality wines wines**"
   ]
  },
  {
   "cell_type": "markdown",
   "metadata": {},
   "source": [
    "https://thispointer.com/python-numpy-select-elements-or-indices-by-conditions-from-numpy-array/"
   ]
  },
  {
   "cell_type": "code",
   "execution_count": 21,
   "metadata": {},
   "outputs": [
    {
     "data": {
      "text/plain": [
       "array([[7.900e+00, 3.500e-01, 4.600e-01, 3.600e+00, 7.800e-02, 1.500e+01,\n",
       "        3.700e+01, 9.973e-01, 3.350e+00, 8.600e-01, 1.280e+01, 8.000e+00],\n",
       "       [1.030e+01, 3.200e-01, 4.500e-01, 6.400e+00, 7.300e-02, 5.000e+00,\n",
       "        1.300e+01, 9.976e-01, 3.230e+00, 8.200e-01, 1.260e+01, 8.000e+00],\n",
       "       [5.600e+00, 8.500e-01, 5.000e-02, 1.400e+00, 4.500e-02, 1.200e+01,\n",
       "        8.800e+01, 9.924e-01, 3.560e+00, 8.200e-01, 1.290e+01, 8.000e+00]])"
      ]
     },
     "execution_count": 21,
     "metadata": {},
     "output_type": "execute_result"
    }
   ],
   "source": [
    "wines[high_quality][:3,]"
   ]
  },
  {
   "cell_type": "markdown",
   "metadata": {},
   "source": [
    "**Show wines with a lot of alcohol > 10 and high wine quality > 7**"
   ]
  },
  {
   "cell_type": "code",
   "execution_count": 22,
   "metadata": {},
   "outputs": [
    {
     "data": {
      "text/plain": [
       "array([[7.9000e+00, 3.5000e-01, 4.6000e-01, 3.6000e+00, 7.8000e-02,\n",
       "        1.5000e+01, 3.7000e+01, 9.9730e-01, 3.3500e+00, 8.6000e-01,\n",
       "        1.2800e+01, 8.0000e+00],\n",
       "       [1.0300e+01, 3.2000e-01, 4.5000e-01, 6.4000e+00, 7.3000e-02,\n",
       "        5.0000e+00, 1.3000e+01, 9.9760e-01, 3.2300e+00, 8.2000e-01,\n",
       "        1.2600e+01, 8.0000e+00],\n",
       "       [5.6000e+00, 8.5000e-01, 5.0000e-02, 1.4000e+00, 4.5000e-02,\n",
       "        1.2000e+01, 8.8000e+01, 9.9240e-01, 3.5600e+00, 8.2000e-01,\n",
       "        1.2900e+01, 8.0000e+00],\n",
       "       [1.1300e+01, 6.2000e-01, 6.7000e-01, 5.2000e+00, 8.6000e-02,\n",
       "        6.0000e+00, 1.9000e+01, 9.9880e-01, 3.2200e+00, 6.9000e-01,\n",
       "        1.3400e+01, 8.0000e+00],\n",
       "       [9.4000e+00, 3.0000e-01, 5.6000e-01, 2.8000e+00, 8.0000e-02,\n",
       "        6.0000e+00, 1.7000e+01, 9.9640e-01, 3.1500e+00, 9.2000e-01,\n",
       "        1.1700e+01, 8.0000e+00],\n",
       "       [1.0700e+01, 3.5000e-01, 5.3000e-01, 2.6000e+00, 7.0000e-02,\n",
       "        5.0000e+00, 1.6000e+01, 9.9720e-01, 3.1500e+00, 6.5000e-01,\n",
       "        1.1000e+01, 8.0000e+00],\n",
       "       [1.0700e+01, 3.5000e-01, 5.3000e-01, 2.6000e+00, 7.0000e-02,\n",
       "        5.0000e+00, 1.6000e+01, 9.9720e-01, 3.1500e+00, 6.5000e-01,\n",
       "        1.1000e+01, 8.0000e+00],\n",
       "       [5.0000e+00, 4.2000e-01, 2.4000e-01, 2.0000e+00, 6.0000e-02,\n",
       "        1.9000e+01, 5.0000e+01, 9.9170e-01, 3.7200e+00, 7.4000e-01,\n",
       "        1.4000e+01, 8.0000e+00],\n",
       "       [7.8000e+00, 5.7000e-01, 9.0000e-02, 2.3000e+00, 6.5000e-02,\n",
       "        3.4000e+01, 4.5000e+01, 9.9417e-01, 3.4600e+00, 7.4000e-01,\n",
       "        1.2700e+01, 8.0000e+00],\n",
       "       [9.1000e+00, 4.0000e-01, 5.0000e-01, 1.8000e+00, 7.1000e-02,\n",
       "        7.0000e+00, 1.6000e+01, 9.9462e-01, 3.2100e+00, 6.9000e-01,\n",
       "        1.2500e+01, 8.0000e+00],\n",
       "       [1.0000e+01, 2.6000e-01, 5.4000e-01, 1.9000e+00, 8.3000e-02,\n",
       "        4.2000e+01, 7.4000e+01, 9.9451e-01, 2.9800e+00, 6.3000e-01,\n",
       "        1.1800e+01, 8.0000e+00],\n",
       "       [7.9000e+00, 5.4000e-01, 3.4000e-01, 2.5000e+00, 7.6000e-02,\n",
       "        8.0000e+00, 1.7000e+01, 9.9235e-01, 3.2000e+00, 7.2000e-01,\n",
       "        1.3100e+01, 8.0000e+00],\n",
       "       [8.6000e+00, 4.2000e-01, 3.9000e-01, 1.8000e+00, 6.8000e-02,\n",
       "        6.0000e+00, 1.2000e+01, 9.9516e-01, 3.3500e+00, 6.9000e-01,\n",
       "        1.1700e+01, 8.0000e+00],\n",
       "       [5.5000e+00, 4.9000e-01, 3.0000e-02, 1.8000e+00, 4.4000e-02,\n",
       "        2.8000e+01, 8.7000e+01, 9.9080e-01, 3.5000e+00, 8.2000e-01,\n",
       "        1.4000e+01, 8.0000e+00],\n",
       "       [7.2000e+00, 3.8000e-01, 3.1000e-01, 2.0000e+00, 5.6000e-02,\n",
       "        1.5000e+01, 2.9000e+01, 9.9472e-01, 3.2300e+00, 7.6000e-01,\n",
       "        1.1300e+01, 8.0000e+00],\n",
       "       [7.4000e+00, 3.6000e-01, 3.0000e-01, 1.8000e+00, 7.4000e-02,\n",
       "        1.7000e+01, 2.4000e+01, 9.9419e-01, 3.2400e+00, 7.0000e-01,\n",
       "        1.1400e+01, 8.0000e+00]])"
      ]
     },
     "execution_count": 22,
     "metadata": {},
     "output_type": "execute_result"
    }
   ],
   "source": [
    "alc = (wines[:,10]>10) & (wines[:,11]>7)\n",
    "alc = wines[alc,:]\n",
    "alc\n"
   ]
  },
  {
   "cell_type": "markdown",
   "metadata": {},
   "source": [
    "**show only alcohol and wine quality columns**"
   ]
  },
  {
   "cell_type": "code",
   "execution_count": 23,
   "metadata": {},
   "outputs": [
    {
     "data": {
      "text/plain": [
       "array([[12.8,  8. ],\n",
       "       [12.6,  8. ],\n",
       "       [12.9,  8. ],\n",
       "       [13.4,  8. ],\n",
       "       [11.7,  8. ],\n",
       "       [11. ,  8. ],\n",
       "       [11. ,  8. ],\n",
       "       [14. ,  8. ],\n",
       "       [12.7,  8. ],\n",
       "       [12.5,  8. ],\n",
       "       [11.8,  8. ],\n",
       "       [13.1,  8. ],\n",
       "       [11.7,  8. ],\n",
       "       [14. ,  8. ],\n",
       "       [11.3,  8. ],\n",
       "       [11.4,  8. ]])"
      ]
     },
     "execution_count": 23,
     "metadata": {},
     "output_type": "execute_result"
    }
   ],
   "source": [
    "alc[:,10:12]"
   ]
  },
  {
   "cell_type": "markdown",
   "metadata": {},
   "source": [
    "# Combining NumPy Arrays"
   ]
  },
  {
   "cell_type": "markdown",
   "metadata": {},
   "source": [
    "**Combine red wine and white wine wines**"
   ]
  },
  {
   "cell_type": "code",
   "execution_count": 24,
   "metadata": {},
   "outputs": [
    {
     "data": {
      "text/plain": [
       "array([[ 7.  ,  0.27,  0.36, ...,  0.45,  8.8 ,  6.  ],\n",
       "       [ 6.3 ,  0.3 ,  0.34, ...,  0.49,  9.5 ,  6.  ],\n",
       "       [ 8.1 ,  0.28,  0.4 , ...,  0.44, 10.1 ,  6.  ],\n",
       "       ...,\n",
       "       [ 6.5 ,  0.24,  0.19, ...,  0.46,  9.4 ,  6.  ],\n",
       "       [ 5.5 ,  0.29,  0.3 , ...,  0.38, 12.8 ,  7.  ],\n",
       "       [ 6.  ,  0.21,  0.38, ...,  0.32, 11.8 ,  6.  ]])"
      ]
     },
     "execution_count": 24,
     "metadata": {},
     "output_type": "execute_result"
    }
   ],
   "source": [
    "white_wines = np.genfromtxt(\"winequality-white.csv\", delimiter=\",\", skip_header=1)\n",
    "white_wines"
   ]
  },
  {
   "cell_type": "markdown",
   "metadata": {},
   "source": [
    "**Show size of white_wines**"
   ]
  },
  {
   "cell_type": "code",
   "execution_count": 25,
   "metadata": {},
   "outputs": [
    {
     "data": {
      "text/plain": [
       "(4898, 12)"
      ]
     },
     "execution_count": 25,
     "metadata": {},
     "output_type": "execute_result"
    }
   ],
   "source": [
    "white_wines.shape"
   ]
  },
  {
   "cell_type": "markdown",
   "metadata": {},
   "source": [
    "**combine wines and white_wines wines frames using vstack and call it all_wines**"
   ]
  },
  {
   "cell_type": "code",
   "execution_count": 26,
   "metadata": {},
   "outputs": [],
   "source": [
    "all_wines = np.vstack((wines,white_wines))"
   ]
  },
  {
   "cell_type": "code",
   "execution_count": 27,
   "metadata": {},
   "outputs": [
    {
     "data": {
      "text/plain": [
       "array([[ 7.4 ,  0.7 ,  0.  , ...,  0.56,  9.4 ,  5.  ],\n",
       "       [ 7.8 ,  0.88,  0.  , ...,  0.68,  9.8 ,  5.  ],\n",
       "       [ 7.8 ,  0.76,  0.04, ...,  0.65,  9.8 ,  5.  ],\n",
       "       ...,\n",
       "       [ 6.5 ,  0.24,  0.19, ...,  0.46,  9.4 ,  6.  ],\n",
       "       [ 5.5 ,  0.29,  0.3 , ...,  0.38, 12.8 ,  7.  ],\n",
       "       [ 6.  ,  0.21,  0.38, ...,  0.32, 11.8 ,  6.  ]])"
      ]
     },
     "execution_count": 27,
     "metadata": {},
     "output_type": "execute_result"
    }
   ],
   "source": [
    "all_wines"
   ]
  },
  {
   "cell_type": "code",
   "execution_count": 28,
   "metadata": {},
   "outputs": [
    {
     "data": {
      "text/plain": [
       "(6497, 12)"
      ]
     },
     "execution_count": 28,
     "metadata": {},
     "output_type": "execute_result"
    }
   ],
   "source": [
    "all_wines.shape"
   ]
  },
  {
   "cell_type": "markdown",
   "metadata": {},
   "source": [
    "**Combine wines and white_wines wines frames using concatenate method**"
   ]
  },
  {
   "cell_type": "code",
   "execution_count": 29,
   "metadata": {},
   "outputs": [],
   "source": [
    "wines2 = np.concatenate((wines,white_wines))"
   ]
  },
  {
   "cell_type": "code",
   "execution_count": 30,
   "metadata": {},
   "outputs": [
    {
     "data": {
      "text/plain": [
       "(6497, 12)"
      ]
     },
     "execution_count": 30,
     "metadata": {},
     "output_type": "execute_result"
    }
   ],
   "source": [
    "# size of wines2\n",
    "wines2.shape"
   ]
  },
  {
   "cell_type": "markdown",
   "metadata": {},
   "source": [
    "# Matrix Operations and Reshape"
   ]
  },
  {
   "cell_type": "markdown",
   "metadata": {},
   "source": [
    "**Find Transpose of wines and print its size**"
   ]
  },
  {
   "cell_type": "code",
   "execution_count": 31,
   "metadata": {},
   "outputs": [
    {
     "data": {
      "text/plain": [
       "(12, 1599)"
      ]
     },
     "execution_count": 31,
     "metadata": {},
     "output_type": "execute_result"
    }
   ],
   "source": [
    "trans = np.transpose(wines)\n",
    "trans.shape"
   ]
  },
  {
   "cell_type": "markdown",
   "metadata": {},
   "source": [
    "**Convert wines wines into 1D array**"
   ]
  },
  {
   "cell_type": "code",
   "execution_count": 32,
   "metadata": {},
   "outputs": [
    {
     "data": {
      "text/plain": [
       "array([ 7.4 ,  0.7 ,  0.  , ...,  0.66, 11.  ,  6.  ])"
      ]
     },
     "execution_count": 32,
     "metadata": {},
     "output_type": "execute_result"
    }
   ],
   "source": [
    "wines.ravel()"
   ]
  },
  {
   "cell_type": "code",
   "execution_count": 33,
   "metadata": {},
   "outputs": [
    {
     "data": {
      "text/plain": [
       "(19188,)"
      ]
     },
     "execution_count": 33,
     "metadata": {},
     "output_type": "execute_result"
    }
   ],
   "source": [
    "# show size\n",
    "wines.ravel().shape"
   ]
  },
  {
   "cell_type": "markdown",
   "metadata": {},
   "source": [
    "**Reshape second row of wines into a 2-dimensional array with 2 rows and 6 columns**"
   ]
  },
  {
   "cell_type": "code",
   "execution_count": 34,
   "metadata": {},
   "outputs": [
    {
     "data": {
      "text/plain": [
       "array([[ 7.8   ,  0.88  ,  0.    ,  2.6   ,  0.098 , 25.    ],\n",
       "       [67.    ,  0.9968,  3.2   ,  0.68  ,  9.8   ,  5.    ]])"
      ]
     },
     "execution_count": 34,
     "metadata": {},
     "output_type": "execute_result"
    }
   ],
   "source": [
    "wines[1,:].reshape(2,6)"
   ]
  },
  {
   "cell_type": "markdown",
   "metadata": {},
   "source": [
    "**Sort alcohol column Ascending Order**"
   ]
  },
  {
   "cell_type": "code",
   "execution_count": 35,
   "metadata": {},
   "outputs": [],
   "source": [
    "sorted_alcohol = np.sort(wines[:,10])"
   ]
  },
  {
   "cell_type": "code",
   "execution_count": 36,
   "metadata": {},
   "outputs": [
    {
     "data": {
      "text/plain": [
       "array([ 8.4,  8.4,  8.5, ..., 14. , 14. , 14.9])"
      ]
     },
     "execution_count": 36,
     "metadata": {},
     "output_type": "execute_result"
    }
   ],
   "source": [
    "sorted_alcohol"
   ]
  },
  {
   "cell_type": "markdown",
   "metadata": {},
   "source": [
    "**Make sorting to take place in-place**"
   ]
  },
  {
   "cell_type": "code",
   "execution_count": 39,
   "metadata": {},
   "outputs": [],
   "source": [
    "wines[:,-2].sort()"
   ]
  },
  {
   "cell_type": "markdown",
   "metadata": {},
   "source": [
    "**Show top 10 rows**"
   ]
  },
  {
   "cell_type": "code",
   "execution_count": 40,
   "metadata": {},
   "outputs": [
    {
     "data": {
      "text/plain": [
       "array([ 8.4,  8.4,  8.5, ..., 14. , 14. , 14.9])"
      ]
     },
     "execution_count": 40,
     "metadata": {},
     "output_type": "execute_result"
    }
   ],
   "source": [
    "wines[:,-2]"
   ]
  },
  {
   "cell_type": "markdown",
   "metadata": {},
   "source": [
    "**Sort alcohol column Descending Order**"
   ]
  },
  {
   "cell_type": "code",
   "execution_count": 41,
   "metadata": {},
   "outputs": [],
   "source": [
    "sorted_alcohol_desc=np.sort(wines[:,10])[::-1]"
   ]
  },
  {
   "cell_type": "code",
   "execution_count": 42,
   "metadata": {},
   "outputs": [
    {
     "data": {
      "text/plain": [
       "array([14.9, 14. , 14. , ...,  8.5,  8.4,  8.4])"
      ]
     },
     "execution_count": 42,
     "metadata": {},
     "output_type": "execute_result"
    }
   ],
   "source": [
    "sorted_alcohol_desc"
   ]
  },
  {
   "cell_type": "markdown",
   "metadata": {},
   "source": [
    "**Will original wines be modified?. Check top 10 rows**"
   ]
  },
  {
   "cell_type": "code",
   "execution_count": 43,
   "metadata": {},
   "outputs": [
    {
     "data": {
      "text/plain": [
       "array([ 8.4,  8.4,  8.5, ..., 14. , 14. , 14.9])"
      ]
     },
     "execution_count": 43,
     "metadata": {},
     "output_type": "execute_result"
    }
   ],
   "source": [
    "wines[:,-2]"
   ]
  }
 ],
 "metadata": {
  "kernelspec": {
   "display_name": "Python 3 (ipykernel)",
   "language": "python",
   "name": "python3"
  },
  "language_info": {
   "codemirror_mode": {
    "name": "ipython",
    "version": 3
   },
   "file_extension": ".py",
   "mimetype": "text/x-python",
   "name": "python",
   "nbconvert_exporter": "python",
   "pygments_lexer": "ipython3",
   "version": "3.9.12"
  }
 },
 "nbformat": 4,
 "nbformat_minor": 2
}
