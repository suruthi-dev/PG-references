{
 "cells": [
  {
   "cell_type": "markdown",
   "metadata": {},
   "source": [
    "# SURUTHI S\n",
    "# 225229141"
   ]
  },
  {
   "cell_type": "markdown",
   "metadata": {},
   "source": [
    "# DVA INTERNAL 1"
   ]
  },
  {
   "cell_type": "markdown",
   "metadata": {},
   "source": [
    "#  LOAN DATASET"
   ]
  },
  {
   "cell_type": "code",
   "execution_count": 1,
   "metadata": {},
   "outputs": [],
   "source": [
    "import numpy as np\n",
    "import pandas as pd\n",
    "import warnings\n",
    "warnings.filterwarnings('ignore')"
   ]
  },
  {
   "cell_type": "markdown",
   "metadata": {},
   "source": [
    "# 1. Import above dataset\n"
   ]
  },
  {
   "cell_type": "code",
   "execution_count": 2,
   "metadata": {},
   "outputs": [],
   "source": [
    "df = pd.read_csv(\"loan.csv\")"
   ]
  },
  {
   "cell_type": "code",
   "execution_count": 3,
   "metadata": {},
   "outputs": [
    {
     "data": {
      "text/html": [
       "<div>\n",
       "<style scoped>\n",
       "    .dataframe tbody tr th:only-of-type {\n",
       "        vertical-align: middle;\n",
       "    }\n",
       "\n",
       "    .dataframe tbody tr th {\n",
       "        vertical-align: top;\n",
       "    }\n",
       "\n",
       "    .dataframe thead th {\n",
       "        text-align: right;\n",
       "    }\n",
       "</style>\n",
       "<table border=\"1\" class=\"dataframe\">\n",
       "  <thead>\n",
       "    <tr style=\"text-align: right;\">\n",
       "      <th></th>\n",
       "      <th>id</th>\n",
       "      <th>member_id</th>\n",
       "      <th>loan_amnt</th>\n",
       "      <th>funded_amnt</th>\n",
       "      <th>funded_amnt_inv</th>\n",
       "      <th>term</th>\n",
       "      <th>int_rate</th>\n",
       "      <th>installment</th>\n",
       "      <th>grade</th>\n",
       "      <th>sub_grade</th>\n",
       "      <th>...</th>\n",
       "      <th>num_tl_90g_dpd_24m</th>\n",
       "      <th>num_tl_op_past_12m</th>\n",
       "      <th>pct_tl_nvr_dlq</th>\n",
       "      <th>percent_bc_gt_75</th>\n",
       "      <th>pub_rec_bankruptcies</th>\n",
       "      <th>tax_liens</th>\n",
       "      <th>tot_hi_cred_lim</th>\n",
       "      <th>total_bal_ex_mort</th>\n",
       "      <th>total_bc_limit</th>\n",
       "      <th>total_il_high_credit_limit</th>\n",
       "    </tr>\n",
       "  </thead>\n",
       "  <tbody>\n",
       "    <tr>\n",
       "      <th>0</th>\n",
       "      <td>1077501</td>\n",
       "      <td>1296599</td>\n",
       "      <td>5000</td>\n",
       "      <td>5000</td>\n",
       "      <td>4975.0</td>\n",
       "      <td>36 months</td>\n",
       "      <td>10.65%</td>\n",
       "      <td>162.87</td>\n",
       "      <td>B</td>\n",
       "      <td>B2</td>\n",
       "      <td>...</td>\n",
       "      <td>NaN</td>\n",
       "      <td>NaN</td>\n",
       "      <td>NaN</td>\n",
       "      <td>NaN</td>\n",
       "      <td>0.0</td>\n",
       "      <td>0.0</td>\n",
       "      <td>NaN</td>\n",
       "      <td>NaN</td>\n",
       "      <td>NaN</td>\n",
       "      <td>NaN</td>\n",
       "    </tr>\n",
       "    <tr>\n",
       "      <th>1</th>\n",
       "      <td>1077430</td>\n",
       "      <td>1314167</td>\n",
       "      <td>2500</td>\n",
       "      <td>2500</td>\n",
       "      <td>2500.0</td>\n",
       "      <td>60 months</td>\n",
       "      <td>15.27%</td>\n",
       "      <td>59.83</td>\n",
       "      <td>C</td>\n",
       "      <td>C4</td>\n",
       "      <td>...</td>\n",
       "      <td>NaN</td>\n",
       "      <td>NaN</td>\n",
       "      <td>NaN</td>\n",
       "      <td>NaN</td>\n",
       "      <td>0.0</td>\n",
       "      <td>0.0</td>\n",
       "      <td>NaN</td>\n",
       "      <td>NaN</td>\n",
       "      <td>NaN</td>\n",
       "      <td>NaN</td>\n",
       "    </tr>\n",
       "    <tr>\n",
       "      <th>2</th>\n",
       "      <td>1077175</td>\n",
       "      <td>1313524</td>\n",
       "      <td>2400</td>\n",
       "      <td>2400</td>\n",
       "      <td>2400.0</td>\n",
       "      <td>36 months</td>\n",
       "      <td>15.96%</td>\n",
       "      <td>84.33</td>\n",
       "      <td>C</td>\n",
       "      <td>C5</td>\n",
       "      <td>...</td>\n",
       "      <td>NaN</td>\n",
       "      <td>NaN</td>\n",
       "      <td>NaN</td>\n",
       "      <td>NaN</td>\n",
       "      <td>0.0</td>\n",
       "      <td>0.0</td>\n",
       "      <td>NaN</td>\n",
       "      <td>NaN</td>\n",
       "      <td>NaN</td>\n",
       "      <td>NaN</td>\n",
       "    </tr>\n",
       "    <tr>\n",
       "      <th>3</th>\n",
       "      <td>1076863</td>\n",
       "      <td>1277178</td>\n",
       "      <td>10000</td>\n",
       "      <td>10000</td>\n",
       "      <td>10000.0</td>\n",
       "      <td>36 months</td>\n",
       "      <td>13.49%</td>\n",
       "      <td>339.31</td>\n",
       "      <td>C</td>\n",
       "      <td>C1</td>\n",
       "      <td>...</td>\n",
       "      <td>NaN</td>\n",
       "      <td>NaN</td>\n",
       "      <td>NaN</td>\n",
       "      <td>NaN</td>\n",
       "      <td>0.0</td>\n",
       "      <td>0.0</td>\n",
       "      <td>NaN</td>\n",
       "      <td>NaN</td>\n",
       "      <td>NaN</td>\n",
       "      <td>NaN</td>\n",
       "    </tr>\n",
       "    <tr>\n",
       "      <th>4</th>\n",
       "      <td>1075358</td>\n",
       "      <td>1311748</td>\n",
       "      <td>3000</td>\n",
       "      <td>3000</td>\n",
       "      <td>3000.0</td>\n",
       "      <td>60 months</td>\n",
       "      <td>12.69%</td>\n",
       "      <td>67.79</td>\n",
       "      <td>B</td>\n",
       "      <td>B5</td>\n",
       "      <td>...</td>\n",
       "      <td>NaN</td>\n",
       "      <td>NaN</td>\n",
       "      <td>NaN</td>\n",
       "      <td>NaN</td>\n",
       "      <td>0.0</td>\n",
       "      <td>0.0</td>\n",
       "      <td>NaN</td>\n",
       "      <td>NaN</td>\n",
       "      <td>NaN</td>\n",
       "      <td>NaN</td>\n",
       "    </tr>\n",
       "  </tbody>\n",
       "</table>\n",
       "<p>5 rows × 111 columns</p>\n",
       "</div>"
      ],
      "text/plain": [
       "        id  member_id  loan_amnt  funded_amnt  funded_amnt_inv        term  \\\n",
       "0  1077501    1296599       5000         5000           4975.0   36 months   \n",
       "1  1077430    1314167       2500         2500           2500.0   60 months   \n",
       "2  1077175    1313524       2400         2400           2400.0   36 months   \n",
       "3  1076863    1277178      10000        10000          10000.0   36 months   \n",
       "4  1075358    1311748       3000         3000           3000.0   60 months   \n",
       "\n",
       "  int_rate  installment grade sub_grade  ... num_tl_90g_dpd_24m  \\\n",
       "0   10.65%       162.87     B        B2  ...                NaN   \n",
       "1   15.27%        59.83     C        C4  ...                NaN   \n",
       "2   15.96%        84.33     C        C5  ...                NaN   \n",
       "3   13.49%       339.31     C        C1  ...                NaN   \n",
       "4   12.69%        67.79     B        B5  ...                NaN   \n",
       "\n",
       "  num_tl_op_past_12m pct_tl_nvr_dlq  percent_bc_gt_75 pub_rec_bankruptcies  \\\n",
       "0                NaN            NaN               NaN                  0.0   \n",
       "1                NaN            NaN               NaN                  0.0   \n",
       "2                NaN            NaN               NaN                  0.0   \n",
       "3                NaN            NaN               NaN                  0.0   \n",
       "4                NaN            NaN               NaN                  0.0   \n",
       "\n",
       "  tax_liens tot_hi_cred_lim total_bal_ex_mort total_bc_limit  \\\n",
       "0       0.0             NaN               NaN            NaN   \n",
       "1       0.0             NaN               NaN            NaN   \n",
       "2       0.0             NaN               NaN            NaN   \n",
       "3       0.0             NaN               NaN            NaN   \n",
       "4       0.0             NaN               NaN            NaN   \n",
       "\n",
       "  total_il_high_credit_limit  \n",
       "0                        NaN  \n",
       "1                        NaN  \n",
       "2                        NaN  \n",
       "3                        NaN  \n",
       "4                        NaN  \n",
       "\n",
       "[5 rows x 111 columns]"
      ]
     },
     "execution_count": 3,
     "metadata": {},
     "output_type": "execute_result"
    }
   ],
   "source": [
    "df.head()"
   ]
  },
  {
   "cell_type": "markdown",
   "metadata": {},
   "source": []
  },
  {
   "cell_type": "code",
   "execution_count": 4,
   "metadata": {},
   "outputs": [
    {
     "data": {
      "text/plain": [
       "Index(['id', 'member_id', 'loan_amnt', 'funded_amnt', 'funded_amnt_inv',\n",
       "       'term', 'int_rate', 'installment', 'grade', 'sub_grade',\n",
       "       ...\n",
       "       'num_tl_90g_dpd_24m', 'num_tl_op_past_12m', 'pct_tl_nvr_dlq',\n",
       "       'percent_bc_gt_75', 'pub_rec_bankruptcies', 'tax_liens',\n",
       "       'tot_hi_cred_lim', 'total_bal_ex_mort', 'total_bc_limit',\n",
       "       'total_il_high_credit_limit'],\n",
       "      dtype='object', length=111)"
      ]
     },
     "execution_count": 4,
     "metadata": {},
     "output_type": "execute_result"
    }
   ],
   "source": [
    "df.columns"
   ]
  },
  {
   "cell_type": "code",
   "execution_count": 5,
   "metadata": {},
   "outputs": [
    {
     "data": {
      "text/plain": [
       "(39717, 111)"
      ]
     },
     "execution_count": 5,
     "metadata": {},
     "output_type": "execute_result"
    }
   ],
   "source": [
    "df.shape"
   ]
  },
  {
   "cell_type": "markdown",
   "metadata": {},
   "source": []
  },
  {
   "cell_type": "markdown",
   "metadata": {},
   "source": [
    "# 2.Find the number of missing value in each column."
   ]
  },
  {
   "cell_type": "code",
   "execution_count": 6,
   "metadata": {},
   "outputs": [
    {
     "data": {
      "text/plain": [
       "id                                0\n",
       "member_id                         0\n",
       "loan_amnt                         0\n",
       "funded_amnt                       0\n",
       "funded_amnt_inv                   0\n",
       "                              ...  \n",
       "tax_liens                        39\n",
       "tot_hi_cred_lim               39717\n",
       "total_bal_ex_mort             39717\n",
       "total_bc_limit                39717\n",
       "total_il_high_credit_limit    39717\n",
       "Length: 111, dtype: int64"
      ]
     },
     "execution_count": 6,
     "metadata": {},
     "output_type": "execute_result"
    }
   ],
   "source": [
    "df.isnull().sum()"
   ]
  },
  {
   "cell_type": "code",
   "execution_count": 7,
   "metadata": {},
   "outputs": [],
   "source": [
    "# number of columns in df = 111"
   ]
  },
  {
   "cell_type": "markdown",
   "metadata": {},
   "source": []
  },
  {
   "cell_type": "markdown",
   "metadata": {},
   "source": [
    "# 3. Find which column has 100 % of missing values? and Drop that columns."
   ]
  },
  {
   "cell_type": "code",
   "execution_count": null,
   "metadata": {},
   "outputs": [],
   "source": []
  },
  {
   "cell_type": "code",
   "execution_count": 82,
   "metadata": {},
   "outputs": [],
   "source": [
    "# dropping  the columns (axis =1 )that has 100% missing values (how = 'all')\n",
    "\n",
    "non_null = df.dropna(axis=1,how='all')"
   ]
  },
  {
   "cell_type": "code",
   "execution_count": 9,
   "metadata": {
    "scrolled": true
   },
   "outputs": [
    {
     "name": "stdout",
     "output_type": "stream",
     "text": [
      "Columns in df that do not 100 % of missing values\n",
      "\n",
      "id                             0.000000\n",
      "member_id                      0.000000\n",
      "loan_amnt                      0.000000\n",
      "funded_amnt                    0.000000\n",
      "funded_amnt_inv                0.000000\n",
      "term                           0.000000\n",
      "int_rate                       0.000000\n",
      "installment                    0.000000\n",
      "grade                          0.000000\n",
      "sub_grade                      0.000000\n",
      "emp_title                      6.191303\n",
      "emp_length                     2.706650\n",
      "home_ownership                 0.000000\n",
      "annual_inc                     0.000000\n",
      "verification_status            0.000000\n",
      "issue_d                        0.000000\n",
      "loan_status                    0.000000\n",
      "pymnt_plan                     0.000000\n",
      "url                            0.000000\n",
      "desc                          32.580507\n",
      "purpose                        0.000000\n",
      "title                          0.027696\n",
      "zip_code                       0.000000\n",
      "addr_state                     0.000000\n",
      "dti                            0.000000\n",
      "delinq_2yrs                    0.000000\n",
      "earliest_cr_line               0.000000\n",
      "inq_last_6mths                 0.000000\n",
      "mths_since_last_delinq        64.662487\n",
      "mths_since_last_record        92.985372\n",
      "open_acc                       0.000000\n",
      "pub_rec                        0.000000\n",
      "revol_bal                      0.000000\n",
      "revol_util                     0.125891\n",
      "total_acc                      0.000000\n",
      "initial_list_status            0.000000\n",
      "out_prncp                      0.000000\n",
      "out_prncp_inv                  0.000000\n",
      "total_pymnt                    0.000000\n",
      "total_pymnt_inv                0.000000\n",
      "total_rec_prncp                0.000000\n",
      "total_rec_int                  0.000000\n",
      "total_rec_late_fee             0.000000\n",
      "recoveries                     0.000000\n",
      "collection_recovery_fee        0.000000\n",
      "last_pymnt_d                   0.178765\n",
      "last_pymnt_amnt                0.000000\n",
      "next_pymnt_d                  97.129693\n",
      "last_credit_pull_d             0.005036\n",
      "collections_12_mths_ex_med     0.140998\n",
      "policy_code                    0.000000\n",
      "application_type               0.000000\n",
      "acc_now_delinq                 0.000000\n",
      "chargeoff_within_12_mths       0.140998\n",
      "delinq_amnt                    0.000000\n",
      "pub_rec_bankruptcies           1.754916\n",
      "tax_liens                      0.098195\n",
      "dtype: float64\n"
     ]
    }
   ],
   "source": [
    "print('Columns in df that do not 100 % of missing values\\n')\n",
    "print(non_null.isnull().sum() * 100 / len(df))\n"
   ]
  },
  {
   "cell_type": "code",
   "execution_count": 10,
   "metadata": {},
   "outputs": [
    {
     "data": {
      "text/plain": [
       "(39717, 57)"
      ]
     },
     "execution_count": 10,
     "metadata": {},
     "output_type": "execute_result"
    }
   ],
   "source": [
    "non_null.shape"
   ]
  },
  {
   "cell_type": "code",
   "execution_count": 11,
   "metadata": {},
   "outputs": [],
   "source": [
    "# initial number of columns = 111\n",
    "#  after dropping  that have 100% missing value = 57"
   ]
  },
  {
   "cell_type": "code",
   "execution_count": null,
   "metadata": {},
   "outputs": [],
   "source": []
  },
  {
   "cell_type": "markdown",
   "metadata": {},
   "source": [
    "## 4. Change 'loan_status' feature value, if it has ‘Fully Paid’ \n",
    "## then change its value as ‘0’ and if it has ‘Charged Off’ then change its value as ‘1’.\n"
   ]
  },
  {
   "cell_type": "markdown",
   "metadata": {},
   "source": [
    "### ‘Fully Paid’ as 0\n",
    "### ‘Charged Off’ as 1\n"
   ]
  },
  {
   "cell_type": "code",
   "execution_count": null,
   "metadata": {},
   "outputs": [],
   "source": []
  },
  {
   "cell_type": "code",
   "execution_count": 12,
   "metadata": {},
   "outputs": [
    {
     "data": {
      "text/plain": [
       "array(['Fully Paid', 'Charged Off', 'Current'], dtype=object)"
      ]
     },
     "execution_count": 12,
     "metadata": {},
     "output_type": "execute_result"
    }
   ],
   "source": [
    "df['loan_status'].unique()\n",
    "\n",
    "# categories = 'Fully Paid', 'Charged Off', 'Current'"
   ]
  },
  {
   "cell_type": "code",
   "execution_count": 13,
   "metadata": {},
   "outputs": [],
   "source": [
    "df['loan_status'] = df['loan_status'].replace({\n",
    "    'Fully Paid' : 0,\n",
    "    'Charged Off' :1\n",
    "})"
   ]
  },
  {
   "cell_type": "code",
   "execution_count": 14,
   "metadata": {},
   "outputs": [
    {
     "data": {
      "text/plain": [
       "array([0, 1, 'Current'], dtype=object)"
      ]
     },
     "execution_count": 14,
     "metadata": {},
     "output_type": "execute_result"
    }
   ],
   "source": [
    "df['loan_status'].unique()\n",
    "\n",
    "# categories after mapping = ([0, 1, 'Current']"
   ]
  },
  {
   "cell_type": "markdown",
   "metadata": {},
   "source": []
  },
  {
   "cell_type": "markdown",
   "metadata": {},
   "source": []
  },
  {
   "cell_type": "markdown",
   "metadata": {},
   "source": [
    "# 5. Find the total received intrest amount (total_rec_int) of ‘Fully Paid’ customer with ‘term’ is ’60 month’"
   ]
  },
  {
   "cell_type": "code",
   "execution_count": 16,
   "metadata": {},
   "outputs": [
    {
     "data": {
      "text/plain": [
       "0         863.16\n",
       "1         435.17\n",
       "2         605.67\n",
       "3        2214.92\n",
       "4        1037.39\n",
       "          ...   \n",
       "39712     322.97\n",
       "39713    1413.49\n",
       "39714     272.16\n",
       "39715     174.20\n",
       "39716    1695.26\n",
       "Name: total_rec_int, Length: 39717, dtype: float64"
      ]
     },
     "execution_count": 16,
     "metadata": {},
     "output_type": "execute_result"
    }
   ],
   "source": [
    "df.total_rec_int"
   ]
  },
  {
   "cell_type": "code",
   "execution_count": 17,
   "metadata": {},
   "outputs": [],
   "source": [
    "count = df['total_rec_int'].groupby([df.term,df.loan_status]).sum()"
   ]
  },
  {
   "cell_type": "code",
   "execution_count": 15,
   "metadata": {},
   "outputs": [],
   "source": [
    "# 0 marked as Fullypaid\n",
    "# 1 marked as Charged off"
   ]
  },
  {
   "cell_type": "code",
   "execution_count": 18,
   "metadata": {},
   "outputs": [
    {
     "data": {
      "text/plain": [
       "term        loan_status\n",
       " 36 months  0              37744723.41\n",
       "            1               3825084.93\n",
       " 60 months  0              31661105.13\n",
       "            1               8523138.03\n",
       "            Current         8151858.71\n",
       "Name: total_rec_int, dtype: float64"
      ]
     },
     "execution_count": 18,
     "metadata": {},
     "output_type": "execute_result"
    }
   ],
   "source": [
    "count"
   ]
  },
  {
   "cell_type": "code",
   "execution_count": 19,
   "metadata": {},
   "outputs": [
    {
     "data": {
      "text/plain": [
       "31661105.13"
      ]
     },
     "execution_count": 19,
     "metadata": {},
     "output_type": "execute_result"
    }
   ],
   "source": [
    "count[2]"
   ]
  },
  {
   "cell_type": "code",
   "execution_count": 23,
   "metadata": {},
   "outputs": [
    {
     "name": "stdout",
     "output_type": "stream",
     "text": [
      "The total received intrest amount (total_rec_int) of ‘Fully Paid’ customer with ‘term’ is ’60 month’ is 31661105.13\n"
     ]
    }
   ],
   "source": [
    "print(f'The total received intrest amount (total_rec_int) of ‘Fully Paid’ customer with ‘term’ is ’60 month’ is {count[2]}')"
   ]
  },
  {
   "cell_type": "code",
   "execution_count": null,
   "metadata": {},
   "outputs": [],
   "source": []
  },
  {
   "cell_type": "markdown",
   "metadata": {},
   "source": [
    "# 6.  Let’s convert the ‘issue_d”  column into datetime and then extract year and month from it.\n"
   ]
  },
  {
   "cell_type": "code",
   "execution_count": 24,
   "metadata": {},
   "outputs": [
    {
     "data": {
      "text/plain": [
       "0    Dec-11\n",
       "1    Dec-11\n",
       "2    Dec-11\n",
       "3    Dec-11\n",
       "4    Dec-11\n",
       "Name: issue_d, dtype: object"
      ]
     },
     "execution_count": 24,
     "metadata": {},
     "output_type": "execute_result"
    }
   ],
   "source": [
    "# viewing the current format\n",
    "df['issue_d'].head()"
   ]
  },
  {
   "cell_type": "code",
   "execution_count": 25,
   "metadata": {},
   "outputs": [],
   "source": [
    "# changing the format\n",
    "df['issue_d'] = pd.to_datetime(df.issue_d.str.upper(), format='%b-%y', yearfirst=False)"
   ]
  },
  {
   "cell_type": "code",
   "execution_count": 26,
   "metadata": {},
   "outputs": [
    {
     "data": {
      "text/plain": [
       "0   2011-12-01\n",
       "1   2011-12-01\n",
       "2   2011-12-01\n",
       "3   2011-12-01\n",
       "4   2011-12-01\n",
       "Name: issue_d, dtype: datetime64[ns]"
      ]
     },
     "execution_count": 26,
     "metadata": {},
     "output_type": "execute_result"
    }
   ],
   "source": [
    "df['issue_d'].head()"
   ]
  },
  {
   "cell_type": "markdown",
   "metadata": {},
   "source": [
    "##  extract year and month from it."
   ]
  },
  {
   "cell_type": "code",
   "execution_count": 27,
   "metadata": {},
   "outputs": [],
   "source": [
    "# formatted in year and month\n",
    "# converted from DEC -11 TO 2011-12\n",
    "\n",
    "df.year_month = df['issue_d'].dt.to_period('M')"
   ]
  },
  {
   "cell_type": "code",
   "execution_count": 34,
   "metadata": {},
   "outputs": [
    {
     "data": {
      "text/plain": [
       "0        2011-12\n",
       "1        2011-12\n",
       "2        2011-12\n",
       "3        2011-12\n",
       "4        2011-12\n",
       "          ...   \n",
       "39712    2007-07\n",
       "39713    2007-07\n",
       "39714    2007-07\n",
       "39715    2007-07\n",
       "39716    2007-06\n",
       "Name: issue_d, Length: 39717, dtype: period[M]"
      ]
     },
     "execution_count": 34,
     "metadata": {},
     "output_type": "execute_result"
    }
   ],
   "source": [
    "df.year_month"
   ]
  },
  {
   "cell_type": "markdown",
   "metadata": {},
   "source": [
    "## Extract year as a individual column"
   ]
  },
  {
   "cell_type": "code",
   "execution_count": 38,
   "metadata": {},
   "outputs": [],
   "source": [
    "df['year'] = df['issue_d'].dt.strftime('%Y')"
   ]
  },
  {
   "cell_type": "code",
   "execution_count": 39,
   "metadata": {},
   "outputs": [
    {
     "data": {
      "text/plain": [
       "0        2011\n",
       "1        2011\n",
       "2        2011\n",
       "3        2011\n",
       "4        2011\n",
       "         ... \n",
       "39712    2007\n",
       "39713    2007\n",
       "39714    2007\n",
       "39715    2007\n",
       "39716    2007\n",
       "Name: year, Length: 39717, dtype: object"
      ]
     },
     "execution_count": 39,
     "metadata": {},
     "output_type": "execute_result"
    }
   ],
   "source": [
    "df.year"
   ]
  },
  {
   "cell_type": "code",
   "execution_count": 52,
   "metadata": {},
   "outputs": [
    {
     "data": {
      "text/plain": [
       "array(['2011', '2010', '2009', '2008', '2007'], dtype=object)"
      ]
     },
     "execution_count": 52,
     "metadata": {},
     "output_type": "execute_result"
    }
   ],
   "source": [
    "df['year'].unique()"
   ]
  },
  {
   "cell_type": "markdown",
   "metadata": {},
   "source": [
    "## Extract Month as a individual column"
   ]
  },
  {
   "cell_type": "code",
   "execution_count": 40,
   "metadata": {},
   "outputs": [],
   "source": [
    "df['month'] = df['issue_d'].dt.strftime('%m')"
   ]
  },
  {
   "cell_type": "code",
   "execution_count": 41,
   "metadata": {},
   "outputs": [
    {
     "data": {
      "text/plain": [
       "0        12\n",
       "1        12\n",
       "2        12\n",
       "3        12\n",
       "4        12\n",
       "         ..\n",
       "39712    07\n",
       "39713    07\n",
       "39714    07\n",
       "39715    07\n",
       "39716    06\n",
       "Name: month, Length: 39717, dtype: object"
      ]
     },
     "execution_count": 41,
     "metadata": {},
     "output_type": "execute_result"
    }
   ],
   "source": [
    "df.month"
   ]
  },
  {
   "cell_type": "markdown",
   "metadata": {},
   "source": [
    "#  7. Find the average rate of interest rate for the year 2010."
   ]
  },
  {
   "cell_type": "code",
   "execution_count": 59,
   "metadata": {},
   "outputs": [],
   "source": [
    "# converting year from string to integer\n",
    "df.year = df.year.astype(int)\n"
   ]
  },
  {
   "cell_type": "code",
   "execution_count": 68,
   "metadata": {},
   "outputs": [],
   "source": [
    "# given format '13.23%'\n",
    "# strpping the percentage ans converting to float \n",
    "\n",
    "df.int_rate = df.int_rate.str.rstrip(\"%\")\n",
    "df.int_rate  = df.int_rate.astype(float)"
   ]
  },
  {
   "cell_type": "code",
   "execution_count": 83,
   "metadata": {},
   "outputs": [],
   "source": [
    "# computing Mean\n",
    "mean = df.loc[df.year == 2010 , 'int_rate'].mean()"
   ]
  },
  {
   "cell_type": "code",
   "execution_count": 84,
   "metadata": {},
   "outputs": [
    {
     "data": {
      "text/plain": [
       "11.748117412417775"
      ]
     },
     "execution_count": 84,
     "metadata": {},
     "output_type": "execute_result"
    }
   ],
   "source": [
    "mean"
   ]
  },
  {
   "cell_type": "code",
   "execution_count": 87,
   "metadata": {},
   "outputs": [
    {
     "name": "stdout",
     "output_type": "stream",
     "text": [
      "the average rate of interest rate for the year 2010 is 11.748117412417775\n"
     ]
    }
   ],
   "source": [
    "print(f\"the average rate of interest rate for the year 2010 is {mean}\")"
   ]
  },
  {
   "cell_type": "markdown",
   "metadata": {},
   "source": [
    "# 8 Find the how many verified entries available in this data set and find the their mean of the ‘total_pymnt’"
   ]
  },
  {
   "cell_type": "code",
   "execution_count": 77,
   "metadata": {},
   "outputs": [],
   "source": [
    "verified = df[df.verification_status == 'Verified']"
   ]
  },
  {
   "cell_type": "code",
   "execution_count": 78,
   "metadata": {},
   "outputs": [],
   "source": [
    "avg = df.total_pymnt.groupby(df.verification_status).mean()"
   ]
  },
  {
   "cell_type": "code",
   "execution_count": 79,
   "metadata": {},
   "outputs": [
    {
     "data": {
      "text/plain": [
       "verification_status\n",
       "Not Verified        9074.015614\n",
       "Source Verified    10941.290498\n",
       "Verified           17167.015966\n",
       "Name: total_pymnt, dtype: float64"
      ]
     },
     "execution_count": 79,
     "metadata": {},
     "output_type": "execute_result"
    }
   ],
   "source": [
    "avg"
   ]
  },
  {
   "cell_type": "code",
   "execution_count": 80,
   "metadata": {},
   "outputs": [],
   "source": [
    "# Source Verified and Verified denotes the verified entries so adding it together\n",
    "Verified = avg[1]+avg[2]"
   ]
  },
  {
   "cell_type": "code",
   "execution_count": 81,
   "metadata": {},
   "outputs": [
    {
     "name": "stdout",
     "output_type": "stream",
     "text": [
      "Verified  entries and their mean of the ‘total_pymnt’ is 28108.30646402531\n"
     ]
    }
   ],
   "source": [
    "print(f\"Verified  entries and their mean of the ‘total_pymnt’ is {Verified}\")"
   ]
  },
  {
   "cell_type": "markdown",
   "metadata": {},
   "source": [
    "# 9.Write function for find ‘funded_amt’level .\n"
   ]
  },
  {
   "cell_type": "markdown",
   "metadata": {},
   "source": [
    "\n",
    "if ‘funded_amt’ <=5000  consider\n",
    "as -1\n",
    "\n",
    "if ‘funded_amt’ >5000 and <= 15000 \n",
    "consider as 0\n",
    "\n",
    "if ‘funded_amt’ >15000  consider\n",
    "as 1"
   ]
  },
  {
   "cell_type": "code",
   "execution_count": 88,
   "metadata": {},
   "outputs": [],
   "source": [
    "def map_fun():\n",
    "    df.loc[df.funded_amnt <= 5000,'funded_amt_level'] = -1\n",
    "    df.loc[(df.funded_amnt > 5000) & (df.funded_amnt <=15000),'funded_amt_level'] = 0\n",
    "    df.loc[df.funded_amnt > 15000,'funded_amt_level'] = 1\n",
    "    return df.funded_amt_level"
   ]
  },
  {
   "cell_type": "code",
   "execution_count": 89,
   "metadata": {},
   "outputs": [
    {
     "name": "stdout",
     "output_type": "stream",
     "text": [
      "Initial Values in funded_amt column\n",
      "0     5000\n",
      "1     2500\n",
      "2     2400\n",
      "3    10000\n",
      "4     3000\n",
      "Name: funded_amnt, dtype: int64\n",
      "Mapped Values acc to criteria\n"
     ]
    },
    {
     "data": {
      "text/plain": [
       "0       -1.0\n",
       "1       -1.0\n",
       "2       -1.0\n",
       "3        0.0\n",
       "4       -1.0\n",
       "        ... \n",
       "39712   -1.0\n",
       "39713    0.0\n",
       "39714   -1.0\n",
       "39715   -1.0\n",
       "39716    0.0\n",
       "Name: funded_amt_level, Length: 39717, dtype: float64"
      ]
     },
     "execution_count": 89,
     "metadata": {},
     "output_type": "execute_result"
    }
   ],
   "source": [
    "print(\"Initial Values in funded_amt column\")\n",
    "print(df.funded_amnt.head())\n",
    "print(\"Mapped Values acc to criteria\")\n",
    "map_fun()"
   ]
  },
  {
   "cell_type": "code",
   "execution_count": 3,
   "metadata": {},
   "outputs": [],
   "source": [
    "a = open('pct.txt','r')\n",
    "con = a.readlines()"
   ]
  },
  {
   "cell_type": "code",
   "execution_count": 4,
   "metadata": {},
   "outputs": [
    {
     "data": {
      "text/plain": [
       "['int_rate\\n',\n",
       " '9.99%\\n',\n",
       " '13.72%\\n',\n",
       " '15.20%\\n',\n",
       " '14.83%\\n',\n",
       " '12.98%\\n',\n",
       " '17.43%\\n',\n",
       " '6.91%\\n',\n",
       " '13.72%\\n',\n",
       " '9.99%\\n',\n",
       " '16.32%\\n',\n",
       " '14.46%\\n',\n",
       " '9.99%\\n',\n",
       " '17.43%\\n',\n",
       " '13.35%\\n',\n",
       " '9.99%\\n',\n",
       " '6.54%\\n',\n",
       " '9.25%\\n',\n",
       " '20.40%\\n',\n",
       " '12.23%\\n',\n",
       " '9.99%\\n',\n",
       " '9.99%\\n',\n",
       " '9.62%\\n',\n",
       " '16.69%\\n',\n",
       " '9.99%\\n',\n",
       " '6.17%\\n',\n",
       " '6.54%\\n',\n",
       " '6.17%\\n',\n",
       " '10.36%\\n',\n",
       " '14.46%\\n',\n",
       " '5.79%\\n',\n",
       " '8.88%\\n',\n",
       " '16.69%\\n',\n",
       " '6.54%\\n',\n",
       " '5.79%\\n',\n",
       " '12.98%\\n',\n",
       " '8.88%\\n',\n",
       " '13.35%\\n',\n",
       " '15.95%\\n',\n",
       " '8.88%\\n',\n",
       " '9.62%\\n',\n",
       " '18.54%\\n',\n",
       " '16.69%\\n',\n",
       " '9.62%\\n',\n",
       " '15.95%\\n',\n",
       " '15.57%\\n',\n",
       " '6.17%\\n',\n",
       " '9.99%\\n',\n",
       " '12.61%\\n',\n",
       " '9.25%\\n',\n",
       " '15.20%\\n',\n",
       " '8.88%\\n',\n",
       " '17.06%\\n',\n",
       " '16.32%\\n',\n",
       " '15.20%\\n',\n",
       " '14.83%\\n',\n",
       " '6.17%\\n',\n",
       " '6.17%\\n',\n",
       " '6.91%\\n',\n",
       " '14.46%\\n',\n",
       " '9.99%\\n',\n",
       " '6.91%\\n',\n",
       " '14.83%\\n',\n",
       " '15.57%\\n',\n",
       " '8.88%\\n',\n",
       " '14.09%\\n',\n",
       " '12.61%\\n',\n",
       " '10.36%\\n',\n",
       " '8.88%\\n',\n",
       " '9.25%\\n',\n",
       " '6.91%\\n',\n",
       " '9.25%\\n',\n",
       " '9.99%\\n',\n",
       " '13.35%\\n',\n",
       " '5.79%\\n',\n",
       " '13.72%\\n',\n",
       " '9.99%\\n',\n",
       " '12.23%\\n',\n",
       " '9.99%\\n',\n",
       " '6.91%\\n',\n",
       " '6.54%\\n',\n",
       " '12.23%\\n',\n",
       " '14.09%\\n',\n",
       " '12.61%\\n',\n",
       " '12.23%\\n',\n",
       " '20.77%\\n',\n",
       " '12.61%\\n',\n",
       " '16.32%\\n',\n",
       " '9.62%\\n',\n",
       " '6.17%\\n',\n",
       " '14.09%\\n',\n",
       " '6.54%\\n',\n",
       " '9.99%\\n',\n",
       " '14.46%\\n',\n",
       " '12.23%\\n',\n",
       " '9.25%\\n',\n",
       " '9.62%\\n',\n",
       " '6.91%\\n',\n",
       " '6.91%\\n',\n",
       " '6.54%\\n',\n",
       " '12.23%\\n',\n",
       " '12.61%\\n',\n",
       " '9.25%\\n',\n",
       " '13.35%\\n',\n",
       " '12.61%\\n',\n",
       " '12.98%\\n',\n",
       " '6.91%\\n',\n",
       " '13.35%\\n',\n",
       " '8.88%\\n',\n",
       " '12.23%\\n',\n",
       " '6.54%\\n',\n",
       " '12.23%\\n',\n",
       " '9.99%\\n',\n",
       " '12.61%\\n',\n",
       " '5.42%\\n',\n",
       " '14.46%\\n',\n",
       " '6.91%\\n',\n",
       " '9.62%\\n',\n",
       " '9.99%\\n',\n",
       " '12.61%\\n',\n",
       " '18.91%\\n',\n",
       " '6.54%\\n',\n",
       " '6.17%\\n',\n",
       " '16.32%\\n',\n",
       " '14.83%\\n',\n",
       " '5.79%\\n',\n",
       " '6.17%\\n',\n",
       " '5.79%\\n',\n",
       " '8.88%\\n',\n",
       " '9.99%\\n',\n",
       " '6.54%\\n',\n",
       " '6.54%\\n',\n",
       " '6.17%\\n',\n",
       " '13.72%\\n',\n",
       " '13.72%\\n',\n",
       " '9.25%\\n',\n",
       " '16.32%\\n',\n",
       " '14.46%\\n',\n",
       " '6.54%\\n',\n",
       " '5.79%\\n',\n",
       " '19.29%\\n',\n",
       " '15.57%\\n',\n",
       " '17.06%\\n',\n",
       " '14.46%\\n',\n",
       " '9.25%\\n',\n",
       " '9.25%\\n',\n",
       " '8.88%\\n',\n",
       " '6.17%\\n',\n",
       " '5.79%\\n',\n",
       " '6.54%\\n',\n",
       " '14.09%\\n',\n",
       " '12.61%\\n',\n",
       " '5.79%\\n',\n",
       " '6.54%\\n',\n",
       " '13.72%\\n',\n",
       " '5.79%\\n',\n",
       " '5.79%\\n',\n",
       " '9.99%\\n',\n",
       " '5.42%\\n',\n",
       " '14.46%\\n',\n",
       " '8.88%\\n',\n",
       " '6.17%\\n',\n",
       " '9.62%\\n',\n",
       " '20.77%\\n',\n",
       " '18.17%\\n',\n",
       " '15.20%\\n',\n",
       " '6.91%\\n',\n",
       " '13.72%\\n',\n",
       " '6.91%\\n',\n",
       " '12.61%\\n',\n",
       " '6.54%\\n',\n",
       " '12.98%\\n',\n",
       " '13.35%\\n',\n",
       " '5.42%\\n',\n",
       " '6.54%\\n',\n",
       " '6.54%\\n',\n",
       " '6.91%\\n',\n",
       " '9.62%\\n',\n",
       " '5.79%\\n',\n",
       " '12.61%\\n',\n",
       " '14.09%\\n',\n",
       " '9.62%\\n',\n",
       " '14.83%\\n',\n",
       " '16.69%\\n',\n",
       " '9.99%\\n',\n",
       " '16.32%\\n',\n",
       " '14.83%\\n',\n",
       " '9.99%\\n',\n",
       " '6.91%\\n',\n",
       " '6.91%\\n',\n",
       " '6.91%\\n',\n",
       " '6.54%\\n',\n",
       " '6.54%\\n',\n",
       " '10.36%\\n',\n",
       " '15.20%\\n',\n",
       " '14.46%\\n',\n",
       " '6.17%\\n',\n",
       " '14.09%\\n',\n",
       " '9.99%\\n',\n",
       " '9.25%\\n',\n",
       " '6.91%\\n',\n",
       " '9.99%\\n',\n",
       " '9.62%\\n',\n",
       " '6.54%\\n',\n",
       " '9.99%\\n',\n",
       " '12.61%\\n',\n",
       " '5.79%\\n',\n",
       " '9.25%\\n',\n",
       " '14.46%\\n',\n",
       " '10.36%\\n',\n",
       " '8.88%\\n',\n",
       " '18.54%\\n',\n",
       " '13.35%\\n',\n",
       " '10.36%\\n',\n",
       " '9.99%\\n',\n",
       " '6.91%\\n',\n",
       " '6.91%\\n',\n",
       " '15.57%\\n',\n",
       " '9.25%\\n',\n",
       " '5.42%\\n',\n",
       " '14.09%\\n',\n",
       " '9.25%\\n',\n",
       " '6.91%\\n',\n",
       " '12.61%\\n',\n",
       " '6.17%\\n',\n",
       " '9.25%\\n',\n",
       " '6.17%\\n',\n",
       " '12.61%\\n',\n",
       " '5.79%\\n',\n",
       " '9.62%\\n',\n",
       " '6.54%\\n',\n",
       " '10.36%\\n',\n",
       " '13.72%\\n',\n",
       " '6.17%\\n',\n",
       " '5.79%\\n',\n",
       " '9.62%\\n',\n",
       " '9.99%\\n',\n",
       " '9.99%\\n',\n",
       " '6.91%\\n',\n",
       " '9.99%\\n',\n",
       " '12.61%\\n',\n",
       " '6.54%\\n',\n",
       " '15.95%\\n',\n",
       " '6.17%\\n',\n",
       " '10.36%\\n',\n",
       " '6.54%\\n',\n",
       " '5.79%\\n',\n",
       " '6.54%\\n',\n",
       " '13.35%\\n',\n",
       " '10.36%\\n',\n",
       " '10.36%\\n',\n",
       " '6.91%\\n',\n",
       " '5.79%\\n',\n",
       " '6.91%\\n',\n",
       " '6.91%\\n',\n",
       " '12.98%\\n',\n",
       " '18.17%\\n',\n",
       " '9.62%\\n',\n",
       " '14.83%\\n',\n",
       " '6.17%\\n',\n",
       " '9.99%\\n',\n",
       " '9.25%\\n',\n",
       " '14.46%\\n',\n",
       " '5.79%\\n',\n",
       " '12.98%\\n',\n",
       " '9.62%\\n',\n",
       " '9.99%\\n',\n",
       " '6.00%\\n',\n",
       " '12.23%\\n',\n",
       " '13.72%\\n',\n",
       " '6.17%\\n',\n",
       " '9.99%\\n',\n",
       " '8.88%\\n',\n",
       " '16.69%\\n',\n",
       " '14.46%\\n',\n",
       " '6.91%\\n',\n",
       " '9.25%\\n',\n",
       " '13.72%\\n',\n",
       " '13.35%\\n',\n",
       " '14.83%\\n',\n",
       " '9.25%\\n',\n",
       " '14.83%\\n',\n",
       " '12.98%\\n',\n",
       " '6.54%\\n',\n",
       " '6.17%\\n',\n",
       " '6.17%\\n',\n",
       " '9.62%\\n',\n",
       " '6.91%\\n',\n",
       " '9.99%\\n',\n",
       " '8.88%\\n',\n",
       " '14.09%\\n',\n",
       " '9.25%\\n',\n",
       " '10.36%\\n',\n",
       " '12.61%\\n',\n",
       " '6.54%\\n',\n",
       " '9.25%\\n',\n",
       " '16.32%\\n',\n",
       " '13.35%\\n',\n",
       " '8.88%\\n',\n",
       " '20.77%\\n',\n",
       " '12.98%\\n',\n",
       " '16.69%\\n',\n",
       " '8.88%\\n',\n",
       " '12.23%\\n',\n",
       " '6.91%\\n',\n",
       " '5.79%\\n',\n",
       " '13.72%\\n',\n",
       " '12.61%\\n',\n",
       " '13.35%\\n',\n",
       " '12.98%\\n',\n",
       " '10.36%\\n',\n",
       " '14.46%\\n',\n",
       " '9.25%\\n',\n",
       " '12.98%\\n',\n",
       " '14.83%\\n',\n",
       " '9.99%\\n',\n",
       " '13.72%\\n',\n",
       " '14.46%\\n',\n",
       " '5.42%\\n',\n",
       " '12.61%\\n',\n",
       " '6.91%\\n',\n",
       " '9.99%\\n',\n",
       " '20.03%\\n',\n",
       " '13.35%\\n',\n",
       " '6.54%\\n',\n",
       " '13.72%\\n',\n",
       " '9.99%\\n',\n",
       " '12.61%\\n',\n",
       " '8.88%\\n',\n",
       " '19.29%\\n',\n",
       " '9.62%\\n',\n",
       " '6.17%\\n',\n",
       " '9.99%\\n',\n",
       " '8.88%\\n',\n",
       " '9.99%\\n',\n",
       " '10.36%\\n',\n",
       " '14.83%\\n',\n",
       " '12.23%\\n',\n",
       " '9.99%\\n',\n",
       " '12.61%\\n',\n",
       " '17.06%\\n',\n",
       " '15.57%\\n',\n",
       " '18.91%\\n',\n",
       " '12.23%\\n',\n",
       " '6.54%\\n',\n",
       " '6.54%\\n',\n",
       " '12.61%\\n',\n",
       " '8.88%\\n',\n",
       " '18.54%\\n',\n",
       " '6.17%\\n',\n",
       " '12.23%\\n',\n",
       " '6.17%\\n',\n",
       " '6.91%\\n',\n",
       " '12.61%\\n',\n",
       " '9.62%\\n',\n",
       " '6.17%\\n',\n",
       " '12.98%\\n',\n",
       " '5.79%\\n',\n",
       " '13.72%\\n',\n",
       " '6.91%\\n',\n",
       " '5.42%\\n',\n",
       " '15.95%\\n',\n",
       " '14.09%\\n',\n",
       " '6.91%\\n',\n",
       " '18.54%\\n',\n",
       " '14.09%\\n',\n",
       " '20.03%\\n',\n",
       " '12.23%\\n',\n",
       " '6.91%\\n',\n",
       " '6.91%\\n',\n",
       " '14.09%\\n',\n",
       " '12.61%\\n',\n",
       " '9.99%\\n',\n",
       " '6.17%\\n',\n",
       " '10.36%\\n',\n",
       " '6.17%\\n',\n",
       " '12.23%\\n',\n",
       " '9.25%\\n',\n",
       " '13.35%\\n',\n",
       " '14.83%\\n',\n",
       " '14.09%\\n',\n",
       " '9.62%\\n',\n",
       " '6.54%\\n',\n",
       " '6.54%\\n',\n",
       " '13.72%\\n',\n",
       " '17.06%\\n',\n",
       " '13.72%\\n',\n",
       " '12.61%\\n',\n",
       " '17.43%\\n',\n",
       " '6.54%\\n',\n",
       " '6.91%\\n',\n",
       " '6.54%\\n',\n",
       " '13.72%\\n',\n",
       " '5.79%\\n',\n",
       " '12.98%\\n',\n",
       " '6.17%\\n',\n",
       " '13.35%\\n',\n",
       " '12.61%\\n',\n",
       " '8.88%\\n',\n",
       " '14.83%\\n',\n",
       " '12.98%\\n',\n",
       " '17.06%\\n',\n",
       " '9.99%\\n',\n",
       " '6.17%\\n',\n",
       " '13.35%\\n',\n",
       " '6.91%\\n',\n",
       " '5.79%\\n',\n",
       " '9.62%\\n',\n",
       " '17.06%\\n',\n",
       " '9.99%\\n',\n",
       " '5.79%\\n',\n",
       " '12.23%\\n',\n",
       " '10.36%\\n',\n",
       " '13.72%\\n',\n",
       " '9.62%\\n',\n",
       " '9.62%\\n',\n",
       " '12.23%\\n',\n",
       " '15.95%\\n',\n",
       " '13.72%\\n',\n",
       " '8.88%\\n',\n",
       " '9.99%\\n',\n",
       " '8.88%\\n',\n",
       " '10.36%\\n',\n",
       " '14.46%\\n',\n",
       " '18.17%\\n',\n",
       " '6.54%\\n',\n",
       " '8.88%\\n',\n",
       " '10.36%\\n',\n",
       " '13.72%\\n',\n",
       " '10.36%\\n',\n",
       " '13.72%\\n',\n",
       " '9.99%\\n',\n",
       " '15.20%\\n',\n",
       " '21.14%\\n',\n",
       " '15.57%\\n',\n",
       " '12.61%\\n',\n",
       " '12.61%\\n',\n",
       " '15.57%\\n',\n",
       " '14.46%\\n',\n",
       " '12.23%\\n',\n",
       " '14.83%\\n',\n",
       " '6.17%\\n',\n",
       " '6.17%\\n',\n",
       " '17.43%\\n',\n",
       " '9.62%\\n',\n",
       " '6.17%\\n',\n",
       " '9.99%\\n',\n",
       " '6.91%\\n',\n",
       " '6.91%\\n',\n",
       " '5.42%\\n',\n",
       " '12.61%\\n',\n",
       " '14.46%\\n',\n",
       " '9.99%\\n',\n",
       " '15.95%\\n',\n",
       " '9.25%\\n',\n",
       " '15.57%\\n',\n",
       " '12.98%\\n',\n",
       " '10.36%\\n',\n",
       " '6.17%\\n',\n",
       " '6.91%\\n',\n",
       " '10.36%\\n',\n",
       " '5.42%\\n',\n",
       " '12.23%\\n',\n",
       " '13.35%\\n',\n",
       " '5.42%\\n',\n",
       " '18.91%\\n',\n",
       " '5.79%\\n',\n",
       " '12.98%\\n',\n",
       " '14.46%\\n',\n",
       " '14.83%\\n',\n",
       " '17.43%\\n',\n",
       " '14.09%\\n',\n",
       " '9.62%\\n',\n",
       " '9.62%\\n',\n",
       " '13.35%\\n',\n",
       " '5.42%\\n',\n",
       " '9.25%\\n',\n",
       " '9.25%\\n',\n",
       " '8.88%\\n',\n",
       " '13.72%\\n',\n",
       " '17.06%\\n',\n",
       " '6.54%\\n',\n",
       " '12.61%\\n',\n",
       " '13.72%\\n',\n",
       " '14.83%\\n',\n",
       " '10.36%\\n',\n",
       " '6.54%\\n',\n",
       " '15.57%\\n',\n",
       " '8.88%\\n',\n",
       " '12.23%\\n',\n",
       " '16.69%\\n',\n",
       " '15.57%\\n',\n",
       " '12.98%\\n',\n",
       " '10.36%\\n',\n",
       " '6.54%\\n',\n",
       " '12.98%\\n',\n",
       " '12.98%\\n',\n",
       " '9.25%\\n',\n",
       " '12.98%\\n',\n",
       " '9.99%\\n',\n",
       " '6.54%\\n',\n",
       " '15.95%\\n',\n",
       " '12.23%\\n',\n",
       " '13.72%\\n',\n",
       " '6.54%\\n',\n",
       " '16.32%\\n',\n",
       " '14.09%\\n',\n",
       " '6.17%\\n',\n",
       " '5.42%\\n',\n",
       " '12.23%\\n',\n",
       " '17.80%\\n',\n",
       " '5.79%\\n',\n",
       " '6.54%\\n',\n",
       " '12.98%\\n',\n",
       " '10.36%\\n',\n",
       " '6.54%\\n',\n",
       " '15.20%\\n',\n",
       " '5.42%\\n',\n",
       " '6.54%\\n',\n",
       " '5.79%\\n',\n",
       " '13.35%\\n',\n",
       " '15.95%\\n',\n",
       " '6.91%\\n',\n",
       " '14.83%\\n',\n",
       " '13.35%\\n',\n",
       " '6.54%\\n',\n",
       " '6.91%\\n',\n",
       " '12.61%\\n',\n",
       " '18.54%\\n',\n",
       " '13.35%\\n',\n",
       " '16.32%\\n',\n",
       " '5.79%\\n',\n",
       " '13.72%\\n',\n",
       " '5.79%\\n',\n",
       " '6.17%\\n',\n",
       " '13.35%\\n',\n",
       " '8.88%\\n',\n",
       " '13.72%\\n',\n",
       " '5.79%\\n',\n",
       " '10.36%\\n',\n",
       " '14.09%\\n',\n",
       " '6.54%\\n',\n",
       " '14.09%\\n',\n",
       " '14.46%\\n',\n",
       " '13.72%\\n',\n",
       " '5.79%\\n',\n",
       " '13.35%\\n',\n",
       " '6.17%\\n',\n",
       " '6.54%\\n',\n",
       " '9.99%\\n',\n",
       " '5.79%\\n',\n",
       " '6.54%\\n',\n",
       " '12.61%\\n',\n",
       " '6.91%\\n',\n",
       " '9.62%\\n',\n",
       " '14.09%\\n',\n",
       " '17.06%\\n',\n",
       " '18.54%\\n',\n",
       " '6.17%\\n',\n",
       " '8.88%\\n',\n",
       " '15.57%\\n',\n",
       " '10.36%\\n',\n",
       " '6.17%\\n',\n",
       " '5.79%\\n',\n",
       " '5.42%\\n',\n",
       " '12.23%\\n',\n",
       " '10.36%\\n',\n",
       " '5.79%\\n',\n",
       " '17.06%\\n',\n",
       " '9.99%\\n',\n",
       " '5.79%\\n',\n",
       " '9.25%\\n',\n",
       " '10.36%\\n',\n",
       " '10.36%\\n',\n",
       " '12.23%\\n',\n",
       " '9.62%\\n',\n",
       " '14.09%\\n',\n",
       " '18.17%\\n',\n",
       " '14.83%\\n',\n",
       " '9.99%\\n',\n",
       " '12.23%\\n',\n",
       " '13.35%\\n',\n",
       " '9.25%\\n',\n",
       " '9.25%\\n',\n",
       " '14.09%\\n',\n",
       " '9.99%\\n',\n",
       " '12.61%\\n',\n",
       " '8.88%\\n',\n",
       " '14.83%\\n',\n",
       " '20.03%\\n',\n",
       " '6.91%\\n',\n",
       " '5.42%\\n',\n",
       " '9.62%\\n',\n",
       " '10.36%\\n',\n",
       " '5.79%\\n',\n",
       " '9.99%\\n',\n",
       " '9.25%\\n',\n",
       " '6.17%\\n',\n",
       " '15.57%\\n',\n",
       " '16.32%\\n',\n",
       " '9.62%\\n',\n",
       " '9.99%\\n',\n",
       " '12.98%\\n',\n",
       " '6.54%\\n',\n",
       " '9.25%\\n',\n",
       " '5.42%\\n',\n",
       " '10.36%\\n',\n",
       " '14.83%\\n',\n",
       " '6.54%\\n',\n",
       " '9.62%\\n',\n",
       " '12.98%\\n',\n",
       " '6.91%\\n',\n",
       " '5.79%\\n',\n",
       " '5.79%\\n',\n",
       " '6.17%\\n',\n",
       " '9.62%\\n',\n",
       " '5.79%\\n',\n",
       " '14.46%\\n',\n",
       " '13.72%\\n',\n",
       " '9.25%\\n',\n",
       " '6.54%\\n',\n",
       " '6.91%\\n',\n",
       " '5.79%\\n',\n",
       " '6.91%\\n',\n",
       " '13.72%\\n',\n",
       " '13.35%\\n',\n",
       " '9.25%\\n',\n",
       " '9.99%\\n',\n",
       " '6.17%\\n',\n",
       " '17.80%\\n',\n",
       " '9.99%\\n',\n",
       " '6.54%\\n',\n",
       " '6.91%\\n',\n",
       " '6.54%\\n',\n",
       " '9.25%\\n',\n",
       " '5.42%\\n',\n",
       " '18.17%\\n',\n",
       " '13.35%\\n',\n",
       " '14.83%\\n',\n",
       " '12.98%\\n',\n",
       " '15.57%\\n',\n",
       " '12.23%\\n',\n",
       " '14.83%\\n',\n",
       " '15.95%\\n',\n",
       " '6.54%\\n',\n",
       " '10.36%\\n',\n",
       " '15.95%\\n',\n",
       " '17.43%\\n',\n",
       " '6.17%\\n',\n",
       " '6.17%\\n',\n",
       " '6.91%\\n',\n",
       " '12.23%\\n',\n",
       " '12.61%\\n',\n",
       " '17.06%\\n',\n",
       " '6.91%\\n',\n",
       " '6.54%\\n',\n",
       " '9.99%\\n',\n",
       " '13.72%\\n',\n",
       " '15.95%\\n',\n",
       " '5.79%\\n',\n",
       " '6.17%\\n',\n",
       " '13.72%\\n',\n",
       " '12.98%\\n',\n",
       " '6.17%\\n',\n",
       " '6.17%\\n',\n",
       " '9.62%\\n',\n",
       " '5.42%\\n',\n",
       " '15.95%\\n',\n",
       " '5.42%\\n',\n",
       " '13.72%\\n',\n",
       " '9.62%\\n',\n",
       " '9.25%\\n',\n",
       " '14.46%\\n',\n",
       " '9.99%\\n',\n",
       " '9.99%\\n',\n",
       " '6.54%\\n',\n",
       " '13.35%\\n',\n",
       " '5.79%\\n',\n",
       " '6.91%\\n',\n",
       " '9.62%\\n',\n",
       " '5.42%\\n',\n",
       " '16.32%\\n',\n",
       " '10.36%\\n',\n",
       " '6.91%\\n',\n",
       " '14.46%\\n',\n",
       " '8.88%\\n',\n",
       " '10.36%\\n',\n",
       " '5.79%\\n',\n",
       " '6.91%\\n',\n",
       " '6.91%\\n',\n",
       " '14.83%\\n',\n",
       " '10.36%\\n',\n",
       " '13.35%\\n',\n",
       " '6.91%\\n',\n",
       " '5.79%\\n',\n",
       " '6.17%\\n',\n",
       " '13.72%\\n',\n",
       " '9.25%\\n',\n",
       " '12.98%\\n',\n",
       " '9.99%\\n',\n",
       " '13.35%\\n',\n",
       " '15.95%\\n',\n",
       " '12.23%\\n',\n",
       " '9.99%\\n',\n",
       " '14.09%\\n',\n",
       " '12.61%\\n',\n",
       " '6.54%\\n',\n",
       " '6.91%\\n',\n",
       " '5.79%\\n',\n",
       " '16.69%\\n',\n",
       " '9.25%\\n',\n",
       " '6.91%\\n',\n",
       " '9.62%\\n',\n",
       " '19.66%\\n',\n",
       " '12.61%\\n',\n",
       " '13.72%\\n',\n",
       " '18.54%\\n',\n",
       " '10.36%\\n',\n",
       " '5.79%\\n',\n",
       " '9.25%\\n',\n",
       " '9.62%\\n',\n",
       " '6.54%\\n',\n",
       " '5.79%\\n',\n",
       " '14.46%\\n',\n",
       " '18.54%\\n',\n",
       " '6.91%\\n',\n",
       " '5.79%\\n',\n",
       " '12.23%\\n',\n",
       " '5.79%\\n',\n",
       " '16.32%\\n',\n",
       " '14.83%\\n',\n",
       " '14.83%\\n',\n",
       " '9.62%\\n',\n",
       " '9.25%\\n',\n",
       " '5.79%\\n',\n",
       " '9.62%\\n',\n",
       " '14.46%\\n',\n",
       " '13.35%\\n',\n",
       " '6.17%\\n',\n",
       " '5.42%\\n',\n",
       " '6.17%\\n',\n",
       " '6.91%\\n',\n",
       " '15.57%\\n',\n",
       " '18.54%\\n',\n",
       " '15.20%\\n',\n",
       " '5.79%\\n',\n",
       " '10.36%\\n',\n",
       " '6.91%\\n',\n",
       " '9.25%\\n',\n",
       " '6.91%\\n',\n",
       " '18.54%\\n',\n",
       " '6.54%\\n',\n",
       " '9.99%\\n',\n",
       " '12.98%\\n',\n",
       " '8.88%\\n',\n",
       " '10.36%\\n',\n",
       " '6.54%\\n',\n",
       " '13.35%\\n',\n",
       " '5.79%\\n',\n",
       " '6.54%\\n',\n",
       " '12.23%\\n',\n",
       " '13.35%\\n',\n",
       " '9.62%\\n',\n",
       " '6.91%\\n',\n",
       " '13.35%\\n',\n",
       " '6.91%\\n',\n",
       " '6.91%\\n',\n",
       " '9.99%\\n',\n",
       " '10.36%\\n',\n",
       " '8.88%\\n',\n",
       " '16.69%\\n',\n",
       " '14.83%\\n',\n",
       " '14.09%\\n',\n",
       " '9.62%\\n',\n",
       " '6.91%\\n',\n",
       " '6.91%\\n',\n",
       " '9.99%\\n',\n",
       " '16.69%\\n',\n",
       " '5.42%\\n',\n",
       " '14.46%\\n',\n",
       " '9.62%\\n',\n",
       " '6.91%\\n',\n",
       " '10.36%\\n',\n",
       " '9.62%\\n',\n",
       " '5.42%\\n',\n",
       " '9.25%\\n',\n",
       " '8.88%\\n',\n",
       " '14.83%\\n',\n",
       " '12.61%\\n',\n",
       " '5.79%\\n',\n",
       " '9.25%\\n',\n",
       " '13.72%\\n',\n",
       " '6.54%\\n',\n",
       " '17.43%\\n',\n",
       " '6.54%\\n',\n",
       " '6.17%\\n',\n",
       " '10.36%\\n',\n",
       " '5.79%\\n',\n",
       " '6.91%\\n',\n",
       " '10.36%\\n',\n",
       " '18.17%\\n',\n",
       " '13.35%\\n',\n",
       " '14.09%\\n',\n",
       " '8.88%\\n',\n",
       " '9.62%\\n',\n",
       " '13.35%\\n',\n",
       " '9.99%\\n',\n",
       " '12.61%\\n',\n",
       " '15.20%\\n',\n",
       " '14.83%\\n',\n",
       " '8.88%\\n',\n",
       " '6.54%\\n',\n",
       " '6.54%\\n',\n",
       " '14.46%\\n',\n",
       " '13.35%\\n',\n",
       " '6.54%\\n',\n",
       " '9.99%\\n',\n",
       " '14.83%\\n',\n",
       " '5.79%\\n',\n",
       " '8.88%\\n',\n",
       " '12.23%\\n',\n",
       " '9.99%\\n',\n",
       " '13.72%\\n',\n",
       " '16.69%\\n',\n",
       " '12.23%\\n',\n",
       " '12.98%\\n',\n",
       " '6.91%\\n',\n",
       " '5.79%\\n',\n",
       " '12.98%\\n',\n",
       " '15.95%\\n',\n",
       " '13.72%\\n',\n",
       " '14.83%\\n',\n",
       " '6.17%\\n',\n",
       " '9.62%\\n',\n",
       " '9.62%\\n',\n",
       " '16.69%\\n',\n",
       " '14.46%\\n',\n",
       " '14.09%\\n',\n",
       " '12.61%\\n',\n",
       " '12.23%\\n',\n",
       " '9.25%\\n',\n",
       " '14.83%\\n',\n",
       " '9.99%\\n',\n",
       " '14.46%\\n',\n",
       " '12.98%\\n',\n",
       " '13.35%\\n',\n",
       " '17.80%\\n',\n",
       " '16.32%\\n',\n",
       " '15.20%\\n',\n",
       " '10.36%\\n',\n",
       " '6.54%\\n',\n",
       " '9.99%\\n',\n",
       " '8.88%\\n',\n",
       " '5.42%\\n',\n",
       " '10.36%\\n',\n",
       " '19.66%\\n',\n",
       " '6.54%\\n',\n",
       " '12.61%\\n',\n",
       " '14.46%\\n',\n",
       " '13.35%\\n',\n",
       " '6.91%\\n',\n",
       " '16.32%\\n',\n",
       " '6.17%\\n',\n",
       " '17.06%\\n',\n",
       " '6.91%\\n',\n",
       " '17.06%\\n',\n",
       " '9.99%\\n',\n",
       " '14.83%\\n',\n",
       " '9.25%\\n',\n",
       " '5.79%\\n',\n",
       " '12.61%\\n',\n",
       " '12.61%\\n',\n",
       " '6.17%\\n',\n",
       " '12.98%\\n',\n",
       " '9.99%\\n',\n",
       " '8.88%\\n',\n",
       " '6.91%\\n',\n",
       " '10.36%\\n',\n",
       " '9.25%\\n',\n",
       " '18.17%\\n',\n",
       " '6.17%\\n',\n",
       " '6.54%\\n',\n",
       " '10.36%\\n',\n",
       " '10.36%\\n',\n",
       " '13.35%\\n',\n",
       " '12.98%\\n',\n",
       " '6.54%\\n',\n",
       " '6.54%\\n',\n",
       " '13.72%\\n',\n",
       " '13.72%\\n',\n",
       " '6.54%\\n',\n",
       " '6.17%\\n',\n",
       " '6.91%\\n',\n",
       " '15.57%\\n',\n",
       " '5.42%\\n',\n",
       " '13.35%\\n',\n",
       " '15.57%\\n',\n",
       " '9.25%\\n',\n",
       " '6.54%\\n',\n",
       " '8.88%\\n',\n",
       " '9.25%\\n',\n",
       " '13.35%\\n',\n",
       " '18.54%\\n',\n",
       " '9.62%\\n',\n",
       " '6.54%\\n',\n",
       " '14.83%\\n',\n",
       " '6.91%\\n',\n",
       " '9.99%\\n',\n",
       " '5.42%\\n',\n",
       " '10.36%\\n',\n",
       " '5.79%\\n',\n",
       " '6.17%\\n',\n",
       " '17.43%\\n',\n",
       " '12.23%\\n',\n",
       " '6.91%\\n',\n",
       " '6.17%\\n',\n",
       " '9.99%\\n',\n",
       " '13.72%\\n',\n",
       " '9.62%\\n',\n",
       " '12.98%\\n',\n",
       " '6.17%\\n',\n",
       " '12.98%\\n',\n",
       " '8.88%\\n',\n",
       " '12.61%\\n',\n",
       " '14.46%\\n',\n",
       " '5.79%\\n',\n",
       " '12.98%\\n',\n",
       " '5.79%\\n',\n",
       " '13.72%\\n',\n",
       " '14.46%\\n',\n",
       " '12.23%\\n',\n",
       " '9.99%\\n',\n",
       " '6.17%\\n',\n",
       " '14.83%\\n',\n",
       " '6.54%\\n',\n",
       " '6.17%\\n',\n",
       " '16.69%\\n',\n",
       " '5.79%\\n',\n",
       " '9.99%\\n',\n",
       " '15.95%\\n',\n",
       " '9.99%\\n',\n",
       " '9.99%\\n',\n",
       " '15.95%\\n',\n",
       " '15.20%\\n',\n",
       " '6.54%\\n',\n",
       " '5.79%\\n',\n",
       " '14.83%\\n',\n",
       " '6.17%\\n',\n",
       " '9.62%\\n',\n",
       " '13.72%\\n',\n",
       " '9.99%\\n',\n",
       " '10.36%\\n',\n",
       " '6.54%\\n',\n",
       " '5.79%\\n',\n",
       " '9.62%\\n',\n",
       " '9.62%\\n',\n",
       " '12.98%\\n',\n",
       " '12.61%\\n',\n",
       " '10.36%\\n',\n",
       " '6.91%\\n',\n",
       " '17.43%\\n',\n",
       " '12.23%\\n',\n",
       " '8.88%\\n',\n",
       " '14.83%\\n',\n",
       " '9.25%\\n',\n",
       " '12.23%\\n',\n",
       " '8.88%\\n',\n",
       " '6.91%\\n',\n",
       " '12.61%\\n',\n",
       " '15.20%\\n',\n",
       " '12.61%\\n',\n",
       " '10.36%\\n',\n",
       " '6.54%\\n',\n",
       " '15.20%\\n',\n",
       " '16.32%\\n',\n",
       " '17.43%\\n',\n",
       " '14.83%\\n',\n",
       " '13.72%\\n',\n",
       " '9.62%\\n',\n",
       " '15.57%\\n',\n",
       " '6.54%\\n',\n",
       " '9.62%\\n',\n",
       " '9.62%\\n',\n",
       " '16.69%\\n',\n",
       " '5.79%\\n',\n",
       " '6.54%\\n',\n",
       " '13.35%\\n',\n",
       " '12.23%\\n',\n",
       " '20.03%\\n',\n",
       " '12.23%\\n',\n",
       " '5.79%\\n',\n",
       " '12.61%\\n',\n",
       " '9.25%\\n',\n",
       " '6.91%\\n',\n",
       " '17.43%\\n',\n",
       " '8.88%\\n',\n",
       " '9.99%\\n',\n",
       " '6.17%\\n',\n",
       " '10.36%\\n',\n",
       " '9.99%\\n',\n",
       " ...]"
      ]
     },
     "execution_count": 4,
     "metadata": {},
     "output_type": "execute_result"
    }
   ],
   "source": [
    "con"
   ]
  },
  {
   "cell_type": "code",
   "execution_count": null,
   "metadata": {},
   "outputs": [],
   "source": []
  }
 ],
 "metadata": {
  "kernelspec": {
   "display_name": "Python 3 (ipykernel)",
   "language": "python",
   "name": "python3"
  },
  "language_info": {
   "codemirror_mode": {
    "name": "ipython",
    "version": 3
   },
   "file_extension": ".py",
   "mimetype": "text/x-python",
   "name": "python",
   "nbconvert_exporter": "python",
   "pygments_lexer": "ipython3",
   "version": "3.9.12"
  }
 },
 "nbformat": 4,
 "nbformat_minor": 2
}
