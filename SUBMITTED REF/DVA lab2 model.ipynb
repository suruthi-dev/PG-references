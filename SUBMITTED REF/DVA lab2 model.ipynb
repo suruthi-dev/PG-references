{
 "cells": [
  {
   "cell_type": "code",
   "execution_count": 3,
   "id": "744f5569",
   "metadata": {},
   "outputs": [
    {
     "name": "stdout",
     "output_type": "stream",
     "text": [
      "2\n"
     ]
    }
   ],
   "source": [
    "a=1\n",
    "\n",
    "def do(x):\n",
    "    return(x+a)\n",
    "\n",
    "print(do(1)) "
   ]
  },
  {
   "cell_type": "code",
   "execution_count": 2,
   "id": "396a0aaa",
   "metadata": {},
   "outputs": [
    {
     "name": "stdout",
     "output_type": "stream",
     "text": [
      "Go \n",
      "Mike\n"
     ]
    }
   ],
   "source": [
    "x=\"Go\"\n",
    "\n",
    "if(x==\"Go\"):\n",
    "\n",
    "  print('Go ')\n",
    "\n",
    "else:\n",
    "\n",
    "  print('Stop')\n",
    "\n",
    "print('Mike')"
   ]
  },
  {
   "cell_type": "code",
   "execution_count": null,
   "id": "7d3b0e1c",
   "metadata": {},
   "outputs": [],
   "source": []
  },
  {
   "cell_type": "code",
   "execution_count": null,
   "id": "09105df2",
   "metadata": {},
   "outputs": [],
   "source": []
  },
  {
   "cell_type": "markdown",
   "id": "2d63008e",
   "metadata": {},
   "source": [
    "<code>def</code>\n",
    "<ol>suru</ol>\n",
    "<li>suru</li>\n",
    "<li>ramu</li>\n",
    "\n"
   ]
  },
  {
   "cell_type": "code",
   "execution_count": 7,
   "id": "d6a8cb50",
   "metadata": {},
   "outputs": [],
   "source": [
    "a = 'siSSSw1!!.'\n"
   ]
  },
  {
   "cell_type": "code",
   "execution_count": 9,
   "id": "6e4e3c8e",
   "metadata": {},
   "outputs": [
    {
     "data": {
      "text/plain": [
       "'sisssw1'"
      ]
     },
     "execution_count": 9,
     "metadata": {},
     "output_type": "execute_result"
    }
   ],
   "source": [
    "a.replace('.','').replace('!','').replace(',','').replace('.','').lower()"
   ]
  },
  {
   "cell_type": "code",
   "execution_count": 11,
   "id": "edfefecd",
   "metadata": {},
   "outputs": [],
   "source": [
    "fmtText = 'replace  replace method replace a specified phrase with another specified phrase'"
   ]
  },
  {
   "cell_type": "code",
   "execution_count": null,
   "id": "c9741d94",
   "metadata": {},
   "outputs": [],
   "source": []
  },
  {
   "cell_type": "code",
   "execution_count": 16,
   "id": "30b32d53",
   "metadata": {},
   "outputs": [],
   "source": [
    "wordList = fmtText.split(' ')\n",
    "\n",
    "\n",
    "setWords = set(wordList)\n",
    "d = {}\n",
    "for i in setWords:\n",
    "    d[i] = wordList.count(i)"
   ]
  },
  {
   "cell_type": "code",
   "execution_count": 18,
   "id": "5812c580",
   "metadata": {},
   "outputs": [
    {
     "data": {
      "text/plain": [
       "3"
      ]
     },
     "execution_count": 18,
     "metadata": {},
     "output_type": "execute_result"
    }
   ],
   "source": [
    "wordList.count(\"replace\")"
   ]
  },
  {
   "cell_type": "code",
   "execution_count": null,
   "id": "8b20818f",
   "metadata": {},
   "outputs": [],
   "source": [
    "     # split text into words\n",
    "        wordList = self.fmtText.split(' ')\n",
    "        \n",
    "        # Create dictionary\n",
    "        freqMap = {}\n",
    "        for word in set(wordList): # use set to remove duplicates in list\n",
    "            freqMap[word] = wordList.count(word)"
   ]
  },
  {
   "cell_type": "code",
   "execution_count": 6,
   "id": "731ece3d",
   "metadata": {},
   "outputs": [],
   "source": [
    "def n():\n",
    "    \"\"\"\n",
    "    returns nothing\n",
    "    \n",
    "    \"\"\"\n",
    "    pass"
   ]
  },
  {
   "cell_type": "code",
   "execution_count": null,
   "id": "cb37df5b",
   "metadata": {},
   "outputs": [],
   "source": []
  },
  {
   "cell_type": "code",
   "execution_count": null,
   "id": "3ef97644",
   "metadata": {},
   "outputs": [],
   "source": []
  },
  {
   "cell_type": "code",
   "execution_count": null,
   "id": "4caf8d9f",
   "metadata": {},
   "outputs": [],
   "source": []
  },
  {
   "cell_type": "code",
   "execution_count": null,
   "id": "679078b0",
   "metadata": {},
   "outputs": [],
   "source": []
  },
  {
   "cell_type": "code",
   "execution_count": 7,
   "id": "c86e549d",
   "metadata": {},
   "outputs": [
    {
     "name": "stdout",
     "output_type": "stream",
     "text": [
      "Help on function n in module __main__:\n",
      "\n",
      "n()\n",
      "    returns nothing\n",
      "\n"
     ]
    }
   ],
   "source": [
    "help(n)"
   ]
  },
  {
   "cell_type": "code",
   "execution_count": 8,
   "id": "53713715",
   "metadata": {},
   "outputs": [],
   "source": [
    "def d():\n",
    "    date = 1547\n",
    "    return date"
   ]
  },
  {
   "cell_type": "code",
   "execution_count": 14,
   "id": "b80d3de2",
   "metadata": {},
   "outputs": [
    {
     "name": "stdout",
     "output_type": "stream",
     "text": [
      "1333\n"
     ]
    },
    {
     "data": {
      "text/plain": [
       "1547"
      ]
     },
     "execution_count": 14,
     "metadata": {},
     "output_type": "execute_result"
    }
   ],
   "source": [
    "date = 1333\n",
    "print(date)\n",
    "d()"
   ]
  },
  {
   "cell_type": "code",
   "execution_count": null,
   "id": "d0428a91",
   "metadata": {},
   "outputs": [],
   "source": []
  },
  {
   "cell_type": "code",
   "execution_count": null,
   "id": "cfbf097f",
   "metadata": {},
   "outputs": [],
   "source": []
  },
  {
   "cell_type": "code",
   "execution_count": null,
   "id": "8a582c3a",
   "metadata": {},
   "outputs": [],
   "source": []
  },
  {
   "cell_type": "code",
   "execution_count": null,
   "id": "d9329a84",
   "metadata": {},
   "outputs": [],
   "source": [
    "PlayListRatings = [10, 9.5, 10, 8, 7.5, 5, 10, 10]\n",
    "i=0\n",
    "# while (PlayListRatings[i]>6):\n",
    "#     print(PlayListRatings[i])"
   ]
  },
  {
   "cell_type": "code",
   "execution_count": 1,
   "id": "2129b655",
   "metadata": {},
   "outputs": [],
   "source": [
    "# R.Shirley Pauline - 225229135\n",
    "# Lab 2 - Red Wine Quality Data Analysis using NumPy Part-II"
   ]
  },
  {
   "cell_type": "markdown",
   "id": "a513b21e",
   "metadata": {},
   "source": [
    "#### Import necessary modules"
   ]
  },
  {
   "cell_type": "code",
   "execution_count": 2,
   "id": "6f7175d8",
   "metadata": {},
   "outputs": [],
   "source": [
    "import numpy as np"
   ]
  },
  {
   "cell_type": "code",
   "execution_count": 3,
   "id": "b80af189",
   "metadata": {},
   "outputs": [],
   "source": [
    "wines = np.genfromtxt(\"winequality-red.csv\",delimiter=\",\",skip_header=1)"
   ]
  },
  {
   "cell_type": "code",
   "execution_count": 4,
   "id": "c3b37bd4",
   "metadata": {},
   "outputs": [
    {
     "data": {
      "text/plain": [
       "array([[ 7.4  ,  0.7  ,  0.   , ...,  0.56 ,  9.4  ,  5.   ],\n",
       "       [ 7.8  ,  0.88 ,  0.   , ...,  0.68 ,  9.8  ,  5.   ],\n",
       "       [ 7.8  ,  0.76 ,  0.04 , ...,  0.65 ,  9.8  ,  5.   ],\n",
       "       ...,\n",
       "       [ 6.3  ,  0.51 ,  0.13 , ...,  0.75 , 11.   ,  6.   ],\n",
       "       [ 5.9  ,  0.645,  0.12 , ...,  0.71 , 10.2  ,  5.   ],\n",
       "       [ 6.   ,  0.31 ,  0.47 , ...,  0.66 , 11.   ,  6.   ]])"
      ]
     },
     "execution_count": 4,
     "metadata": {},
     "output_type": "execute_result"
    }
   ],
   "source": [
    "wines"
   ]
  },
  {
   "cell_type": "code",
   "execution_count": 5,
   "id": "126b55df",
   "metadata": {},
   "outputs": [
    {
     "data": {
      "text/plain": [
       "dtype('float64')"
      ]
     },
     "execution_count": 5,
     "metadata": {},
     "output_type": "execute_result"
    }
   ],
   "source": [
    "wines.dtype"
   ]
  },
  {
   "cell_type": "markdown",
   "id": "169306ee",
   "metadata": {},
   "source": [
    "### NumPy Aggregation Methods"
   ]
  },
  {
   "cell_type": "markdown",
   "id": "414338a3",
   "metadata": {},
   "source": [
    "#### Find sum of all residual sugar values"
   ]
  },
  {
   "cell_type": "code",
   "execution_count": 6,
   "id": "bfbbf13e",
   "metadata": {},
   "outputs": [
    {
     "data": {
      "text/plain": [
       "4059.55"
      ]
     },
     "execution_count": 6,
     "metadata": {},
     "output_type": "execute_result"
    }
   ],
   "source": [
    "np.sum(wines[:,3])"
   ]
  },
  {
   "cell_type": "markdown",
   "id": "f333f63a",
   "metadata": {},
   "source": [
    "#### Find sums of every feature value. There are 12 features altogether"
   ]
  },
  {
   "cell_type": "code",
   "execution_count": 7,
   "id": "d80ce2ee",
   "metadata": {},
   "outputs": [
    {
     "data": {
      "text/plain": [
       "array([13303.1    ,   843.985  ,   433.29   ,  4059.55   ,   139.859  ,\n",
       "       25384.     , 74302.     ,  1593.79794,  5294.47   ,  1052.38   ,\n",
       "       16666.35   ,  9012.     ])"
      ]
     },
     "execution_count": 7,
     "metadata": {},
     "output_type": "execute_result"
    }
   ],
   "source": [
    "np.sum(wines,axis=0)"
   ]
  },
  {
   "cell_type": "markdown",
   "id": "cd4b37ff",
   "metadata": {},
   "source": [
    "#### Find sum of every row"
   ]
  },
  {
   "cell_type": "code",
   "execution_count": 8,
   "id": "8c6ad663",
   "metadata": {},
   "outputs": [
    {
     "data": {
      "text/plain": [
       "array([ 74.5438 , 123.0548 ,  99.699  , ..., 100.48174, 105.21547,\n",
       "        92.49249])"
      ]
     },
     "execution_count": 8,
     "metadata": {},
     "output_type": "execute_result"
    }
   ],
   "source": [
    "np.sum(wines,axis=1)"
   ]
  },
  {
   "cell_type": "markdown",
   "id": "d5444c35",
   "metadata": {},
   "source": [
    "#### What is its size?"
   ]
  },
  {
   "cell_type": "code",
   "execution_count": 9,
   "id": "f7722e56",
   "metadata": {},
   "outputs": [
    {
     "data": {
      "text/plain": [
       "(1599, 12)"
      ]
     },
     "execution_count": 9,
     "metadata": {},
     "output_type": "execute_result"
    }
   ],
   "source": [
    "wines.shape"
   ]
  },
  {
   "cell_type": "markdown",
   "id": "136a96ca",
   "metadata": {},
   "source": [
    "#### What is the maximum residual sugar value in the red wines data?"
   ]
  },
  {
   "cell_type": "code",
   "execution_count": 10,
   "id": "83467ad8",
   "metadata": {},
   "outputs": [
    {
     "data": {
      "text/plain": [
       "array([1, 2, 2, ..., 2, 2, 3])"
      ]
     },
     "execution_count": 10,
     "metadata": {},
     "output_type": "execute_result"
    }
   ],
   "source": [
    "# convert sugar value into int data type first\n",
    "res_int = wines[:,3].astype(int)\n",
    "res_int"
   ]
  },
  {
   "cell_type": "markdown",
   "id": "bffa4f1d",
   "metadata": {},
   "source": [
    "#### find its maximum residual sugar value"
   ]
  },
  {
   "cell_type": "code",
   "execution_count": 11,
   "id": "fdfc675a",
   "metadata": {
    "scrolled": true
   },
   "outputs": [
    {
     "data": {
      "text/plain": [
       "15"
      ]
     },
     "execution_count": 11,
     "metadata": {},
     "output_type": "execute_result"
    }
   ],
   "source": [
    "np.amax(res_int)"
   ]
  },
  {
   "cell_type": "markdown",
   "id": "5a42f787",
   "metadata": {},
   "source": [
    "#### What is the minimum residual sugar value in red wines data?"
   ]
  },
  {
   "cell_type": "code",
   "execution_count": 12,
   "id": "2c8aabcd",
   "metadata": {},
   "outputs": [
    {
     "data": {
      "text/plain": [
       "0"
      ]
     },
     "execution_count": 12,
     "metadata": {},
     "output_type": "execute_result"
    }
   ],
   "source": [
    "np.amin(res_int)"
   ]
  },
  {
   "cell_type": "markdown",
   "id": "89ac992d",
   "metadata": {},
   "source": [
    "#### What is the average residual sugar value in red wines data?"
   ]
  },
  {
   "cell_type": "code",
   "execution_count": 13,
   "id": "c3b40975",
   "metadata": {},
   "outputs": [
    {
     "data": {
      "text/plain": [
       "2.53880550343965"
      ]
     },
     "execution_count": 13,
     "metadata": {},
     "output_type": "execute_result"
    }
   ],
   "source": [
    "np.average(wines[:,3])"
   ]
  },
  {
   "cell_type": "markdown",
   "id": "817ddba4",
   "metadata": {},
   "source": [
    "#### What is 25 percentile residual sugar value?"
   ]
  },
  {
   "cell_type": "code",
   "execution_count": 14,
   "id": "3989f446",
   "metadata": {},
   "outputs": [
    {
     "data": {
      "text/plain": [
       "1.9"
      ]
     },
     "execution_count": 14,
     "metadata": {},
     "output_type": "execute_result"
    }
   ],
   "source": [
    "np.percentile(wines[:,3],25)"
   ]
  },
  {
   "cell_type": "markdown",
   "id": "922eeaac",
   "metadata": {},
   "source": [
    "#### What is 75 percentile residual sugar value?"
   ]
  },
  {
   "cell_type": "code",
   "execution_count": 15,
   "id": "d2a594ce",
   "metadata": {},
   "outputs": [
    {
     "data": {
      "text/plain": [
       "2.6"
      ]
     },
     "execution_count": 15,
     "metadata": {},
     "output_type": "execute_result"
    }
   ],
   "source": [
    "np.percentile(wines[:,3],75)"
   ]
  },
  {
   "cell_type": "markdown",
   "id": "3b6a9d50",
   "metadata": {},
   "source": [
    "#### Find the average of each feature value"
   ]
  },
  {
   "cell_type": "code",
   "execution_count": 16,
   "id": "b8bc80df",
   "metadata": {
    "scrolled": true
   },
   "outputs": [
    {
     "data": {
      "text/plain": [
       "array([ 8.31963727,  0.52782051,  0.27097561,  2.5388055 ,  0.08746654,\n",
       "       15.87492183, 46.46779237,  0.99674668,  3.3111132 ,  0.65814884,\n",
       "       10.42298311,  5.63602251])"
      ]
     },
     "execution_count": 16,
     "metadata": {},
     "output_type": "execute_result"
    }
   ],
   "source": [
    "np.average(wines,axis=0)"
   ]
  },
  {
   "cell_type": "markdown",
   "id": "c8dc5452",
   "metadata": {},
   "source": [
    "### NumPy Array Comparisons"
   ]
  },
  {
   "cell_type": "markdown",
   "id": "6bee89d0",
   "metadata": {},
   "source": [
    "#### Show all wines with quality > 5"
   ]
  },
  {
   "cell_type": "code",
   "execution_count": 17,
   "id": "e8b55cc3",
   "metadata": {},
   "outputs": [
    {
     "data": {
      "text/plain": [
       "array([ True, False, False, False, False,  True,  True, False, False,\n",
       "       False,  True, False])"
      ]
     },
     "execution_count": 17,
     "metadata": {},
     "output_type": "execute_result"
    }
   ],
   "source": [
    "wines[12] > 5"
   ]
  },
  {
   "cell_type": "markdown",
   "id": "f649445f",
   "metadata": {},
   "source": [
    "#### Show all wines with quality > 7"
   ]
  },
  {
   "cell_type": "code",
   "execution_count": 18,
   "id": "7cc01899",
   "metadata": {},
   "outputs": [
    {
     "data": {
      "text/plain": [
       "array([False, False, False, ..., False, False, False])"
      ]
     },
     "execution_count": 18,
     "metadata": {},
     "output_type": "execute_result"
    }
   ],
   "source": [
    "gtr = wines[:,11] > 7\n",
    "gtr"
   ]
  },
  {
   "cell_type": "markdown",
   "id": "f2dca3b4",
   "metadata": {},
   "source": [
    "#### check if any wines value is True for the condition quality > 7"
   ]
  },
  {
   "cell_type": "code",
   "execution_count": 19,
   "id": "73f09b03",
   "metadata": {},
   "outputs": [
    {
     "data": {
      "text/plain": [
       "True"
      ]
     },
     "execution_count": 19,
     "metadata": {},
     "output_type": "execute_result"
    }
   ],
   "source": [
    "gtr.any()"
   ]
  },
  {
   "cell_type": "markdown",
   "id": "df6f1d60",
   "metadata": {},
   "source": [
    "#### Show first 3 rows where wine quality > 7, call it high_quality"
   ]
  },
  {
   "cell_type": "code",
   "execution_count": 20,
   "id": "249ed791",
   "metadata": {
    "scrolled": true
   },
   "outputs": [
    {
     "data": {
      "text/plain": [
       "array([False, False, False, ..., False, False, False])"
      ]
     },
     "execution_count": 20,
     "metadata": {},
     "output_type": "execute_result"
    }
   ],
   "source": [
    "high_quality = wines[:,11] > 7\n",
    "high_quality"
   ]
  },
  {
   "cell_type": "markdown",
   "id": "c2265b78",
   "metadata": {},
   "source": [
    "#### Show only top 3 rows and all columns of high_quality wines data"
   ]
  },
  {
   "cell_type": "code",
   "execution_count": 21,
   "id": "fb95d94e",
   "metadata": {},
   "outputs": [
    {
     "data": {
      "text/plain": [
       "array([[7.900e+00, 3.500e-01, 4.600e-01, 3.600e+00, 7.800e-02, 1.500e+01,\n",
       "        3.700e+01, 9.973e-01, 3.350e+00, 8.600e-01, 1.280e+01, 8.000e+00],\n",
       "       [1.030e+01, 3.200e-01, 4.500e-01, 6.400e+00, 7.300e-02, 5.000e+00,\n",
       "        1.300e+01, 9.976e-01, 3.230e+00, 8.200e-01, 1.260e+01, 8.000e+00],\n",
       "       [5.600e+00, 8.500e-01, 5.000e-02, 1.400e+00, 4.500e-02, 1.200e+01,\n",
       "        8.800e+01, 9.924e-01, 3.560e+00, 8.200e-01, 1.290e+01, 8.000e+00]])"
      ]
     },
     "execution_count": 21,
     "metadata": {},
     "output_type": "execute_result"
    }
   ],
   "source": [
    "wines[high_quality,:][:3,:]"
   ]
  },
  {
   "cell_type": "markdown",
   "id": "e717e513",
   "metadata": {},
   "source": [
    "#### Show wines with a lot of alcohol > 10 and high wine quality > 7"
   ]
  },
  {
   "cell_type": "code",
   "execution_count": 22,
   "id": "2c527c80",
   "metadata": {
    "scrolled": true
   },
   "outputs": [
    {
     "data": {
      "text/plain": [
       "array([[7.9000e+00, 3.5000e-01, 4.6000e-01, 3.6000e+00, 7.8000e-02,\n",
       "        1.5000e+01, 3.7000e+01, 9.9730e-01, 3.3500e+00, 8.6000e-01,\n",
       "        1.2800e+01, 8.0000e+00],\n",
       "       [1.0300e+01, 3.2000e-01, 4.5000e-01, 6.4000e+00, 7.3000e-02,\n",
       "        5.0000e+00, 1.3000e+01, 9.9760e-01, 3.2300e+00, 8.2000e-01,\n",
       "        1.2600e+01, 8.0000e+00],\n",
       "       [5.6000e+00, 8.5000e-01, 5.0000e-02, 1.4000e+00, 4.5000e-02,\n",
       "        1.2000e+01, 8.8000e+01, 9.9240e-01, 3.5600e+00, 8.2000e-01,\n",
       "        1.2900e+01, 8.0000e+00],\n",
       "       [1.1300e+01, 6.2000e-01, 6.7000e-01, 5.2000e+00, 8.6000e-02,\n",
       "        6.0000e+00, 1.9000e+01, 9.9880e-01, 3.2200e+00, 6.9000e-01,\n",
       "        1.3400e+01, 8.0000e+00],\n",
       "       [9.4000e+00, 3.0000e-01, 5.6000e-01, 2.8000e+00, 8.0000e-02,\n",
       "        6.0000e+00, 1.7000e+01, 9.9640e-01, 3.1500e+00, 9.2000e-01,\n",
       "        1.1700e+01, 8.0000e+00],\n",
       "       [1.0700e+01, 3.5000e-01, 5.3000e-01, 2.6000e+00, 7.0000e-02,\n",
       "        5.0000e+00, 1.6000e+01, 9.9720e-01, 3.1500e+00, 6.5000e-01,\n",
       "        1.1000e+01, 8.0000e+00],\n",
       "       [1.0700e+01, 3.5000e-01, 5.3000e-01, 2.6000e+00, 7.0000e-02,\n",
       "        5.0000e+00, 1.6000e+01, 9.9720e-01, 3.1500e+00, 6.5000e-01,\n",
       "        1.1000e+01, 8.0000e+00],\n",
       "       [5.0000e+00, 4.2000e-01, 2.4000e-01, 2.0000e+00, 6.0000e-02,\n",
       "        1.9000e+01, 5.0000e+01, 9.9170e-01, 3.7200e+00, 7.4000e-01,\n",
       "        1.4000e+01, 8.0000e+00],\n",
       "       [7.8000e+00, 5.7000e-01, 9.0000e-02, 2.3000e+00, 6.5000e-02,\n",
       "        3.4000e+01, 4.5000e+01, 9.9417e-01, 3.4600e+00, 7.4000e-01,\n",
       "        1.2700e+01, 8.0000e+00],\n",
       "       [9.1000e+00, 4.0000e-01, 5.0000e-01, 1.8000e+00, 7.1000e-02,\n",
       "        7.0000e+00, 1.6000e+01, 9.9462e-01, 3.2100e+00, 6.9000e-01,\n",
       "        1.2500e+01, 8.0000e+00],\n",
       "       [1.0000e+01, 2.6000e-01, 5.4000e-01, 1.9000e+00, 8.3000e-02,\n",
       "        4.2000e+01, 7.4000e+01, 9.9451e-01, 2.9800e+00, 6.3000e-01,\n",
       "        1.1800e+01, 8.0000e+00],\n",
       "       [7.9000e+00, 5.4000e-01, 3.4000e-01, 2.5000e+00, 7.6000e-02,\n",
       "        8.0000e+00, 1.7000e+01, 9.9235e-01, 3.2000e+00, 7.2000e-01,\n",
       "        1.3100e+01, 8.0000e+00],\n",
       "       [8.6000e+00, 4.2000e-01, 3.9000e-01, 1.8000e+00, 6.8000e-02,\n",
       "        6.0000e+00, 1.2000e+01, 9.9516e-01, 3.3500e+00, 6.9000e-01,\n",
       "        1.1700e+01, 8.0000e+00],\n",
       "       [5.5000e+00, 4.9000e-01, 3.0000e-02, 1.8000e+00, 4.4000e-02,\n",
       "        2.8000e+01, 8.7000e+01, 9.9080e-01, 3.5000e+00, 8.2000e-01,\n",
       "        1.4000e+01, 8.0000e+00],\n",
       "       [7.2000e+00, 3.8000e-01, 3.1000e-01, 2.0000e+00, 5.6000e-02,\n",
       "        1.5000e+01, 2.9000e+01, 9.9472e-01, 3.2300e+00, 7.6000e-01,\n",
       "        1.1300e+01, 8.0000e+00],\n",
       "       [7.4000e+00, 3.6000e-01, 3.0000e-01, 1.8000e+00, 7.4000e-02,\n",
       "        1.7000e+01, 2.4000e+01, 9.9419e-01, 3.2400e+00, 7.0000e-01,\n",
       "        1.1400e+01, 8.0000e+00]])"
      ]
     },
     "execution_count": 22,
     "metadata": {},
     "output_type": "execute_result"
    }
   ],
   "source": [
    "al_qual = (wines[:,10]>10) & (wines[:,11]>7)\n",
    "alq = wines[al_qual,:]\n",
    "alq"
   ]
  },
  {
   "cell_type": "markdown",
   "id": "35323a6c",
   "metadata": {},
   "source": [
    "#### show only alcohol and wine quality columns"
   ]
  },
  {
   "cell_type": "code",
   "execution_count": 23,
   "id": "d9a1d335",
   "metadata": {},
   "outputs": [
    {
     "data": {
      "text/plain": [
       "array([[12.8,  8. ],\n",
       "       [12.6,  8. ],\n",
       "       [12.9,  8. ],\n",
       "       [13.4,  8. ],\n",
       "       [11.7,  8. ],\n",
       "       [11. ,  8. ],\n",
       "       [11. ,  8. ],\n",
       "       [14. ,  8. ],\n",
       "       [12.7,  8. ],\n",
       "       [12.5,  8. ],\n",
       "       [11.8,  8. ],\n",
       "       [13.1,  8. ],\n",
       "       [11.7,  8. ],\n",
       "       [14. ,  8. ],\n",
       "       [11.3,  8. ],\n",
       "       [11.4,  8. ]])"
      ]
     },
     "execution_count": 23,
     "metadata": {},
     "output_type": "execute_result"
    }
   ],
   "source": [
    "alq[:,10:12]"
   ]
  },
  {
   "cell_type": "markdown",
   "id": "96e1fa75",
   "metadata": {},
   "source": [
    "### Combining NumPy Arrays"
   ]
  },
  {
   "cell_type": "markdown",
   "id": "14aec0f9",
   "metadata": {},
   "source": [
    "#### Combine red wine and white wine data"
   ]
  },
  {
   "cell_type": "markdown",
   "id": "838c3e2c",
   "metadata": {},
   "source": [
    "#### Open white wine dataset"
   ]
  },
  {
   "cell_type": "code",
   "execution_count": 24,
   "id": "769ec1f6",
   "metadata": {},
   "outputs": [
    {
     "data": {
      "text/plain": [
       "array([[ 7.  ,  0.27,  0.36, ...,  0.45,  8.8 ,  6.  ],\n",
       "       [ 6.3 ,  0.3 ,  0.34, ...,  0.49,  9.5 ,  6.  ],\n",
       "       [ 8.1 ,  0.28,  0.4 , ...,  0.44, 10.1 ,  6.  ],\n",
       "       ...,\n",
       "       [ 6.5 ,  0.24,  0.19, ...,  0.46,  9.4 ,  6.  ],\n",
       "       [ 5.5 ,  0.29,  0.3 , ...,  0.38, 12.8 ,  7.  ],\n",
       "       [ 6.  ,  0.21,  0.38, ...,  0.32, 11.8 ,  6.  ]])"
      ]
     },
     "execution_count": 24,
     "metadata": {},
     "output_type": "execute_result"
    }
   ],
   "source": [
    "white_wines = np.genfromtxt(\"winequality-white.csv\", delimiter=\";\", skip_header=1)\n",
    "white_wines"
   ]
  },
  {
   "cell_type": "markdown",
   "id": "58847b9f",
   "metadata": {},
   "source": [
    "#### Show size of white_wines"
   ]
  },
  {
   "cell_type": "code",
   "execution_count": 25,
   "id": "9f68c8f9",
   "metadata": {},
   "outputs": [
    {
     "data": {
      "text/plain": [
       "(4898, 12)"
      ]
     },
     "execution_count": 25,
     "metadata": {},
     "output_type": "execute_result"
    }
   ],
   "source": [
    "white_wines.shape"
   ]
  },
  {
   "cell_type": "markdown",
   "id": "f362e8c2",
   "metadata": {},
   "source": [
    "#### combine wines and white_wines data frames using vstack and call it all_wines"
   ]
  },
  {
   "cell_type": "code",
   "execution_count": 26,
   "id": "1c47b3b4",
   "metadata": {},
   "outputs": [],
   "source": [
    "all_wines = np.vstack((wines,white_wines))"
   ]
  },
  {
   "cell_type": "code",
   "execution_count": 27,
   "id": "6acfa3c3",
   "metadata": {},
   "outputs": [
    {
     "data": {
      "text/plain": [
       "(6497, 12)"
      ]
     },
     "execution_count": 27,
     "metadata": {},
     "output_type": "execute_result"
    }
   ],
   "source": [
    "# what is size of all_wines?\n",
    "all_wines.shape"
   ]
  },
  {
   "cell_type": "code",
   "execution_count": null,
   "id": "5192867a",
   "metadata": {},
   "outputs": [],
   "source": []
  },
  {
   "cell_type": "markdown",
   "id": "5aff6e40",
   "metadata": {},
   "source": [
    "#### Combine wines and white_wines data frames using concatenate method"
   ]
  },
  {
   "cell_type": "code",
   "execution_count": 28,
   "id": "748954fb",
   "metadata": {},
   "outputs": [],
   "source": [
    "data2 = np.concatenate((wines,white_wines))"
   ]
  },
  {
   "cell_type": "code",
   "execution_count": 29,
   "id": "c0df85e2",
   "metadata": {},
   "outputs": [
    {
     "data": {
      "text/plain": [
       "(6497, 12)"
      ]
     },
     "execution_count": 29,
     "metadata": {},
     "output_type": "execute_result"
    }
   ],
   "source": [
    "# size of data2\n",
    "data2.shape"
   ]
  },
  {
   "cell_type": "markdown",
   "id": "57197f22",
   "metadata": {},
   "source": [
    "### Matrix Operations and Reshape"
   ]
  },
  {
   "cell_type": "markdown",
   "id": "1b2d318a",
   "metadata": {},
   "source": [
    "#### Find Transpose of wines and print its size"
   ]
  },
  {
   "cell_type": "code",
   "execution_count": 30,
   "id": "df49966c",
   "metadata": {},
   "outputs": [
    {
     "data": {
      "text/plain": [
       "(12, 1599)"
      ]
     },
     "execution_count": 30,
     "metadata": {},
     "output_type": "execute_result"
    }
   ],
   "source": [
    "trans = np.transpose(wines)\n",
    "trans.shape"
   ]
  },
  {
   "cell_type": "markdown",
   "id": "8df8913e",
   "metadata": {},
   "source": [
    "#### Convert wines data into 1D array"
   ]
  },
  {
   "cell_type": "code",
   "execution_count": 31,
   "id": "9870473d",
   "metadata": {},
   "outputs": [
    {
     "data": {
      "text/plain": [
       "array([ 7.4 ,  0.7 ,  0.  , ...,  0.66, 11.  ,  6.  ])"
      ]
     },
     "execution_count": 31,
     "metadata": {},
     "output_type": "execute_result"
    }
   ],
   "source": [
    "wines.ravel()"
   ]
  },
  {
   "cell_type": "code",
   "execution_count": 32,
   "id": "e46f030a",
   "metadata": {},
   "outputs": [
    {
     "data": {
      "text/plain": [
       "(19188,)"
      ]
     },
     "execution_count": 32,
     "metadata": {},
     "output_type": "execute_result"
    }
   ],
   "source": [
    "# show size\n",
    "wines.ravel().shape"
   ]
  },
  {
   "cell_type": "markdown",
   "id": "e85234db",
   "metadata": {},
   "source": [
    "#### Reshape second row of wines into a 2-dimensional array with 2 rows and 6 columns"
   ]
  },
  {
   "cell_type": "code",
   "execution_count": 33,
   "id": "7939dc74",
   "metadata": {},
   "outputs": [
    {
     "data": {
      "text/plain": [
       "array([[ 7.8   ,  0.88  ,  0.    ,  2.6   ,  0.098 , 25.    ],\n",
       "       [67.    ,  0.9968,  3.2   ,  0.68  ,  9.8   ,  5.    ]])"
      ]
     },
     "execution_count": 33,
     "metadata": {},
     "output_type": "execute_result"
    }
   ],
   "source": [
    "wines[1,:].reshape(2,6)"
   ]
  },
  {
   "cell_type": "markdown",
   "id": "bd6d8ef5",
   "metadata": {},
   "source": [
    "### Sort alcohol column Ascending Order"
   ]
  },
  {
   "cell_type": "code",
   "execution_count": 34,
   "id": "6d5b3bb5",
   "metadata": {},
   "outputs": [],
   "source": [
    "sorted_alcohol = np.sort(wines[:,10])"
   ]
  },
  {
   "cell_type": "code",
   "execution_count": 35,
   "id": "720522bc",
   "metadata": {},
   "outputs": [
    {
     "data": {
      "text/plain": [
       "array([ 8.4,  8.4,  8.5, ..., 14. , 14. , 14.9])"
      ]
     },
     "execution_count": 35,
     "metadata": {},
     "output_type": "execute_result"
    }
   ],
   "source": [
    "sorted_alcohol"
   ]
  },
  {
   "cell_type": "markdown",
   "id": "48b7f285",
   "metadata": {},
   "source": [
    "#### Make sorting to take place in-place"
   ]
  },
  {
   "cell_type": "code",
   "execution_count": 36,
   "id": "8bb17d37",
   "metadata": {},
   "outputs": [],
   "source": [
    "# In-place sorting\n"
   ]
  },
  {
   "cell_type": "markdown",
   "id": "e5f1a647",
   "metadata": {},
   "source": [
    "#### Show top 10 rows"
   ]
  },
  {
   "cell_type": "code",
   "execution_count": 37,
   "id": "c157a77b",
   "metadata": {},
   "outputs": [],
   "source": [
    "##sorted_alcohol[:10]"
   ]
  },
  {
   "cell_type": "markdown",
   "id": "02dc050a",
   "metadata": {},
   "source": [
    "### Sort alcohol column Descending Order"
   ]
  },
  {
   "cell_type": "code",
   "execution_count": 39,
   "id": "cb3a3fbf",
   "metadata": {},
   "outputs": [],
   "source": [
    "sorted_alcohol_desc = np.sort(wines[:,10])[::-1]"
   ]
  },
  {
   "cell_type": "code",
   "execution_count": 40,
   "id": "c3b7ddc6",
   "metadata": {},
   "outputs": [
    {
     "data": {
      "text/plain": [
       "array([14.9, 14. , 14. , ...,  8.5,  8.4,  8.4])"
      ]
     },
     "execution_count": 40,
     "metadata": {},
     "output_type": "execute_result"
    }
   ],
   "source": [
    "sorted_alcohol_desc"
   ]
  },
  {
   "cell_type": "markdown",
   "id": "ffaf4486",
   "metadata": {},
   "source": [
    "#### Will original data be modified?. Check top 10 rows"
   ]
  },
  {
   "cell_type": "code",
   "execution_count": null,
   "id": "b2a42b50",
   "metadata": {},
   "outputs": [],
   "source": []
  },
  {
   "cell_type": "code",
   "execution_count": null,
   "id": "9fc6042f",
   "metadata": {},
   "outputs": [],
   "source": []
  },
  {
   "cell_type": "code",
   "execution_count": null,
   "id": "1d8de462",
   "metadata": {},
   "outputs": [],
   "source": []
  }
 ],
 "metadata": {
  "kernelspec": {
   "display_name": "Python 3 (ipykernel)",
   "language": "python",
   "name": "python3"
  },
  "language_info": {
   "codemirror_mode": {
    "name": "ipython",
    "version": 3
   },
   "file_extension": ".py",
   "mimetype": "text/x-python",
   "name": "python",
   "nbconvert_exporter": "python",
   "pygments_lexer": "ipython3",
   "version": "3.9.12"
  }
 },
 "nbformat": 4,
 "nbformat_minor": 5
}
