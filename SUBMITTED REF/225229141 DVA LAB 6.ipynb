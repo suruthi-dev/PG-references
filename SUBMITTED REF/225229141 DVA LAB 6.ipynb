{
 "cells": [
  {
   "cell_type": "markdown",
   "id": "3fe828a2",
   "metadata": {},
   "source": [
    "# Lab 6:Pandas Data Cleaning"
   ]
  },
  {
   "cell_type": "markdown",
   "id": "6c4cf7f5",
   "metadata": {},
   "source": [
    "# SURUTHI S\n",
    "# 225229141"
   ]
  },
  {
   "cell_type": "code",
   "execution_count": 58,
   "id": "6b0ca88e",
   "metadata": {},
   "outputs": [
    {
     "data": {
      "text/html": [
       "<div>\n",
       "<style scoped>\n",
       "    .dataframe tbody tr th:only-of-type {\n",
       "        vertical-align: middle;\n",
       "    }\n",
       "\n",
       "    .dataframe tbody tr th {\n",
       "        vertical-align: top;\n",
       "    }\n",
       "\n",
       "    .dataframe thead th {\n",
       "        text-align: right;\n",
       "    }\n",
       "</style>\n",
       "<table border=\"1\" class=\"dataframe\">\n",
       "  <thead>\n",
       "    <tr style=\"text-align: right;\">\n",
       "      <th></th>\n",
       "      <th>Date</th>\n",
       "      <th>Open</th>\n",
       "      <th>High</th>\n",
       "      <th>Low</th>\n",
       "      <th>Close</th>\n",
       "      <th>Adj Close</th>\n",
       "      <th>Volume</th>\n",
       "    </tr>\n",
       "  </thead>\n",
       "  <tbody>\n",
       "    <tr>\n",
       "      <th>0</th>\n",
       "      <td>2022-02-28</td>\n",
       "      <td>37706.000000</td>\n",
       "      <td>45077.578125</td>\n",
       "      <td>37518.214844</td>\n",
       "      <td>38419.984375</td>\n",
       "      <td>38419.984375</td>\n",
       "      <td>187557375751</td>\n",
       "    </tr>\n",
       "    <tr>\n",
       "      <th>1</th>\n",
       "      <td>2022-03-07</td>\n",
       "      <td>38429.304688</td>\n",
       "      <td>42465.671875</td>\n",
       "      <td>37260.203125</td>\n",
       "      <td>37849.664063</td>\n",
       "      <td>37849.664063</td>\n",
       "      <td>175966999156</td>\n",
       "    </tr>\n",
       "    <tr>\n",
       "      <th>2</th>\n",
       "      <td>2022-03-14</td>\n",
       "      <td>37846.316406</td>\n",
       "      <td>42316.554688</td>\n",
       "      <td>37680.734375</td>\n",
       "      <td>41247.824219</td>\n",
       "      <td>41247.824219</td>\n",
       "      <td>184097042034</td>\n",
       "    </tr>\n",
       "    <tr>\n",
       "      <th>3</th>\n",
       "      <td>2022-03-21</td>\n",
       "      <td>41246.132813</td>\n",
       "      <td>46827.546875</td>\n",
       "      <td>40668.042969</td>\n",
       "      <td>46820.492188</td>\n",
       "      <td>46820.492188</td>\n",
       "      <td>188591889758</td>\n",
       "    </tr>\n",
       "    <tr>\n",
       "      <th>4</th>\n",
       "      <td>2022-03-28</td>\n",
       "      <td>46821.851563</td>\n",
       "      <td>48086.835938</td>\n",
       "      <td>44403.140625</td>\n",
       "      <td>46453.566406</td>\n",
       "      <td>46453.566406</td>\n",
       "      <td>223334181931</td>\n",
       "    </tr>\n",
       "    <tr>\n",
       "      <th>5</th>\n",
       "      <td>2022-04-04</td>\n",
       "      <td>46445.273438</td>\n",
       "      <td>47106.140625</td>\n",
       "      <td>42021.207031</td>\n",
       "      <td>42207.671875</td>\n",
       "      <td>42207.671875</td>\n",
       "      <td>188557001876</td>\n",
       "    </tr>\n",
       "    <tr>\n",
       "      <th>6</th>\n",
       "      <td>2022-04-11</td>\n",
       "      <td>42201.039063</td>\n",
       "      <td>42424.589844</td>\n",
       "      <td>39373.058594</td>\n",
       "      <td>39716.953125</td>\n",
       "      <td>39716.953125</td>\n",
       "      <td>174652159709</td>\n",
       "    </tr>\n",
       "    <tr>\n",
       "      <th>7</th>\n",
       "      <td>2022-04-18</td>\n",
       "      <td>39721.203125</td>\n",
       "      <td>42893.582031</td>\n",
       "      <td>38696.191406</td>\n",
       "      <td>39469.292969</td>\n",
       "      <td>39469.292969</td>\n",
       "      <td>184314843516</td>\n",
       "    </tr>\n",
       "    <tr>\n",
       "      <th>8</th>\n",
       "      <td>2022-04-25</td>\n",
       "      <td>39472.605469</td>\n",
       "      <td>40713.890625</td>\n",
       "      <td>37585.789063</td>\n",
       "      <td>38469.093750</td>\n",
       "      <td>38469.093750</td>\n",
       "      <td>216681007567</td>\n",
       "    </tr>\n",
       "    <tr>\n",
       "      <th>9</th>\n",
       "      <td>2022-05-02</td>\n",
       "      <td>38472.187500</td>\n",
       "      <td>39902.949219</td>\n",
       "      <td>33878.964844</td>\n",
       "      <td>34059.265625</td>\n",
       "      <td>34059.265625</td>\n",
       "      <td>239044762282</td>\n",
       "    </tr>\n",
       "  </tbody>\n",
       "</table>\n",
       "</div>"
      ],
      "text/plain": [
       "         Date          Open          High           Low         Close  \\\n",
       "0  2022-02-28  37706.000000  45077.578125  37518.214844  38419.984375   \n",
       "1  2022-03-07  38429.304688  42465.671875  37260.203125  37849.664063   \n",
       "2  2022-03-14  37846.316406  42316.554688  37680.734375  41247.824219   \n",
       "3  2022-03-21  41246.132813  46827.546875  40668.042969  46820.492188   \n",
       "4  2022-03-28  46821.851563  48086.835938  44403.140625  46453.566406   \n",
       "5  2022-04-04  46445.273438  47106.140625  42021.207031  42207.671875   \n",
       "6  2022-04-11  42201.039063  42424.589844  39373.058594  39716.953125   \n",
       "7  2022-04-18  39721.203125  42893.582031  38696.191406  39469.292969   \n",
       "8  2022-04-25  39472.605469  40713.890625  37585.789063  38469.093750   \n",
       "9  2022-05-02  38472.187500  39902.949219  33878.964844  34059.265625   \n",
       "\n",
       "      Adj Close        Volume  \n",
       "0  38419.984375  187557375751  \n",
       "1  37849.664063  175966999156  \n",
       "2  41247.824219  184097042034  \n",
       "3  46820.492188  188591889758  \n",
       "4  46453.566406  223334181931  \n",
       "5  42207.671875  188557001876  \n",
       "6  39716.953125  174652159709  \n",
       "7  39469.292969  184314843516  \n",
       "8  38469.093750  216681007567  \n",
       "9  34059.265625  239044762282  "
      ]
     },
     "execution_count": 58,
     "metadata": {},
     "output_type": "execute_result"
    }
   ],
   "source": [
    "import pandas as pd\n",
    "df = pd.read_csv(\"BTC-USD.csv\")\n",
    "df.head(10)\n"
   ]
  },
  {
   "cell_type": "code",
   "execution_count": 59,
   "id": "cd2fc5a5",
   "metadata": {},
   "outputs": [
    {
     "name": "stdout",
     "output_type": "stream",
     "text": [
      "Index(['Date', 'Open', 'High', 'Low', 'Close', 'Adj Close', 'Volume'], dtype='object')\n",
      "Date is unique : True\n",
      "Open is unique : True\n",
      "High is unique : True\n",
      "Low is unique : True\n",
      "Close is unique : True\n",
      "Adj Close is unique : True\n",
      "Volume is unique : True\n"
     ]
    }
   ],
   "source": [
    "column_names = df.columns\n",
    "print(column_names)\n",
    "df.dtypes\n",
    "for i in column_names:\n",
    "    print(\"{} is unique : {}\".format(i,df[i].is_unique))\n"
   ]
  },
  {
   "cell_type": "code",
   "execution_count": 60,
   "id": "165dda2d",
   "metadata": {},
   "outputs": [
    {
     "data": {
      "text/plain": [
       "array([ 0,  1,  2,  3,  4,  5,  6,  7,  8,  9, 10, 11, 12, 13, 14, 15, 16,\n",
       "       17, 18, 19, 20, 21, 22, 23, 24, 25, 26, 27, 28, 29, 30, 31, 32, 33,\n",
       "       34, 35, 36, 37, 38, 39, 40, 41, 42, 43, 44, 45, 46, 47, 48, 49, 50,\n",
       "       51, 52, 53], dtype=int64)"
      ]
     },
     "execution_count": 60,
     "metadata": {},
     "output_type": "execute_result"
    }
   ],
   "source": [
    "df.index.values"
   ]
  },
  {
   "cell_type": "code",
   "execution_count": 61,
   "id": "cf9516f4",
   "metadata": {},
   "outputs": [
    {
     "data": {
      "text/plain": [
       "True"
      ]
     },
     "execution_count": 61,
     "metadata": {},
     "output_type": "execute_result"
    }
   ],
   "source": [
    "0 in df.index.values"
   ]
  },
  {
   "cell_type": "code",
   "execution_count": 62,
   "id": "8115ba57",
   "metadata": {},
   "outputs": [],
   "source": [
    "df.set_index(\"Date\",inplace=True)\n"
   ]
  },
  {
   "cell_type": "code",
   "execution_count": 63,
   "id": "2e8bd21f",
   "metadata": {},
   "outputs": [
    {
     "data": {
      "text/html": [
       "<div>\n",
       "<style scoped>\n",
       "    .dataframe tbody tr th:only-of-type {\n",
       "        vertical-align: middle;\n",
       "    }\n",
       "\n",
       "    .dataframe tbody tr th {\n",
       "        vertical-align: top;\n",
       "    }\n",
       "\n",
       "    .dataframe thead th {\n",
       "        text-align: right;\n",
       "    }\n",
       "</style>\n",
       "<table border=\"1\" class=\"dataframe\">\n",
       "  <thead>\n",
       "    <tr style=\"text-align: right;\">\n",
       "      <th></th>\n",
       "      <th>Open</th>\n",
       "      <th>High</th>\n",
       "      <th>Low</th>\n",
       "      <th>Close</th>\n",
       "      <th>Adj Close</th>\n",
       "      <th>Volume</th>\n",
       "    </tr>\n",
       "    <tr>\n",
       "      <th>Date</th>\n",
       "      <th></th>\n",
       "      <th></th>\n",
       "      <th></th>\n",
       "      <th></th>\n",
       "      <th></th>\n",
       "      <th></th>\n",
       "    </tr>\n",
       "  </thead>\n",
       "  <tbody>\n",
       "    <tr>\n",
       "      <th>2022-02-28</th>\n",
       "      <td>37706.000000</td>\n",
       "      <td>45077.578125</td>\n",
       "      <td>37518.214844</td>\n",
       "      <td>38419.984375</td>\n",
       "      <td>38419.984375</td>\n",
       "      <td>187557375751</td>\n",
       "    </tr>\n",
       "    <tr>\n",
       "      <th>2022-03-07</th>\n",
       "      <td>38429.304688</td>\n",
       "      <td>42465.671875</td>\n",
       "      <td>37260.203125</td>\n",
       "      <td>37849.664063</td>\n",
       "      <td>37849.664063</td>\n",
       "      <td>175966999156</td>\n",
       "    </tr>\n",
       "    <tr>\n",
       "      <th>2022-03-14</th>\n",
       "      <td>37846.316406</td>\n",
       "      <td>42316.554688</td>\n",
       "      <td>37680.734375</td>\n",
       "      <td>41247.824219</td>\n",
       "      <td>41247.824219</td>\n",
       "      <td>184097042034</td>\n",
       "    </tr>\n",
       "    <tr>\n",
       "      <th>2022-03-21</th>\n",
       "      <td>41246.132813</td>\n",
       "      <td>46827.546875</td>\n",
       "      <td>40668.042969</td>\n",
       "      <td>46820.492188</td>\n",
       "      <td>46820.492188</td>\n",
       "      <td>188591889758</td>\n",
       "    </tr>\n",
       "    <tr>\n",
       "      <th>2022-03-28</th>\n",
       "      <td>46821.851563</td>\n",
       "      <td>48086.835938</td>\n",
       "      <td>44403.140625</td>\n",
       "      <td>46453.566406</td>\n",
       "      <td>46453.566406</td>\n",
       "      <td>223334181931</td>\n",
       "    </tr>\n",
       "  </tbody>\n",
       "</table>\n",
       "</div>"
      ],
      "text/plain": [
       "                    Open          High           Low         Close  \\\n",
       "Date                                                                 \n",
       "2022-02-28  37706.000000  45077.578125  37518.214844  38419.984375   \n",
       "2022-03-07  38429.304688  42465.671875  37260.203125  37849.664063   \n",
       "2022-03-14  37846.316406  42316.554688  37680.734375  41247.824219   \n",
       "2022-03-21  41246.132813  46827.546875  40668.042969  46820.492188   \n",
       "2022-03-28  46821.851563  48086.835938  44403.140625  46453.566406   \n",
       "\n",
       "               Adj Close        Volume  \n",
       "Date                                    \n",
       "2022-02-28  38419.984375  187557375751  \n",
       "2022-03-07  37849.664063  175966999156  \n",
       "2022-03-14  41247.824219  184097042034  \n",
       "2022-03-21  46820.492188  188591889758  \n",
       "2022-03-28  46453.566406  223334181931  "
      ]
     },
     "execution_count": 63,
     "metadata": {},
     "output_type": "execute_result"
    }
   ],
   "source": [
    "df.head()"
   ]
  },
  {
   "cell_type": "code",
   "execution_count": 64,
   "id": "c71d48e6",
   "metadata": {},
   "outputs": [],
   "source": [
    "columns_to_drop = [column_names[i] for i in [2,3,4]]"
   ]
  },
  {
   "cell_type": "code",
   "execution_count": 65,
   "id": "e0d32290",
   "metadata": {},
   "outputs": [],
   "source": [
    "df.drop(columns_to_drop, inplace=True, axis=1)"
   ]
  },
  {
   "cell_type": "code",
   "execution_count": 66,
   "id": "97483a4c",
   "metadata": {},
   "outputs": [
    {
     "data": {
      "text/html": [
       "<div>\n",
       "<style scoped>\n",
       "    .dataframe tbody tr th:only-of-type {\n",
       "        vertical-align: middle;\n",
       "    }\n",
       "\n",
       "    .dataframe tbody tr th {\n",
       "        vertical-align: top;\n",
       "    }\n",
       "\n",
       "    .dataframe thead th {\n",
       "        text-align: right;\n",
       "    }\n",
       "</style>\n",
       "<table border=\"1\" class=\"dataframe\">\n",
       "  <thead>\n",
       "    <tr style=\"text-align: right;\">\n",
       "      <th></th>\n",
       "      <th>Open</th>\n",
       "      <th>Adj Close</th>\n",
       "      <th>Volume</th>\n",
       "    </tr>\n",
       "    <tr>\n",
       "      <th>Date</th>\n",
       "      <th></th>\n",
       "      <th></th>\n",
       "      <th></th>\n",
       "    </tr>\n",
       "  </thead>\n",
       "  <tbody>\n",
       "    <tr>\n",
       "      <th>2022-02-28</th>\n",
       "      <td>37706.000000</td>\n",
       "      <td>38419.984375</td>\n",
       "      <td>187557375751</td>\n",
       "    </tr>\n",
       "    <tr>\n",
       "      <th>2022-03-07</th>\n",
       "      <td>38429.304688</td>\n",
       "      <td>37849.664063</td>\n",
       "      <td>175966999156</td>\n",
       "    </tr>\n",
       "    <tr>\n",
       "      <th>2022-03-14</th>\n",
       "      <td>37846.316406</td>\n",
       "      <td>41247.824219</td>\n",
       "      <td>184097042034</td>\n",
       "    </tr>\n",
       "    <tr>\n",
       "      <th>2022-03-21</th>\n",
       "      <td>41246.132813</td>\n",
       "      <td>46820.492188</td>\n",
       "      <td>188591889758</td>\n",
       "    </tr>\n",
       "    <tr>\n",
       "      <th>2022-03-28</th>\n",
       "      <td>46821.851563</td>\n",
       "      <td>46453.566406</td>\n",
       "      <td>223334181931</td>\n",
       "    </tr>\n",
       "  </tbody>\n",
       "</table>\n",
       "</div>"
      ],
      "text/plain": [
       "                    Open     Adj Close        Volume\n",
       "Date                                                \n",
       "2022-02-28  37706.000000  38419.984375  187557375751\n",
       "2022-03-07  38429.304688  37849.664063  175966999156\n",
       "2022-03-14  37846.316406  41247.824219  184097042034\n",
       "2022-03-21  41246.132813  46820.492188  188591889758\n",
       "2022-03-28  46821.851563  46453.566406  223334181931"
      ]
     },
     "execution_count": 66,
     "metadata": {},
     "output_type": "execute_result"
    }
   ],
   "source": [
    "df.head()"
   ]
  },
  {
   "cell_type": "code",
   "execution_count": 67,
   "id": "54ee0eb9",
   "metadata": {},
   "outputs": [],
   "source": [
    "import numpy as np"
   ]
  },
  {
   "cell_type": "code",
   "execution_count": 68,
   "id": "ace5d52f",
   "metadata": {},
   "outputs": [],
   "source": [
    "df.iloc[6:8,:] = np.NaN"
   ]
  },
  {
   "cell_type": "code",
   "execution_count": 69,
   "id": "a6a974c4",
   "metadata": {},
   "outputs": [
    {
     "data": {
      "text/html": [
       "<div>\n",
       "<style scoped>\n",
       "    .dataframe tbody tr th:only-of-type {\n",
       "        vertical-align: middle;\n",
       "    }\n",
       "\n",
       "    .dataframe tbody tr th {\n",
       "        vertical-align: top;\n",
       "    }\n",
       "\n",
       "    .dataframe thead th {\n",
       "        text-align: right;\n",
       "    }\n",
       "</style>\n",
       "<table border=\"1\" class=\"dataframe\">\n",
       "  <thead>\n",
       "    <tr style=\"text-align: right;\">\n",
       "      <th></th>\n",
       "      <th>Open</th>\n",
       "      <th>Adj Close</th>\n",
       "      <th>Volume</th>\n",
       "    </tr>\n",
       "    <tr>\n",
       "      <th>Date</th>\n",
       "      <th></th>\n",
       "      <th></th>\n",
       "      <th></th>\n",
       "    </tr>\n",
       "  </thead>\n",
       "  <tbody>\n",
       "    <tr>\n",
       "      <th>2022-02-28</th>\n",
       "      <td>37706.000000</td>\n",
       "      <td>38419.984375</td>\n",
       "      <td>1.875574e+11</td>\n",
       "    </tr>\n",
       "    <tr>\n",
       "      <th>2022-03-07</th>\n",
       "      <td>38429.304688</td>\n",
       "      <td>37849.664063</td>\n",
       "      <td>1.759670e+11</td>\n",
       "    </tr>\n",
       "    <tr>\n",
       "      <th>2022-03-14</th>\n",
       "      <td>37846.316406</td>\n",
       "      <td>41247.824219</td>\n",
       "      <td>1.840970e+11</td>\n",
       "    </tr>\n",
       "    <tr>\n",
       "      <th>2022-03-21</th>\n",
       "      <td>41246.132813</td>\n",
       "      <td>46820.492188</td>\n",
       "      <td>1.885919e+11</td>\n",
       "    </tr>\n",
       "    <tr>\n",
       "      <th>2022-03-28</th>\n",
       "      <td>46821.851563</td>\n",
       "      <td>46453.566406</td>\n",
       "      <td>2.233342e+11</td>\n",
       "    </tr>\n",
       "    <tr>\n",
       "      <th>2022-04-04</th>\n",
       "      <td>46445.273438</td>\n",
       "      <td>42207.671875</td>\n",
       "      <td>1.885570e+11</td>\n",
       "    </tr>\n",
       "    <tr>\n",
       "      <th>2022-04-11</th>\n",
       "      <td>NaN</td>\n",
       "      <td>NaN</td>\n",
       "      <td>NaN</td>\n",
       "    </tr>\n",
       "    <tr>\n",
       "      <th>2022-04-18</th>\n",
       "      <td>NaN</td>\n",
       "      <td>NaN</td>\n",
       "      <td>NaN</td>\n",
       "    </tr>\n",
       "    <tr>\n",
       "      <th>2022-04-25</th>\n",
       "      <td>39472.605469</td>\n",
       "      <td>38469.093750</td>\n",
       "      <td>2.166810e+11</td>\n",
       "    </tr>\n",
       "    <tr>\n",
       "      <th>2022-05-02</th>\n",
       "      <td>38472.187500</td>\n",
       "      <td>34059.265625</td>\n",
       "      <td>2.390448e+11</td>\n",
       "    </tr>\n",
       "  </tbody>\n",
       "</table>\n",
       "</div>"
      ],
      "text/plain": [
       "                    Open     Adj Close        Volume\n",
       "Date                                                \n",
       "2022-02-28  37706.000000  38419.984375  1.875574e+11\n",
       "2022-03-07  38429.304688  37849.664063  1.759670e+11\n",
       "2022-03-14  37846.316406  41247.824219  1.840970e+11\n",
       "2022-03-21  41246.132813  46820.492188  1.885919e+11\n",
       "2022-03-28  46821.851563  46453.566406  2.233342e+11\n",
       "2022-04-04  46445.273438  42207.671875  1.885570e+11\n",
       "2022-04-11           NaN           NaN           NaN\n",
       "2022-04-18           NaN           NaN           NaN\n",
       "2022-04-25  39472.605469  38469.093750  2.166810e+11\n",
       "2022-05-02  38472.187500  34059.265625  2.390448e+11"
      ]
     },
     "execution_count": 69,
     "metadata": {},
     "output_type": "execute_result"
    }
   ],
   "source": [
    "df.head(10)"
   ]
  },
  {
   "cell_type": "code",
   "execution_count": 70,
   "id": "86ea25ff",
   "metadata": {},
   "outputs": [
    {
     "data": {
      "text/html": [
       "<div>\n",
       "<style scoped>\n",
       "    .dataframe tbody tr th:only-of-type {\n",
       "        vertical-align: middle;\n",
       "    }\n",
       "\n",
       "    .dataframe tbody tr th {\n",
       "        vertical-align: top;\n",
       "    }\n",
       "\n",
       "    .dataframe thead th {\n",
       "        text-align: right;\n",
       "    }\n",
       "</style>\n",
       "<table border=\"1\" class=\"dataframe\">\n",
       "  <thead>\n",
       "    <tr style=\"text-align: right;\">\n",
       "      <th></th>\n",
       "      <th>Open</th>\n",
       "      <th>Adj Close</th>\n",
       "      <th>Volume</th>\n",
       "    </tr>\n",
       "    <tr>\n",
       "      <th>Date</th>\n",
       "      <th></th>\n",
       "      <th></th>\n",
       "      <th></th>\n",
       "    </tr>\n",
       "  </thead>\n",
       "  <tbody>\n",
       "    <tr>\n",
       "      <th>2022-02-28</th>\n",
       "      <td>37706.000000</td>\n",
       "      <td>38419.984375</td>\n",
       "      <td>187557375751.0</td>\n",
       "    </tr>\n",
       "    <tr>\n",
       "      <th>2022-03-07</th>\n",
       "      <td>38429.304688</td>\n",
       "      <td>37849.664063</td>\n",
       "      <td>175966999156.0</td>\n",
       "    </tr>\n",
       "    <tr>\n",
       "      <th>2022-03-14</th>\n",
       "      <td>37846.316406</td>\n",
       "      <td>41247.824219</td>\n",
       "      <td>184097042034.0</td>\n",
       "    </tr>\n",
       "    <tr>\n",
       "      <th>2022-03-21</th>\n",
       "      <td>41246.132813</td>\n",
       "      <td>46820.492188</td>\n",
       "      <td>188591889758.0</td>\n",
       "    </tr>\n",
       "    <tr>\n",
       "      <th>2022-03-28</th>\n",
       "      <td>46821.851563</td>\n",
       "      <td>46453.566406</td>\n",
       "      <td>223334181931.0</td>\n",
       "    </tr>\n",
       "    <tr>\n",
       "      <th>2022-04-04</th>\n",
       "      <td>46445.273438</td>\n",
       "      <td>42207.671875</td>\n",
       "      <td>188557001876.0</td>\n",
       "    </tr>\n",
       "    <tr>\n",
       "      <th>2022-04-11</th>\n",
       "      <td>NaN</td>\n",
       "      <td>NaN</td>\n",
       "      <td></td>\n",
       "    </tr>\n",
       "    <tr>\n",
       "      <th>2022-04-18</th>\n",
       "      <td>NaN</td>\n",
       "      <td>NaN</td>\n",
       "      <td></td>\n",
       "    </tr>\n",
       "    <tr>\n",
       "      <th>2022-04-25</th>\n",
       "      <td>39472.605469</td>\n",
       "      <td>38469.093750</td>\n",
       "      <td>216681007567.0</td>\n",
       "    </tr>\n",
       "    <tr>\n",
       "      <th>2022-05-02</th>\n",
       "      <td>38472.187500</td>\n",
       "      <td>34059.265625</td>\n",
       "      <td>239044762282.0</td>\n",
       "    </tr>\n",
       "  </tbody>\n",
       "</table>\n",
       "</div>"
      ],
      "text/plain": [
       "                    Open     Adj Close          Volume\n",
       "Date                                                  \n",
       "2022-02-28  37706.000000  38419.984375  187557375751.0\n",
       "2022-03-07  38429.304688  37849.664063  175966999156.0\n",
       "2022-03-14  37846.316406  41247.824219  184097042034.0\n",
       "2022-03-21  41246.132813  46820.492188  188591889758.0\n",
       "2022-03-28  46821.851563  46453.566406  223334181931.0\n",
       "2022-04-04  46445.273438  42207.671875  188557001876.0\n",
       "2022-04-11           NaN           NaN                \n",
       "2022-04-18           NaN           NaN                \n",
       "2022-04-25  39472.605469  38469.093750  216681007567.0\n",
       "2022-05-02  38472.187500  34059.265625  239044762282.0"
      ]
     },
     "execution_count": 70,
     "metadata": {},
     "output_type": "execute_result"
    }
   ],
   "source": [
    "df['Volume'] = df['Volume'].fillna(' ')\n",
    "df.head(10)"
   ]
  },
  {
   "cell_type": "code",
   "execution_count": 71,
   "id": "0a70fb88",
   "metadata": {},
   "outputs": [
    {
     "data": {
      "text/html": [
       "<div>\n",
       "<style scoped>\n",
       "    .dataframe tbody tr th:only-of-type {\n",
       "        vertical-align: middle;\n",
       "    }\n",
       "\n",
       "    .dataframe tbody tr th {\n",
       "        vertical-align: top;\n",
       "    }\n",
       "\n",
       "    .dataframe thead th {\n",
       "        text-align: right;\n",
       "    }\n",
       "</style>\n",
       "<table border=\"1\" class=\"dataframe\">\n",
       "  <thead>\n",
       "    <tr style=\"text-align: right;\">\n",
       "      <th></th>\n",
       "      <th>Open</th>\n",
       "      <th>Adj Close</th>\n",
       "      <th>Volume</th>\n",
       "    </tr>\n",
       "    <tr>\n",
       "      <th>Date</th>\n",
       "      <th></th>\n",
       "      <th></th>\n",
       "      <th></th>\n",
       "    </tr>\n",
       "  </thead>\n",
       "  <tbody>\n",
       "    <tr>\n",
       "      <th>2022-02-28</th>\n",
       "      <td>37706.000000</td>\n",
       "      <td>38419.984375</td>\n",
       "      <td>187557375751.0</td>\n",
       "    </tr>\n",
       "    <tr>\n",
       "      <th>2022-03-07</th>\n",
       "      <td>38429.304688</td>\n",
       "      <td>37849.664063</td>\n",
       "      <td>175966999156.0</td>\n",
       "    </tr>\n",
       "    <tr>\n",
       "      <th>2022-03-14</th>\n",
       "      <td>37846.316406</td>\n",
       "      <td>41247.824219</td>\n",
       "      <td>184097042034.0</td>\n",
       "    </tr>\n",
       "    <tr>\n",
       "      <th>2022-03-21</th>\n",
       "      <td>41246.132813</td>\n",
       "      <td>46820.492188</td>\n",
       "      <td>188591889758.0</td>\n",
       "    </tr>\n",
       "    <tr>\n",
       "      <th>2022-03-28</th>\n",
       "      <td>46821.851563</td>\n",
       "      <td>46453.566406</td>\n",
       "      <td>223334181931.0</td>\n",
       "    </tr>\n",
       "    <tr>\n",
       "      <th>2022-04-04</th>\n",
       "      <td>46445.273438</td>\n",
       "      <td>42207.671875</td>\n",
       "      <td>188557001876.0</td>\n",
       "    </tr>\n",
       "    <tr>\n",
       "      <th>2022-04-11</th>\n",
       "      <td>NaN</td>\n",
       "      <td>99.000000</td>\n",
       "      <td></td>\n",
       "    </tr>\n",
       "    <tr>\n",
       "      <th>2022-04-18</th>\n",
       "      <td>NaN</td>\n",
       "      <td>99.000000</td>\n",
       "      <td></td>\n",
       "    </tr>\n",
       "    <tr>\n",
       "      <th>2022-04-25</th>\n",
       "      <td>39472.605469</td>\n",
       "      <td>38469.093750</td>\n",
       "      <td>216681007567.0</td>\n",
       "    </tr>\n",
       "    <tr>\n",
       "      <th>2022-05-02</th>\n",
       "      <td>38472.187500</td>\n",
       "      <td>34059.265625</td>\n",
       "      <td>239044762282.0</td>\n",
       "    </tr>\n",
       "  </tbody>\n",
       "</table>\n",
       "</div>"
      ],
      "text/plain": [
       "                    Open     Adj Close          Volume\n",
       "Date                                                  \n",
       "2022-02-28  37706.000000  38419.984375  187557375751.0\n",
       "2022-03-07  38429.304688  37849.664063  175966999156.0\n",
       "2022-03-14  37846.316406  41247.824219  184097042034.0\n",
       "2022-03-21  41246.132813  46820.492188  188591889758.0\n",
       "2022-03-28  46821.851563  46453.566406  223334181931.0\n",
       "2022-04-04  46445.273438  42207.671875  188557001876.0\n",
       "2022-04-11           NaN     99.000000                \n",
       "2022-04-18           NaN     99.000000                \n",
       "2022-04-25  39472.605469  38469.093750  216681007567.0\n",
       "2022-05-02  38472.187500  34059.265625  239044762282.0"
      ]
     },
     "execution_count": 71,
     "metadata": {},
     "output_type": "execute_result"
    }
   ],
   "source": [
    "df['Adj Close'] = df['Adj Close'].fillna(99)\n",
    "df.head(10)"
   ]
  },
  {
   "cell_type": "code",
   "execution_count": 72,
   "id": "36a0d0b9",
   "metadata": {},
   "outputs": [
    {
     "data": {
      "text/html": [
       "<div>\n",
       "<style scoped>\n",
       "    .dataframe tbody tr th:only-of-type {\n",
       "        vertical-align: middle;\n",
       "    }\n",
       "\n",
       "    .dataframe tbody tr th {\n",
       "        vertical-align: top;\n",
       "    }\n",
       "\n",
       "    .dataframe thead th {\n",
       "        text-align: right;\n",
       "    }\n",
       "</style>\n",
       "<table border=\"1\" class=\"dataframe\">\n",
       "  <thead>\n",
       "    <tr style=\"text-align: right;\">\n",
       "      <th></th>\n",
       "      <th>Open</th>\n",
       "      <th>Adj Close</th>\n",
       "      <th>Volume</th>\n",
       "    </tr>\n",
       "    <tr>\n",
       "      <th>Date</th>\n",
       "      <th></th>\n",
       "      <th></th>\n",
       "      <th></th>\n",
       "    </tr>\n",
       "  </thead>\n",
       "  <tbody>\n",
       "    <tr>\n",
       "      <th>2022-02-28</th>\n",
       "      <td>37706.000000</td>\n",
       "      <td>38419.984375</td>\n",
       "      <td>187557375751.0</td>\n",
       "    </tr>\n",
       "    <tr>\n",
       "      <th>2022-03-07</th>\n",
       "      <td>38429.304688</td>\n",
       "      <td>37849.664063</td>\n",
       "      <td>175966999156.0</td>\n",
       "    </tr>\n",
       "    <tr>\n",
       "      <th>2022-03-14</th>\n",
       "      <td>37846.316406</td>\n",
       "      <td>41247.824219</td>\n",
       "      <td>184097042034.0</td>\n",
       "    </tr>\n",
       "    <tr>\n",
       "      <th>2022-03-21</th>\n",
       "      <td>41246.132813</td>\n",
       "      <td>46820.492188</td>\n",
       "      <td>188591889758.0</td>\n",
       "    </tr>\n",
       "    <tr>\n",
       "      <th>2022-03-28</th>\n",
       "      <td>46821.851563</td>\n",
       "      <td>46453.566406</td>\n",
       "      <td>223334181931.0</td>\n",
       "    </tr>\n",
       "    <tr>\n",
       "      <th>2022-04-04</th>\n",
       "      <td>46445.273438</td>\n",
       "      <td>42207.671875</td>\n",
       "      <td>188557001876.0</td>\n",
       "    </tr>\n",
       "    <tr>\n",
       "      <th>2022-04-11</th>\n",
       "      <td>24583.493277</td>\n",
       "      <td>99.000000</td>\n",
       "      <td></td>\n",
       "    </tr>\n",
       "    <tr>\n",
       "      <th>2022-04-18</th>\n",
       "      <td>24583.493277</td>\n",
       "      <td>99.000000</td>\n",
       "      <td></td>\n",
       "    </tr>\n",
       "    <tr>\n",
       "      <th>2022-04-25</th>\n",
       "      <td>39472.605469</td>\n",
       "      <td>38469.093750</td>\n",
       "      <td>216681007567.0</td>\n",
       "    </tr>\n",
       "    <tr>\n",
       "      <th>2022-05-02</th>\n",
       "      <td>38472.187500</td>\n",
       "      <td>34059.265625</td>\n",
       "      <td>239044762282.0</td>\n",
       "    </tr>\n",
       "  </tbody>\n",
       "</table>\n",
       "</div>"
      ],
      "text/plain": [
       "                    Open     Adj Close          Volume\n",
       "Date                                                  \n",
       "2022-02-28  37706.000000  38419.984375  187557375751.0\n",
       "2022-03-07  38429.304688  37849.664063  175966999156.0\n",
       "2022-03-14  37846.316406  41247.824219  184097042034.0\n",
       "2022-03-21  41246.132813  46820.492188  188591889758.0\n",
       "2022-03-28  46821.851563  46453.566406  223334181931.0\n",
       "2022-04-04  46445.273438  42207.671875  188557001876.0\n",
       "2022-04-11  24583.493277     99.000000                \n",
       "2022-04-18  24583.493277     99.000000                \n",
       "2022-04-25  39472.605469  38469.093750  216681007567.0\n",
       "2022-05-02  38472.187500  34059.265625  239044762282.0"
      ]
     },
     "execution_count": 72,
     "metadata": {},
     "output_type": "execute_result"
    }
   ],
   "source": [
    "df['Open'] = df['Open'].fillna(df['Open'].mean())\n",
    "df.head(10)\n"
   ]
  },
  {
   "cell_type": "code",
   "execution_count": 73,
   "id": "a8c8812b",
   "metadata": {},
   "outputs": [],
   "source": [
    "df1 = pd.DataFrame(data={'col1':[np.nan,np.nan,2,3,4,np.nan,np.nan]})\n"
   ]
  },
  {
   "cell_type": "code",
   "execution_count": 74,
   "id": "14619e9a",
   "metadata": {},
   "outputs": [
    {
     "data": {
      "text/html": [
       "<div>\n",
       "<style scoped>\n",
       "    .dataframe tbody tr th:only-of-type {\n",
       "        vertical-align: middle;\n",
       "    }\n",
       "\n",
       "    .dataframe tbody tr th {\n",
       "        vertical-align: top;\n",
       "    }\n",
       "\n",
       "    .dataframe thead th {\n",
       "        text-align: right;\n",
       "    }\n",
       "</style>\n",
       "<table border=\"1\" class=\"dataframe\">\n",
       "  <thead>\n",
       "    <tr style=\"text-align: right;\">\n",
       "      <th></th>\n",
       "      <th>col1</th>\n",
       "    </tr>\n",
       "  </thead>\n",
       "  <tbody>\n",
       "    <tr>\n",
       "      <th>0</th>\n",
       "      <td>NaN</td>\n",
       "    </tr>\n",
       "    <tr>\n",
       "      <th>1</th>\n",
       "      <td>NaN</td>\n",
       "    </tr>\n",
       "    <tr>\n",
       "      <th>2</th>\n",
       "      <td>2.0</td>\n",
       "    </tr>\n",
       "    <tr>\n",
       "      <th>3</th>\n",
       "      <td>3.0</td>\n",
       "    </tr>\n",
       "    <tr>\n",
       "      <th>4</th>\n",
       "      <td>4.0</td>\n",
       "    </tr>\n",
       "    <tr>\n",
       "      <th>5</th>\n",
       "      <td>4.0</td>\n",
       "    </tr>\n",
       "    <tr>\n",
       "      <th>6</th>\n",
       "      <td>NaN</td>\n",
       "    </tr>\n",
       "  </tbody>\n",
       "</table>\n",
       "</div>"
      ],
      "text/plain": [
       "   col1\n",
       "0   NaN\n",
       "1   NaN\n",
       "2   2.0\n",
       "3   3.0\n",
       "4   4.0\n",
       "5   4.0\n",
       "6   NaN"
      ]
     },
     "execution_count": 74,
     "metadata": {},
     "output_type": "execute_result"
    }
   ],
   "source": [
    "df1.fillna(method='pad', limit=1)\n"
   ]
  },
  {
   "cell_type": "code",
   "execution_count": 75,
   "id": "05fd35c2",
   "metadata": {},
   "outputs": [
    {
     "data": {
      "text/html": [
       "<div>\n",
       "<style scoped>\n",
       "    .dataframe tbody tr th:only-of-type {\n",
       "        vertical-align: middle;\n",
       "    }\n",
       "\n",
       "    .dataframe tbody tr th {\n",
       "        vertical-align: top;\n",
       "    }\n",
       "\n",
       "    .dataframe thead th {\n",
       "        text-align: right;\n",
       "    }\n",
       "</style>\n",
       "<table border=\"1\" class=\"dataframe\">\n",
       "  <thead>\n",
       "    <tr style=\"text-align: right;\">\n",
       "      <th></th>\n",
       "      <th>col1</th>\n",
       "    </tr>\n",
       "  </thead>\n",
       "  <tbody>\n",
       "    <tr>\n",
       "      <th>0</th>\n",
       "      <td>NaN</td>\n",
       "    </tr>\n",
       "    <tr>\n",
       "      <th>1</th>\n",
       "      <td>NaN</td>\n",
       "    </tr>\n",
       "    <tr>\n",
       "      <th>2</th>\n",
       "      <td>2.0</td>\n",
       "    </tr>\n",
       "    <tr>\n",
       "      <th>3</th>\n",
       "      <td>3.0</td>\n",
       "    </tr>\n",
       "    <tr>\n",
       "      <th>4</th>\n",
       "      <td>4.0</td>\n",
       "    </tr>\n",
       "    <tr>\n",
       "      <th>5</th>\n",
       "      <td>4.0</td>\n",
       "    </tr>\n",
       "    <tr>\n",
       "      <th>6</th>\n",
       "      <td>NaN</td>\n",
       "    </tr>\n",
       "  </tbody>\n",
       "</table>\n",
       "</div>"
      ],
      "text/plain": [
       "   col1\n",
       "0   NaN\n",
       "1   NaN\n",
       "2   2.0\n",
       "3   3.0\n",
       "4   4.0\n",
       "5   4.0\n",
       "6   NaN"
      ]
     },
     "execution_count": 75,
     "metadata": {},
     "output_type": "execute_result"
    }
   ],
   "source": [
    "df1.fillna(method='pad', limit=1)\n"
   ]
  },
  {
   "cell_type": "code",
   "execution_count": 76,
   "id": "df328bf0",
   "metadata": {},
   "outputs": [
    {
     "data": {
      "text/html": [
       "<div>\n",
       "<style scoped>\n",
       "    .dataframe tbody tr th:only-of-type {\n",
       "        vertical-align: middle;\n",
       "    }\n",
       "\n",
       "    .dataframe tbody tr th {\n",
       "        vertical-align: top;\n",
       "    }\n",
       "\n",
       "    .dataframe thead th {\n",
       "        text-align: right;\n",
       "    }\n",
       "</style>\n",
       "<table border=\"1\" class=\"dataframe\">\n",
       "  <thead>\n",
       "    <tr style=\"text-align: right;\">\n",
       "      <th></th>\n",
       "      <th>col1</th>\n",
       "    </tr>\n",
       "  </thead>\n",
       "  <tbody>\n",
       "    <tr>\n",
       "      <th>0</th>\n",
       "      <td>2.0</td>\n",
       "    </tr>\n",
       "    <tr>\n",
       "      <th>1</th>\n",
       "      <td>2.0</td>\n",
       "    </tr>\n",
       "    <tr>\n",
       "      <th>2</th>\n",
       "      <td>2.0</td>\n",
       "    </tr>\n",
       "    <tr>\n",
       "      <th>3</th>\n",
       "      <td>3.0</td>\n",
       "    </tr>\n",
       "    <tr>\n",
       "      <th>4</th>\n",
       "      <td>4.0</td>\n",
       "    </tr>\n",
       "    <tr>\n",
       "      <th>5</th>\n",
       "      <td>NaN</td>\n",
       "    </tr>\n",
       "    <tr>\n",
       "      <th>6</th>\n",
       "      <td>NaN</td>\n",
       "    </tr>\n",
       "  </tbody>\n",
       "</table>\n",
       "</div>"
      ],
      "text/plain": [
       "   col1\n",
       "0   2.0\n",
       "1   2.0\n",
       "2   2.0\n",
       "3   3.0\n",
       "4   4.0\n",
       "5   NaN\n",
       "6   NaN"
      ]
     },
     "execution_count": 76,
     "metadata": {},
     "output_type": "execute_result"
    }
   ],
   "source": [
    "df1.fillna(method = 'bfill')\n"
   ]
  },
  {
   "cell_type": "code",
   "execution_count": 77,
   "id": "7ffaebbc",
   "metadata": {},
   "outputs": [
    {
     "data": {
      "text/html": [
       "<div>\n",
       "<style scoped>\n",
       "    .dataframe tbody tr th:only-of-type {\n",
       "        vertical-align: middle;\n",
       "    }\n",
       "\n",
       "    .dataframe tbody tr th {\n",
       "        vertical-align: top;\n",
       "    }\n",
       "\n",
       "    .dataframe thead th {\n",
       "        text-align: right;\n",
       "    }\n",
       "</style>\n",
       "<table border=\"1\" class=\"dataframe\">\n",
       "  <thead>\n",
       "    <tr style=\"text-align: right;\">\n",
       "      <th></th>\n",
       "      <th>col1</th>\n",
       "    </tr>\n",
       "  </thead>\n",
       "  <tbody>\n",
       "    <tr>\n",
       "      <th>2</th>\n",
       "      <td>2.0</td>\n",
       "    </tr>\n",
       "    <tr>\n",
       "      <th>3</th>\n",
       "      <td>3.0</td>\n",
       "    </tr>\n",
       "    <tr>\n",
       "      <th>4</th>\n",
       "      <td>4.0</td>\n",
       "    </tr>\n",
       "  </tbody>\n",
       "</table>\n",
       "</div>"
      ],
      "text/plain": [
       "   col1\n",
       "2   2.0\n",
       "3   3.0\n",
       "4   4.0"
      ]
     },
     "execution_count": 77,
     "metadata": {},
     "output_type": "execute_result"
    }
   ],
   "source": [
    "df1.dropna()"
   ]
  },
  {
   "cell_type": "code",
   "execution_count": 78,
   "id": "7a835211",
   "metadata": {},
   "outputs": [
    {
     "data": {
      "text/html": [
       "<div>\n",
       "<style scoped>\n",
       "    .dataframe tbody tr th:only-of-type {\n",
       "        vertical-align: middle;\n",
       "    }\n",
       "\n",
       "    .dataframe tbody tr th {\n",
       "        vertical-align: top;\n",
       "    }\n",
       "\n",
       "    .dataframe thead th {\n",
       "        text-align: right;\n",
       "    }\n",
       "</style>\n",
       "<table border=\"1\" class=\"dataframe\">\n",
       "  <thead>\n",
       "    <tr style=\"text-align: right;\">\n",
       "      <th></th>\n",
       "    </tr>\n",
       "  </thead>\n",
       "  <tbody>\n",
       "    <tr>\n",
       "      <th>0</th>\n",
       "    </tr>\n",
       "    <tr>\n",
       "      <th>1</th>\n",
       "    </tr>\n",
       "    <tr>\n",
       "      <th>2</th>\n",
       "    </tr>\n",
       "    <tr>\n",
       "      <th>3</th>\n",
       "    </tr>\n",
       "    <tr>\n",
       "      <th>4</th>\n",
       "    </tr>\n",
       "    <tr>\n",
       "      <th>5</th>\n",
       "    </tr>\n",
       "    <tr>\n",
       "      <th>6</th>\n",
       "    </tr>\n",
       "  </tbody>\n",
       "</table>\n",
       "</div>"
      ],
      "text/plain": [
       "Empty DataFrame\n",
       "Columns: []\n",
       "Index: [0, 1, 2, 3, 4, 5, 6]"
      ]
     },
     "execution_count": 78,
     "metadata": {},
     "output_type": "execute_result"
    }
   ],
   "source": [
    "df1.dropna(axis=1)\n"
   ]
  },
  {
   "cell_type": "code",
   "execution_count": 79,
   "id": "a43af00d",
   "metadata": {},
   "outputs": [
    {
     "data": {
      "text/html": [
       "<div>\n",
       "<style scoped>\n",
       "    .dataframe tbody tr th:only-of-type {\n",
       "        vertical-align: middle;\n",
       "    }\n",
       "\n",
       "    .dataframe tbody tr th {\n",
       "        vertical-align: top;\n",
       "    }\n",
       "\n",
       "    .dataframe thead th {\n",
       "        text-align: right;\n",
       "    }\n",
       "</style>\n",
       "<table border=\"1\" class=\"dataframe\">\n",
       "  <thead>\n",
       "    <tr style=\"text-align: right;\">\n",
       "      <th></th>\n",
       "    </tr>\n",
       "  </thead>\n",
       "  <tbody>\n",
       "    <tr>\n",
       "      <th>0</th>\n",
       "    </tr>\n",
       "    <tr>\n",
       "      <th>1</th>\n",
       "    </tr>\n",
       "    <tr>\n",
       "      <th>2</th>\n",
       "    </tr>\n",
       "    <tr>\n",
       "      <th>3</th>\n",
       "    </tr>\n",
       "    <tr>\n",
       "      <th>4</th>\n",
       "    </tr>\n",
       "    <tr>\n",
       "      <th>5</th>\n",
       "    </tr>\n",
       "    <tr>\n",
       "      <th>6</th>\n",
       "    </tr>\n",
       "  </tbody>\n",
       "</table>\n",
       "</div>"
      ],
      "text/plain": [
       "Empty DataFrame\n",
       "Columns: []\n",
       "Index: [0, 1, 2, 3, 4, 5, 6]"
      ]
     },
     "execution_count": 79,
     "metadata": {},
     "output_type": "execute_result"
    }
   ],
   "source": [
    "df1.dropna(thresh=int(df1.shape[0] * .9), axis=1)"
   ]
  },
  {
   "cell_type": "code",
   "execution_count": 84,
   "id": "bc09e469",
   "metadata": {},
   "outputs": [
    {
     "data": {
      "text/plain": [
       "array([1, 1, 1, 1, 1, 1, 0, 0, 1, 1, 0, 0, 0, 0, 0, 0, 0, 0, 0, 0, 0, 0,\n",
       "       0, 0, 0, 0, 0, 0, 0, 0, 0, 0, 0, 0, 0, 0, 0, 0, 0, 0, 0, 0, 0, 0,\n",
       "       0, 0, 0, 0, 0, 0, 0, 0, 0, 0])"
      ]
     },
     "execution_count": 84,
     "metadata": {},
     "output_type": "execute_result"
    }
   ],
   "source": [
    "np.where(df.Open>35000, 1, 0)"
   ]
  },
  {
   "cell_type": "code",
   "execution_count": 86,
   "id": "fda83248",
   "metadata": {},
   "outputs": [],
   "source": [
    "df2 = pd.DataFrame(data={'col1':np.random.randint(0, 10, 10),\n",
    "'col2':np.random.randint(-10, 10, 10)})"
   ]
  },
  {
   "cell_type": "code",
   "execution_count": 87,
   "id": "553ca820",
   "metadata": {},
   "outputs": [
    {
     "data": {
      "text/html": [
       "<div>\n",
       "<style scoped>\n",
       "    .dataframe tbody tr th:only-of-type {\n",
       "        vertical-align: middle;\n",
       "    }\n",
       "\n",
       "    .dataframe tbody tr th {\n",
       "        vertical-align: top;\n",
       "    }\n",
       "\n",
       "    .dataframe thead th {\n",
       "        text-align: right;\n",
       "    }\n",
       "</style>\n",
       "<table border=\"1\" class=\"dataframe\">\n",
       "  <thead>\n",
       "    <tr style=\"text-align: right;\">\n",
       "      <th></th>\n",
       "      <th>col1</th>\n",
       "      <th>col2</th>\n",
       "    </tr>\n",
       "  </thead>\n",
       "  <tbody>\n",
       "    <tr>\n",
       "      <th>0</th>\n",
       "      <td>7</td>\n",
       "      <td>5</td>\n",
       "    </tr>\n",
       "    <tr>\n",
       "      <th>1</th>\n",
       "      <td>0</td>\n",
       "      <td>4</td>\n",
       "    </tr>\n",
       "    <tr>\n",
       "      <th>2</th>\n",
       "      <td>1</td>\n",
       "      <td>-6</td>\n",
       "    </tr>\n",
       "    <tr>\n",
       "      <th>3</th>\n",
       "      <td>3</td>\n",
       "      <td>6</td>\n",
       "    </tr>\n",
       "    <tr>\n",
       "      <th>4</th>\n",
       "      <td>1</td>\n",
       "      <td>-6</td>\n",
       "    </tr>\n",
       "    <tr>\n",
       "      <th>5</th>\n",
       "      <td>6</td>\n",
       "      <td>9</td>\n",
       "    </tr>\n",
       "    <tr>\n",
       "      <th>6</th>\n",
       "      <td>2</td>\n",
       "      <td>2</td>\n",
       "    </tr>\n",
       "    <tr>\n",
       "      <th>7</th>\n",
       "      <td>1</td>\n",
       "      <td>2</td>\n",
       "    </tr>\n",
       "    <tr>\n",
       "      <th>8</th>\n",
       "      <td>2</td>\n",
       "      <td>5</td>\n",
       "    </tr>\n",
       "    <tr>\n",
       "      <th>9</th>\n",
       "      <td>5</td>\n",
       "      <td>4</td>\n",
       "    </tr>\n",
       "  </tbody>\n",
       "</table>\n",
       "</div>"
      ],
      "text/plain": [
       "   col1  col2\n",
       "0     7     5\n",
       "1     0     4\n",
       "2     1    -6\n",
       "3     3     6\n",
       "4     1    -6\n",
       "5     6     9\n",
       "6     2     2\n",
       "7     1     2\n",
       "8     2     5\n",
       "9     5     4"
      ]
     },
     "execution_count": 87,
     "metadata": {},
     "output_type": "execute_result"
    }
   ],
   "source": [
    "df2"
   ]
  },
  {
   "cell_type": "code",
   "execution_count": 88,
   "id": "4d4fd329",
   "metadata": {},
   "outputs": [],
   "source": [
    "assert(df['col1'] >= 0 ).all() # Should return nothing"
   ]
  },
  {
   "cell_type": "code",
   "execution_count": 89,
   "id": "b2564841",
   "metadata": {},
   "outputs": [],
   "source": [
    "assert(df['col1'] != str).any() # Should return nothing"
   ]
  },
  {
   "cell_type": "code",
   "execution_count": 92,
   "id": "20fa7d41",
   "metadata": {},
   "outputs": [
    {
     "ename": "AssertionError",
     "evalue": "Series are different\n\nSeries values are different (100.0 %)\n[index]: [0, 1, 2, 3, 4, 5, 6, 7, 8, 9]\n[left]:  [5, 2, 0, 3, 8, 2, 5, 9, 1, 0]\n[right]: [2, -9, -6, -3, 0, -3, -4, -4, -5, 7]",
     "output_type": "error",
     "traceback": [
      "\u001b[1;31m---------------------------------------------------------------------------\u001b[0m",
      "\u001b[1;31mAssertionError\u001b[0m                            Traceback (most recent call last)",
      "Input \u001b[1;32mIn [92]\u001b[0m, in \u001b[0;36m<cell line: 2>\u001b[1;34m()\u001b[0m\n\u001b[0;32m      1\u001b[0m \u001b[38;5;28;01mimport\u001b[39;00m \u001b[38;5;21;01mpandas\u001b[39;00m\u001b[38;5;21;01m.\u001b[39;00m\u001b[38;5;21;01mutil\u001b[39;00m\u001b[38;5;21;01m.\u001b[39;00m\u001b[38;5;21;01mtesting\u001b[39;00m \u001b[38;5;28;01mas\u001b[39;00m \u001b[38;5;21;01mtm\u001b[39;00m\n\u001b[1;32m----> 2\u001b[0m \u001b[43mtm\u001b[49m\u001b[38;5;241;43m.\u001b[39;49m\u001b[43massert_series_equal\u001b[49m\u001b[43m(\u001b[49m\u001b[43mdf\u001b[49m\u001b[43m[\u001b[49m\u001b[38;5;124;43m'\u001b[39;49m\u001b[38;5;124;43mcol1\u001b[39;49m\u001b[38;5;124;43m'\u001b[39;49m\u001b[43m]\u001b[49m\u001b[43m,\u001b[49m\u001b[43m \u001b[49m\u001b[43mdf\u001b[49m\u001b[43m[\u001b[49m\u001b[38;5;124;43m'\u001b[39;49m\u001b[38;5;124;43mcol2\u001b[39;49m\u001b[38;5;124;43m'\u001b[39;49m\u001b[43m]\u001b[49m\u001b[43m)\u001b[49m\n",
      "    \u001b[1;31m[... skipping hidden 1 frame]\u001b[0m\n",
      "File \u001b[1;32m~\\anaconda3\\lib\\site-packages\\pandas\\_libs\\testing.pyx:52\u001b[0m, in \u001b[0;36mpandas._libs.testing.assert_almost_equal\u001b[1;34m()\u001b[0m\n",
      "File \u001b[1;32m~\\anaconda3\\lib\\site-packages\\pandas\\_libs\\testing.pyx:167\u001b[0m, in \u001b[0;36mpandas._libs.testing.assert_almost_equal\u001b[1;34m()\u001b[0m\n",
      "File \u001b[1;32m~\\anaconda3\\lib\\site-packages\\pandas\\_testing\\asserters.py:682\u001b[0m, in \u001b[0;36mraise_assert_detail\u001b[1;34m(obj, message, left, right, diff, index_values)\u001b[0m\n\u001b[0;32m    679\u001b[0m \u001b[38;5;28;01mif\u001b[39;00m diff \u001b[38;5;129;01mis\u001b[39;00m \u001b[38;5;129;01mnot\u001b[39;00m \u001b[38;5;28;01mNone\u001b[39;00m:\n\u001b[0;32m    680\u001b[0m     msg \u001b[38;5;241m+\u001b[39m\u001b[38;5;241m=\u001b[39m \u001b[38;5;124mf\u001b[39m\u001b[38;5;124m\"\u001b[39m\u001b[38;5;130;01m\\n\u001b[39;00m\u001b[38;5;124m[diff]: \u001b[39m\u001b[38;5;132;01m{\u001b[39;00mdiff\u001b[38;5;132;01m}\u001b[39;00m\u001b[38;5;124m\"\u001b[39m\n\u001b[1;32m--> 682\u001b[0m \u001b[38;5;28;01mraise\u001b[39;00m \u001b[38;5;167;01mAssertionError\u001b[39;00m(msg)\n",
      "\u001b[1;31mAssertionError\u001b[0m: Series are different\n\nSeries values are different (100.0 %)\n[index]: [0, 1, 2, 3, 4, 5, 6, 7, 8, 9]\n[left]:  [5, 2, 0, 3, 8, 2, 5, 9, 1, 0]\n[right]: [2, -9, -6, -3, 0, -3, -4, -4, -5, 7]"
     ]
    }
   ],
   "source": [
    "import pandas.util.testing as tm\n",
    "tm.assert_series_equal(df['col1'], df['col2'])"
   ]
  },
  {
   "cell_type": "code",
   "execution_count": 97,
   "id": "27c41c25",
   "metadata": {},
   "outputs": [
    {
     "name": "stdout",
     "output_type": "stream",
     "text": [
      "Collecting beautifier\n",
      "  Downloading beautifier-0.5.5.tar.gz (19 kB)\n",
      "Building wheels for collected packages: beautifier\n",
      "  Building wheel for beautifier (setup.py): started\n",
      "  Building wheel for beautifier (setup.py): finished with status 'done'\n",
      "  Created wheel for beautifier: filename=beautifier-0.5.5-py3-none-any.whl size=19302 sha256=08daee28c20b27f83809f4765df523a4db17b179f29c4384c830d62d37a89c62\n",
      "  Stored in directory: c:\\users\\suruthi s\\appdata\\local\\pip\\cache\\wheels\\a2\\5e\\d4\\91e4866f2a5e6a891676692a10efb00ad61b1e41614e910d21\n",
      "Successfully built beautifier\n",
      "Installing collected packages: beautifier\n",
      "Successfully installed beautifier-0.5.5\n"
     ]
    }
   ],
   "source": [
    "! pip install beautifier"
   ]
  },
  {
   "cell_type": "code",
   "execution_count": 98,
   "id": "eac14997",
   "metadata": {},
   "outputs": [],
   "source": [
    "import beautifier"
   ]
  },
  {
   "cell_type": "code",
   "execution_count": null,
   "id": "1b65da00",
   "metadata": {},
   "outputs": [],
   "source": [
    "print(email.username)\n",
    "print(email.is_free_email)\n",
    "Output:\n",
    "bar.com\n",
    "foo\n",
    "False\n",
    "\n",
    "url = Url(url_string)\n",
    "print(url.param)"
   ]
  },
  {
   "cell_type": "code",
   "execution_count": 102,
   "id": "a3c3562c",
   "metadata": {},
   "outputs": [
    {
     "name": "stdout",
     "output_type": "stream",
     "text": [
      "bar.com\n",
      "foo\n",
      "False\n",
      "None\n",
      "{'msg': 'feature is currently available only with linkedin urls'}\n",
      "github.com\n"
     ]
    }
   ],
   "source": [
    "from beautifier import Email, Url\n",
    "email_string = 'foo@bar.com'\n",
    "email = Email(email_string)\n",
    "print(email.domain)\n",
    "print(email.username)\n",
    "print(email.is_free_email)\n",
    "\n",
    "url_string ='https://github.com/labtocat/beautifier/blob/master/beautifier/ init .py'\n",
    "url = Url(url_string)\n",
    "print(url.param)\n",
    "print(url.username)\n",
    "print(url.domain)"
   ]
  },
  {
   "cell_type": "code",
   "execution_count": 104,
   "id": "9e310ef4",
   "metadata": {},
   "outputs": [
    {
     "name": "stdout",
     "output_type": "stream",
     "text": [
      "Collecting ftfy\n",
      "  Downloading ftfy-6.1.1-py3-none-any.whl (53 kB)\n",
      "Requirement already satisfied: wcwidth>=0.2.5 in c:\\users\\suruthi s\\anaconda3\\lib\\site-packages (from ftfy) (0.2.5)\n",
      "Installing collected packages: ftfy\n",
      "Successfully installed ftfy-6.1.1\n"
     ]
    }
   ],
   "source": [
    "! pip install ftfy"
   ]
  },
  {
   "cell_type": "code",
   "execution_count": 105,
   "id": "0e929855",
   "metadata": {},
   "outputs": [
    {
     "name": "stdout",
     "output_type": "stream",
     "text": [
      " ̄\\_(ツ)_/ ̄\n",
      "Party\n",
      "I'm\n"
     ]
    }
   ],
   "source": [
    "import ftfy\n",
    "foo = ' ̄\\\\_(ã\\x83\\x84)_/ ̄'\n",
    "bar = '\\ufeffParty'\n",
    "baz = '\\001\\033[36;44mI’m'\n",
    "print(ftfy.fix_text(foo))\n",
    "print(ftfy.fix_text(bar))\n",
    "print(ftfy.fix_text(baz))"
   ]
  },
  {
   "cell_type": "markdown",
   "id": "de7c131b",
   "metadata": {},
   "source": [
    "# Lab6. Pandas Data Cleaning Part-II"
   ]
  },
  {
   "cell_type": "code",
   "execution_count": 106,
   "id": "ce0d5e99",
   "metadata": {},
   "outputs": [],
   "source": [
    "import pandas as pd\n",
    "from sklearn.preprocessing import LabelEncoder"
   ]
  },
  {
   "cell_type": "code",
   "execution_count": 107,
   "id": "b316a8e1",
   "metadata": {},
   "outputs": [],
   "source": [
    "le = LabelEncoder()\n",
    "df = pd.DataFrame(data = {'col1': ['foo','bar','foo','bar'], 'col2': ['x', 'y', 'x', 'z'], 'col3':[1,2,3,4]})"
   ]
  },
  {
   "cell_type": "code",
   "execution_count": 108,
   "id": "f56657dd",
   "metadata": {},
   "outputs": [
    {
     "data": {
      "text/html": [
       "<div>\n",
       "<style scoped>\n",
       "    .dataframe tbody tr th:only-of-type {\n",
       "        vertical-align: middle;\n",
       "    }\n",
       "\n",
       "    .dataframe tbody tr th {\n",
       "        vertical-align: top;\n",
       "    }\n",
       "\n",
       "    .dataframe thead th {\n",
       "        text-align: right;\n",
       "    }\n",
       "</style>\n",
       "<table border=\"1\" class=\"dataframe\">\n",
       "  <thead>\n",
       "    <tr style=\"text-align: right;\">\n",
       "      <th></th>\n",
       "      <th>col1</th>\n",
       "      <th>col2</th>\n",
       "      <th>col3</th>\n",
       "    </tr>\n",
       "  </thead>\n",
       "  <tbody>\n",
       "    <tr>\n",
       "      <th>0</th>\n",
       "      <td>1</td>\n",
       "      <td>0</td>\n",
       "      <td>0</td>\n",
       "    </tr>\n",
       "    <tr>\n",
       "      <th>1</th>\n",
       "      <td>0</td>\n",
       "      <td>1</td>\n",
       "      <td>1</td>\n",
       "    </tr>\n",
       "    <tr>\n",
       "      <th>2</th>\n",
       "      <td>1</td>\n",
       "      <td>0</td>\n",
       "      <td>2</td>\n",
       "    </tr>\n",
       "    <tr>\n",
       "      <th>3</th>\n",
       "      <td>0</td>\n",
       "      <td>2</td>\n",
       "      <td>3</td>\n",
       "    </tr>\n",
       "  </tbody>\n",
       "</table>\n",
       "</div>"
      ],
      "text/plain": [
       "   col1  col2  col3\n",
       "0     1     0     0\n",
       "1     0     1     1\n",
       "2     1     0     2\n",
       "3     0     2     3"
      ]
     },
     "execution_count": 108,
     "metadata": {},
     "output_type": "execute_result"
    }
   ],
   "source": [
    "df.apply(le.fit_transform)"
   ]
  },
  {
   "cell_type": "code",
   "execution_count": 109,
   "id": "aadce969",
   "metadata": {},
   "outputs": [
    {
     "data": {
      "text/html": [
       "<div>\n",
       "<style scoped>\n",
       "    .dataframe tbody tr th:only-of-type {\n",
       "        vertical-align: middle;\n",
       "    }\n",
       "\n",
       "    .dataframe tbody tr th {\n",
       "        vertical-align: top;\n",
       "    }\n",
       "\n",
       "    .dataframe thead th {\n",
       "        text-align: right;\n",
       "    }\n",
       "</style>\n",
       "<table border=\"1\" class=\"dataframe\">\n",
       "  <thead>\n",
       "    <tr style=\"text-align: right;\">\n",
       "      <th></th>\n",
       "      <th>A</th>\n",
       "      <th>B</th>\n",
       "      <th>C</th>\n",
       "    </tr>\n",
       "  </thead>\n",
       "  <tbody>\n",
       "    <tr>\n",
       "      <th>0</th>\n",
       "      <td>a</td>\n",
       "      <td>b</td>\n",
       "      <td>1</td>\n",
       "    </tr>\n",
       "    <tr>\n",
       "      <th>1</th>\n",
       "      <td>b</td>\n",
       "      <td>a</td>\n",
       "      <td>2</td>\n",
       "    </tr>\n",
       "    <tr>\n",
       "      <th>2</th>\n",
       "      <td>a</td>\n",
       "      <td>c</td>\n",
       "      <td>3</td>\n",
       "    </tr>\n",
       "  </tbody>\n",
       "</table>\n",
       "</div>"
      ],
      "text/plain": [
       "   A  B  C\n",
       "0  a  b  1\n",
       "1  b  a  2\n",
       "2  a  c  3"
      ]
     },
     "execution_count": 109,
     "metadata": {},
     "output_type": "execute_result"
    }
   ],
   "source": [
    "import pandas as pd\n",
    "df = pd.DataFrame({'A': ['a','b','a'], 'B': ['b','a','c'], 'C': [1, 2, 3]}) \n",
    "df\n"
   ]
  },
  {
   "cell_type": "code",
   "execution_count": 110,
   "id": "9b64fd02",
   "metadata": {},
   "outputs": [
    {
     "data": {
      "text/html": [
       "<div>\n",
       "<style scoped>\n",
       "    .dataframe tbody tr th:only-of-type {\n",
       "        vertical-align: middle;\n",
       "    }\n",
       "\n",
       "    .dataframe tbody tr th {\n",
       "        vertical-align: top;\n",
       "    }\n",
       "\n",
       "    .dataframe thead th {\n",
       "        text-align: right;\n",
       "    }\n",
       "</style>\n",
       "<table border=\"1\" class=\"dataframe\">\n",
       "  <thead>\n",
       "    <tr style=\"text-align: right;\">\n",
       "      <th></th>\n",
       "      <th>C</th>\n",
       "      <th>col1_a</th>\n",
       "      <th>col1_b</th>\n",
       "      <th>col2_a</th>\n",
       "      <th>col2_b</th>\n",
       "      <th>col2_c</th>\n",
       "    </tr>\n",
       "  </thead>\n",
       "  <tbody>\n",
       "    <tr>\n",
       "      <th>0</th>\n",
       "      <td>1</td>\n",
       "      <td>1</td>\n",
       "      <td>0</td>\n",
       "      <td>0</td>\n",
       "      <td>1</td>\n",
       "      <td>0</td>\n",
       "    </tr>\n",
       "    <tr>\n",
       "      <th>1</th>\n",
       "      <td>2</td>\n",
       "      <td>0</td>\n",
       "      <td>1</td>\n",
       "      <td>1</td>\n",
       "      <td>0</td>\n",
       "      <td>0</td>\n",
       "    </tr>\n",
       "    <tr>\n",
       "      <th>2</th>\n",
       "      <td>3</td>\n",
       "      <td>1</td>\n",
       "      <td>0</td>\n",
       "      <td>0</td>\n",
       "      <td>0</td>\n",
       "      <td>1</td>\n",
       "    </tr>\n",
       "  </tbody>\n",
       "</table>\n",
       "</div>"
      ],
      "text/plain": [
       "   C  col1_a  col1_b  col2_a  col2_b  col2_c\n",
       "0  1       1       0       0       1       0\n",
       "1  2       0       1       1       0       0\n",
       "2  3       1       0       0       0       1"
      ]
     },
     "execution_count": 110,
     "metadata": {},
     "output_type": "execute_result"
    }
   ],
   "source": [
    "pd.get_dummies(df, prefix=['col1','col2'])"
   ]
  },
  {
   "cell_type": "code",
   "execution_count": 111,
   "id": "7032e80a",
   "metadata": {},
   "outputs": [
    {
     "data": {
      "text/plain": [
       "array([[1.        , 1.        , 0.        ],\n",
       "       [0.36111111, 0.        , 0.83333333],\n",
       "       [0.        , 0.22368421, 1.        ]])"
      ]
     },
     "execution_count": 111,
     "metadata": {},
     "output_type": "execute_result"
    }
   ],
   "source": [
    "from sklearn.preprocessing import MinMaxScaler\n",
    "mm_scaler = MinMaxScaler(feature_range = (0,1)) # (0,1 ) is default range\n",
    "df2 = pd.DataFrame({'col1':[5,-41, -67],\n",
    " 'col2': [23, - 53, -36],\n",
    " 'col3': [-25,10, 17]})\n",
    "mm_scaler.fit_transform(df2)"
   ]
  },
  {
   "cell_type": "code",
   "execution_count": 112,
   "id": "f592f69b",
   "metadata": {},
   "outputs": [
    {
     "data": {
      "text/plain": [
       "array([[0, 0, 1],\n",
       "       [0, 1, 1]], dtype=int64)"
      ]
     },
     "execution_count": 112,
     "metadata": {},
     "output_type": "execute_result"
    }
   ],
   "source": [
    "from sklearn.preprocessing import Binarizer\n",
    "dfb = pd.DataFrame({'col1': [110, 200], \n",
    " 'col2': [120, 800], \n",
    " 'col3': [310, 400]})\n",
    "bin = Binarizer(threshold=300)\n",
    "bin.fit_transform(dfb)\n"
   ]
  },
  {
   "cell_type": "code",
   "execution_count": 113,
   "id": "525135c7",
   "metadata": {},
   "outputs": [
    {
     "name": "stdout",
     "output_type": "stream",
     "text": [
      "   col1  col2  col3  col4\n",
      "0     7   4.0   NaN  10.0\n",
      "1     2   NaN   NaN   NaN\n",
      "2     3   6.0   3.0   9.0\n"
     ]
    },
    {
     "data": {
      "text/plain": [
       "array([[ 7. ,  4. ,  3. , 10. ],\n",
       "       [ 2. ,  5. ,  3. ,  9.5],\n",
       "       [ 3. ,  6. ,  3. ,  9. ]])"
      ]
     },
     "execution_count": 113,
     "metadata": {},
     "output_type": "execute_result"
    }
   ],
   "source": [
    "import numpy as np\n",
    "from sklearn.impute import SimpleImputer\n",
    "import pandas as pd\n",
    "imp_mean = SimpleImputer(missing_values=np.nan, strategy='mean')\n",
    "df = pd.DataFrame({'col1': [7, 2, 3], \n",
    " 'col2': [4, np.nan, 6], \n",
    " 'col3': [np.nan, np.nan, 3],\n",
    " 'col4': [10, np.nan, 9]})\n",
    "print(df)\n",
    "imp_mean.fit_transform(df)"
   ]
  },
  {
   "cell_type": "code",
   "execution_count": 115,
   "id": "a0389aac",
   "metadata": {},
   "outputs": [
    {
     "name": "stdout",
     "output_type": "stream",
     "text": [
      "Collecting fuzzywuzzy\n",
      "  Downloading fuzzywuzzy-0.18.0-py2.py3-none-any.whl (18 kB)\n",
      "Installing collected packages: fuzzywuzzy\n",
      "Successfully installed fuzzywuzzy-0.18.0\n"
     ]
    }
   ],
   "source": [
    "! pip install fuzzywuzzy"
   ]
  },
  {
   "cell_type": "code",
   "execution_count": 116,
   "id": "bfd512bc",
   "metadata": {},
   "outputs": [
    {
     "name": "stdout",
     "output_type": "stream",
     "text": [
      "Ratio = 21\n",
      "Weighted ratio = 86\n",
      "Unicode ratio = 22\n"
     ]
    }
   ],
   "source": [
    "import warnings\n",
    "warnings.filterwarnings('ignore')\n",
    "from fuzzywuzzy import fuzz\n",
    "from fuzzywuzzy import process\n",
    "a = 'Welcome to Bishop Heber College'\n",
    "b = 'the trainable argument in the Embedding layer is used to specify whether the weights of the layer should be updated during training or kept fixed.'\n",
    "ratio = fuzz.ratio(a, b)\n",
    "weighted_ratio = fuzz.WRatio(a, b)\n",
    "unicode_ratio = fuzz.UQRatio(a, b)\n",
    "print('Ratio =', ratio)\n",
    "print('Weighted ratio =', weighted_ratio)\n",
    "print('Unicode ratio =', unicode_ratio)\n"
   ]
  },
  {
   "cell_type": "code",
   "execution_count": 117,
   "id": "eb4c2089",
   "metadata": {},
   "outputs": [],
   "source": [
    "c = a + b"
   ]
  },
  {
   "cell_type": "code",
   "execution_count": 118,
   "id": "2704749e",
   "metadata": {},
   "outputs": [
    {
     "data": {
      "text/plain": [
       "[('i', 100), ('i', 100), ('i', 100), ('i', 100), ('i', 100)]"
      ]
     },
     "execution_count": 118,
     "metadata": {},
     "output_type": "execute_result"
    }
   ],
   "source": [
    "ex_tract = process.extract('I', c)\n",
    "ex_tract"
   ]
  },
  {
   "cell_type": "code",
   "execution_count": 119,
   "id": "03c19a47",
   "metadata": {},
   "outputs": [
    {
     "data": {
      "text/plain": [
       "('i', 100)"
      ]
     },
     "execution_count": 119,
     "metadata": {},
     "output_type": "execute_result"
    }
   ],
   "source": [
    "ex_tract_1 = process.extractOne('I', c)\n",
    "ex_tract_1"
   ]
  },
  {
   "cell_type": "code",
   "execution_count": null,
   "id": "de02bd95",
   "metadata": {},
   "outputs": [],
   "source": []
  }
 ],
 "metadata": {
  "kernelspec": {
   "display_name": "Python 3 (ipykernel)",
   "language": "python",
   "name": "python3"
  },
  "language_info": {
   "codemirror_mode": {
    "name": "ipython",
    "version": 3
   },
   "file_extension": ".py",
   "mimetype": "text/x-python",
   "name": "python",
   "nbconvert_exporter": "python",
   "pygments_lexer": "ipython3",
   "version": "3.9.12"
  }
 },
 "nbformat": 4,
 "nbformat_minor": 5
}
