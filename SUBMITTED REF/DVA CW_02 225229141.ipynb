{
 "cells": [
  {
   "cell_type": "markdown",
   "id": "5ae49b3b",
   "metadata": {},
   "source": [
    "# SURUTHI S\n",
    "\n",
    "# 225229141\n",
    "\n",
    "#  CW_02- Array Slicing "
   ]
  },
  {
   "cell_type": "markdown",
   "id": "52b741c6",
   "metadata": {},
   "source": [
    "1 . Create array with range 0-9"
   ]
  },
  {
   "cell_type": "markdown",
   "id": "5bad6112",
   "metadata": {},
   "source": [
    "importing numpy library as np\n",
    "creating an array using arange method which Return evenly spaced values within a given interval(here from 0 to 9)"
   ]
  },
  {
   "cell_type": "code",
   "execution_count": 12,
   "id": "8214f073",
   "metadata": {},
   "outputs": [],
   "source": [
    "import numpy as np"
   ]
  },
  {
   "cell_type": "code",
   "execution_count": 13,
   "id": "7e8e493c",
   "metadata": {},
   "outputs": [],
   "source": [
    "arr = np.arange(10)"
   ]
  },
  {
   "cell_type": "code",
   "execution_count": 14,
   "id": "a8656c6e",
   "metadata": {},
   "outputs": [
    {
     "data": {
      "text/plain": [
       "array([0, 1, 2, 3, 4, 5, 6, 7, 8, 9])"
      ]
     },
     "execution_count": 14,
     "metadata": {},
     "output_type": "execute_result"
    }
   ],
   "source": [
    "arr"
   ]
  },
  {
   "cell_type": "markdown",
   "id": "4fc3bf5d",
   "metadata": {},
   "source": [
    "2 . Slice the array from index 5-8"
   ]
  },
  {
   "cell_type": "markdown",
   "id": "29994fe5",
   "metadata": {},
   "source": [
    "Slicing the array from index 5-8 using square brackets"
   ]
  },
  {
   "cell_type": "code",
   "execution_count": 15,
   "id": "d1bcad37",
   "metadata": {},
   "outputs": [
    {
     "data": {
      "text/plain": [
       "array([5, 6, 7])"
      ]
     },
     "execution_count": 15,
     "metadata": {},
     "output_type": "execute_result"
    }
   ],
   "source": [
    "arr[5:8]"
   ]
  },
  {
   "cell_type": "markdown",
   "id": "b8968366",
   "metadata": {},
   "source": [
    "3 . Change sliced array values as 12"
   ]
  },
  {
   "cell_type": "markdown",
   "id": "f6051508",
   "metadata": {},
   "source": [
    " Changing sliced array values to 12 using assignment operator (=)"
   ]
  },
  {
   "cell_type": "code",
   "execution_count": 16,
   "id": "83b2cbe2",
   "metadata": {},
   "outputs": [],
   "source": [
    "arr[5:8] = 12"
   ]
  },
  {
   "cell_type": "markdown",
   "id": "1352abbb",
   "metadata": {},
   "source": [
    "4 . Print origin array"
   ]
  },
  {
   "cell_type": "markdown",
   "id": "cfd01c85",
   "metadata": {},
   "source": [
    "Printing origin array"
   ]
  },
  {
   "cell_type": "code",
   "execution_count": 17,
   "id": "1d2555f4",
   "metadata": {},
   "outputs": [
    {
     "data": {
      "text/plain": [
       "array([ 0,  1,  2,  3,  4, 12, 12, 12,  8,  9])"
      ]
     },
     "execution_count": 17,
     "metadata": {},
     "output_type": "execute_result"
    }
   ],
   "source": [
    "arr"
   ]
  },
  {
   "cell_type": "markdown",
   "id": "758a14ae",
   "metadata": {},
   "source": [
    "5. Change sliced array index 1's value as 12345"
   ]
  },
  {
   "cell_type": "markdown",
   "id": "b908a00b",
   "metadata": {},
   "source": [
    "Changing sliced array index 1 as 12345 using assignment operator (=)"
   ]
  },
  {
   "cell_type": "code",
   "execution_count": 18,
   "id": "51214427",
   "metadata": {},
   "outputs": [],
   "source": [
    "arr[1] = 12345"
   ]
  },
  {
   "cell_type": "markdown",
   "id": "8e07849b",
   "metadata": {},
   "source": [
    "6 . Print origin array"
   ]
  },
  {
   "cell_type": "markdown",
   "id": "50c544e7",
   "metadata": {},
   "source": [
    "Printing origin array"
   ]
  },
  {
   "cell_type": "code",
   "execution_count": 19,
   "id": "6f0c8e1e",
   "metadata": {},
   "outputs": [
    {
     "name": "stdout",
     "output_type": "stream",
     "text": [
      "[    0 12345     2     3     4    12    12    12     8     9]\n"
     ]
    }
   ],
   "source": [
    "print(arr)"
   ]
  },
  {
   "cell_type": "code",
   "execution_count": null,
   "id": "8f3bfc12",
   "metadata": {},
   "outputs": [],
   "source": []
  }
 ],
 "metadata": {
  "kernelspec": {
   "display_name": "Python 3 (ipykernel)",
   "language": "python",
   "name": "python3"
  },
  "language_info": {
   "codemirror_mode": {
    "name": "ipython",
    "version": 3
   },
   "file_extension": ".py",
   "mimetype": "text/x-python",
   "name": "python",
   "nbconvert_exporter": "python",
   "pygments_lexer": "ipython3",
   "version": "3.9.12"
  }
 },
 "nbformat": 4,
 "nbformat_minor": 5
}
