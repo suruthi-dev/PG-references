{
 "cells": [
  {
   "cell_type": "markdown",
   "id": "0474a3b0",
   "metadata": {},
   "source": [
    "#  LAB 1 \n",
    "Python Basics and Conditions"
   ]
  },
  {
   "cell_type": "code",
   "execution_count": null,
   "id": "106c9233",
   "metadata": {},
   "outputs": [],
   "source": [
    "#To write a program to input  length and breadth of a rectangle and print the area and perimeter of it"
   ]
  },
  {
   "cell_type": "code",
   "execution_count": 4,
   "id": "2d1b4566",
   "metadata": {},
   "outputs": [
    {
     "name": "stdout",
     "output_type": "stream",
     "text": [
      "Enter the length of the rectangle\n",
      "10\n",
      "Enter the breadth of the rectangle\n",
      "20\n",
      "\n",
      "The area of the rectangle is 200 sq units\n",
      "\n",
      "The perimter of the rectangle is 60 units\n"
     ]
    }
   ],
   "source": [
    "a=int(input(\"Enter the length of the rectangle\\n\"))\n",
    "b=int(input(\"Enter the breadth of the rectangle\\n\"))\n",
    "area=a*b\n",
    "perimeter=2*(a+b)\n",
    "print(\"\\nThe area of the rectangle is\",area,\"sq units\")\n",
    "print(\"\\nThe perimter of the rectangle is\",perimeter,\"units\")"
   ]
  },
  {
   "cell_type": "code",
   "execution_count": null,
   "id": "c6a37669",
   "metadata": {},
   "outputs": [],
   "source": [
    "#To write a program to accept the annual basic salary of an employee and calculates and display the income tax"
   ]
  },
  {
   "cell_type": "code",
   "execution_count": 7,
   "id": "a28f5ec5",
   "metadata": {
    "scrolled": false
   },
   "outputs": [
    {
     "name": "stdout",
     "output_type": "stream",
     "text": [
      "\n",
      " Enter your Name : 600000\n",
      "\n",
      " Enter your Basic Salary : 600000\n",
      "\n",
      " Employee Name : 600000\n",
      "\n",
      " Annual Income: 420000.0\n",
      "\n",
      " Tax 180000.0\n"
     ]
    }
   ],
   "source": [
    "name=input(\"\\n Enter your Name : \")\n",
    "BasicPay=int(input(\"\\n Enter your Basic Salary : \"))\n",
    "if BasicPay<150000:\n",
    "    Tax=0\n",
    "elif BasicPay>=150000 and BasicPay<=300000:\n",
    "        Tax=0.2*BasicPay\n",
    "else:\n",
    "    Tax=0.3*BasicPay\n",
    "AnnualIncome=BasicPay-Tax\n",
    "print(\"\\n Employee Name :\",name)\n",
    "print(\"\\n Annual Income:\",AnnualIncome)\n",
    "print(\"\\n Tax\",Tax)\n"
   ]
  },
  {
   "cell_type": "code",
   "execution_count": null,
   "id": "1570f1be",
   "metadata": {},
   "outputs": [],
   "source": [
    "#To write a program to accept Quantity and rate for three items.\n",
    "#Compute the actual sales amount,Discount\n"
   ]
  },
  {
   "cell_type": "markdown",
   "id": "896054f4",
   "metadata": {},
   "source": [
    "price=[]\n",
    "quantity=[]\n",
    "for i in range(3):\n",
    "    a=\n"
   ]
  },
  {
   "cell_type": "code",
   "execution_count": 1,
   "id": "57508a66",
   "metadata": {},
   "outputs": [
    {
     "name": "stdout",
     "output_type": "stream",
     "text": [
      "Enter the price of prod1 is  20\n",
      "Enter the price of prod2 is  30\n",
      "Enter the price of prod3 is  10\n",
      "Enter the quantity of prod1 is  2\n",
      "Enter the quantity of prod2 is  2\n",
      "Enter the quantity of prod3 is  3\n",
      "\n",
      "Total Price before discount : 130\n",
      "Discounted value : 0\n",
      "Total Amount to be paid : 130\n"
     ]
    }
   ],
   "source": [
    "price1=int(input(\"Enter the price of prod1 is  \"))\n",
    "price2=int(input(\"Enter the price of prod2 is  \"))\n",
    "price3=int(input(\"Enter the price of prod3 is  \"))\n",
    "\n",
    "quantity1=int(input(\"Enter the quantity of prod1 is  \"))\n",
    "quantity2=int(input(\"Enter the quantity of prod2 is  \"))\n",
    "quantity3=int(input(\"Enter the quantity of prod3 is  \"))\n",
    "\n",
    "cost1=price1*quantity1\n",
    "cost2=price2*quantity2\n",
    "cost3=price3*quantity3\n",
    "\n",
    "TotalPrice=cost1+cost2+cost3\n",
    "\n",
    "if TotalPrice >=2000:\n",
    "    Discount=0.2*TotalPrice\n",
    "elif TotalPrice >=1500 and TotalPrice <=1999:\n",
    "    Discount =0.15*TotalPrice\n",
    "elif TotalPrice >=1000 and TotalPrice <=1499:\n",
    "    Discount=0.08*TotalPrice\n",
    "else:\n",
    "    Discount=0\n",
    "TotalAmount = TotalPrice-Discount\n",
    "print(\"\\nTotal Price before discount :\" ,TotalPrice)\n",
    "print(\"Discounted value :\",Discount)\n",
    "print(\"Total Amount to be paid :\",TotalAmount )\n"
   ]
  },
  {
   "cell_type": "code",
   "execution_count": null,
   "id": "8d6f51dd",
   "metadata": {},
   "outputs": [],
   "source": [
    "#Expression Evaluation"
   ]
  },
  {
   "cell_type": "code",
   "execution_count": 18,
   "id": "ddbda776",
   "metadata": {},
   "outputs": [
    {
     "name": "stdout",
     "output_type": "stream",
     "text": [
      "188.88888888888889\n",
      "7\n"
     ]
    }
   ],
   "source": [
    "X1=(11+31+23+8+7+5)/((1-(1/2)-(1/20)))\n",
    "print(X1)\n",
    "\n",
    "\n",
    "X2=(((10*8)+8-((7//5)%(5**4))) and 3)|(2<<1)\n",
    "print(X2)\n",
    "\n"
   ]
  },
  {
   "cell_type": "code",
   "execution_count": 8,
   "id": "c3e8308e",
   "metadata": {},
   "outputs": [
    {
     "name": "stdout",
     "output_type": "stream",
     "text": [
      "Enter your nameSSS\n",
      "m1 =100\n",
      "m2= 100\n",
      "m3 =100\n",
      "300\n",
      "100.0\n",
      "CONGRATULATIONS  SSS YOU SECURED A TOTAL OF 300 \n",
      " YOUR CLASS IS 1\n"
     ]
    }
   ],
   "source": [
    "name=input(\"Enter your name\")\n",
    "m1=int(input(\"m1 =\"))\n",
    "m2=int(input(\"m2= \"))\n",
    "m3=int(input(\"m3 =\"))\n",
    "m=m1+m2+m3 \n",
    "avg=m/3\n",
    "print(m)\n",
    "print(avg)\n",
    "if avg >80:\n",
    "    print(\"CONGRATULATIONS \",name,\"YOU SECURED A TOTAL OF\",m,\"\\n YOUR CLASS IS 1\")\n",
    "elif avg>=60 and avg<=80:\n",
    "    print(\"CONGRATULATIONS \",name,\"YOU SECURED A TOTAL OF\",m,\"\\n YOUR CLASS IS 2\")\n",
    "elif avg>=40 and avg<=59:\n",
    "     print(\"CONGRATULATIONS \",name,\"YOU SECURED A TOTAL OF\",m,\"\\n YOUR CLASS IS 3\")\n",
    "else :\n",
    "     print(\"Sorry you are failed \")\n"
   ]
  },
  {
   "cell_type": "code",
   "execution_count": null,
   "id": "d00b93c1",
   "metadata": {},
   "outputs": [],
   "source": [
    "#read a number\n"
   ]
  },
  {
   "cell_type": "code",
   "execution_count": null,
   "id": "54519dee",
   "metadata": {},
   "outputs": [],
   "source": []
  },
  {
   "cell_type": "code",
   "execution_count": 13,
   "id": "5368bf3e",
   "metadata": {},
   "outputs": [
    {
     "name": "stdout",
     "output_type": "stream",
     "text": [
      "ENTER A NUMBERa\n"
     ]
    },
    {
     "ename": "TypeError",
     "evalue": "'>=' not supported between instances of 'str' and 'int'",
     "output_type": "error",
     "traceback": [
      "\u001b[1;31m---------------------------------------------------------------------------\u001b[0m",
      "\u001b[1;31mTypeError\u001b[0m                                 Traceback (most recent call last)",
      "Input \u001b[1;32mIn [13]\u001b[0m, in \u001b[0;36m<cell line: 15>\u001b[1;34m()\u001b[0m\n\u001b[0;32m     12\u001b[0m     \u001b[38;5;28;01melif\u001b[39;00m (\u001b[38;5;28mint\u001b[39m(num)\u001b[38;5;241m%\u001b[39m\u001b[38;5;241m2\u001b[39m \u001b[38;5;241m!=\u001b[39m\u001b[38;5;241m0\u001b[39m):\n\u001b[0;32m     13\u001b[0m         \u001b[38;5;28mprint\u001b[39m(\u001b[38;5;124m\"\u001b[39m\u001b[38;5;124mit is an odd number\u001b[39m\u001b[38;5;124m\"\u001b[39m)\n\u001b[1;32m---> 15\u001b[0m \u001b[38;5;28;01mif\u001b[39;00m(\u001b[38;5;28mord\u001b[39m(\u001b[43mnum\u001b[49m\u001b[38;5;241;43m>\u001b[39;49m\u001b[38;5;241;43m=\u001b[39;49m\u001b[38;5;241;43m65\u001b[39;49m)) \u001b[38;5;129;01mand\u001b[39;00m \u001b[38;5;28mord\u001b[39m(num\u001b[38;5;241m<\u001b[39m\u001b[38;5;241m=\u001b[39m\u001b[38;5;241m90\u001b[39m):\n\u001b[0;32m     16\u001b[0m     \u001b[38;5;28mprint\u001b[39m(\u001b[38;5;124m\"\u001b[39m\u001b[38;5;124mit is a UPPER CASE ALPHABET\u001b[39m\u001b[38;5;124m\"\u001b[39m)\n\u001b[0;32m     17\u001b[0m \u001b[38;5;28;01melif\u001b[39;00m(\u001b[38;5;28mord\u001b[39m(num\u001b[38;5;241m>\u001b[39m\u001b[38;5;241m=\u001b[39m\u001b[38;5;241m97\u001b[39m)) \u001b[38;5;129;01mand\u001b[39;00m \u001b[38;5;28mord\u001b[39m(num\u001b[38;5;241m<\u001b[39m\u001b[38;5;241m=\u001b[39m\u001b[38;5;241m122\u001b[39m):\n",
      "\u001b[1;31mTypeError\u001b[0m: '>=' not supported between instances of 'str' and 'int'"
     ]
    }
   ],
   "source": [
    "num=input(\"ENTER A NUMBER\")\n",
    "if num.isalpha()==False:\n",
    "    if (int(num) > 0):\n",
    "        print(num,\"is a positive number\")\n",
    "    elif (int(num)<0):\n",
    "        print(num,\"is a negative number\")\n",
    "    elif(int(num)==0):\n",
    "        print(num,\"is zero\")\n",
    "\n",
    "    if (int(num)%2 ==0):\n",
    "        print(\"it is an even number\")\n",
    "    elif (int(num)%2 !=0):\n",
    "        print(\"it is an odd number\")\n",
    "\n",
    "if(ord(num>=65)) and ord(num<=90):\n",
    "    print(\"it is a UPPER CASE ALPHABET\")\n",
    "elif(ord(num>=97)) and ord(num<=122):\n",
    "     print(\"it is a LOWER CASE ALPHABET\")\n",
    "elif(ord(num>=48)) and ord(num<=57):\n",
    "     print(\"it is a digit\")\n",
    "else:\n",
    "    print(\"it is a  special character\")\n"
   ]
  },
  {
   "cell_type": "code",
   "execution_count": 9,
   "id": "ba315966",
   "metadata": {},
   "outputs": [
    {
     "data": {
      "text/plain": [
       "['__add__',\n",
       " '__class__',\n",
       " '__contains__',\n",
       " '__delattr__',\n",
       " '__dir__',\n",
       " '__doc__',\n",
       " '__eq__',\n",
       " '__format__',\n",
       " '__ge__',\n",
       " '__getattribute__',\n",
       " '__getitem__',\n",
       " '__getnewargs__',\n",
       " '__gt__',\n",
       " '__hash__',\n",
       " '__init__',\n",
       " '__init_subclass__',\n",
       " '__iter__',\n",
       " '__le__',\n",
       " '__len__',\n",
       " '__lt__',\n",
       " '__mod__',\n",
       " '__mul__',\n",
       " '__ne__',\n",
       " '__new__',\n",
       " '__reduce__',\n",
       " '__reduce_ex__',\n",
       " '__repr__',\n",
       " '__rmod__',\n",
       " '__rmul__',\n",
       " '__setattr__',\n",
       " '__sizeof__',\n",
       " '__str__',\n",
       " '__subclasshook__',\n",
       " 'capitalize',\n",
       " 'casefold',\n",
       " 'center',\n",
       " 'count',\n",
       " 'encode',\n",
       " 'endswith',\n",
       " 'expandtabs',\n",
       " 'find',\n",
       " 'format',\n",
       " 'format_map',\n",
       " 'index',\n",
       " 'isalnum',\n",
       " 'isalpha',\n",
       " 'isascii',\n",
       " 'isdecimal',\n",
       " 'isdigit',\n",
       " 'isidentifier',\n",
       " 'islower',\n",
       " 'isnumeric',\n",
       " 'isprintable',\n",
       " 'isspace',\n",
       " 'istitle',\n",
       " 'isupper',\n",
       " 'join',\n",
       " 'ljust',\n",
       " 'lower',\n",
       " 'lstrip',\n",
       " 'maketrans',\n",
       " 'partition',\n",
       " 'removeprefix',\n",
       " 'removesuffix',\n",
       " 'replace',\n",
       " 'rfind',\n",
       " 'rindex',\n",
       " 'rjust',\n",
       " 'rpartition',\n",
       " 'rsplit',\n",
       " 'rstrip',\n",
       " 'split',\n",
       " 'splitlines',\n",
       " 'startswith',\n",
       " 'strip',\n",
       " 'swapcase',\n",
       " 'title',\n",
       " 'translate',\n",
       " 'upper',\n",
       " 'zfill']"
      ]
     },
     "execution_count": 9,
     "metadata": {},
     "output_type": "execute_result"
    }
   ],
   "source": [
    "dir(str)"
   ]
  },
  {
   "cell_type": "code",
   "execution_count": 14,
   "id": "8fb576c0",
   "metadata": {},
   "outputs": [],
   "source": [
    "def charCheck(input_char):\n",
    "     \n",
    "    # CHECKING FOR ALPHABET\n",
    "    if ((int(ord(input_char)) >= 65 and\n",
    "        int(ord(input_char)) <= 90) or\n",
    "        (int(ord(input_char)) >= 97 and\n",
    "        int(ord(input_char)) <= 122)):\n",
    "        print( \" Alphabet \")\n",
    "     \n",
    "    # CHECKING FOR DIGITS\n",
    "    elif (int(ord(input_char)) >= 48 and\n",
    "            int(ord(input_char)) <= 57):\n",
    "        print(\" Digit \")\n",
    " \n",
    "    # OTHERWISE SPECIAL CHARACTER\n",
    "    else:\n",
    "        print(\" Special Character \")\n"
   ]
  },
  {
   "cell_type": "code",
   "execution_count": 16,
   "id": "8a41496d",
   "metadata": {},
   "outputs": [
    {
     "ename": "TypeError",
     "evalue": "ord() expected string of length 1, but int found",
     "output_type": "error",
     "traceback": [
      "\u001b[1;31m---------------------------------------------------------------------------\u001b[0m",
      "\u001b[1;31mTypeError\u001b[0m                                 Traceback (most recent call last)",
      "Input \u001b[1;32mIn [16]\u001b[0m, in \u001b[0;36m<cell line: 1>\u001b[1;34m()\u001b[0m\n\u001b[1;32m----> 1\u001b[0m \u001b[43mcharCheck\u001b[49m\u001b[43m(\u001b[49m\u001b[38;5;241;43m6\u001b[39;49m\u001b[43m)\u001b[49m\n",
      "Input \u001b[1;32mIn [14]\u001b[0m, in \u001b[0;36mcharCheck\u001b[1;34m(input_char)\u001b[0m\n\u001b[0;32m      1\u001b[0m \u001b[38;5;28;01mdef\u001b[39;00m \u001b[38;5;21mcharCheck\u001b[39m(input_char):\n\u001b[0;32m      2\u001b[0m      \n\u001b[0;32m      3\u001b[0m     \u001b[38;5;66;03m# CHECKING FOR ALPHABET\u001b[39;00m\n\u001b[1;32m----> 4\u001b[0m     \u001b[38;5;28;01mif\u001b[39;00m ((\u001b[38;5;28mint\u001b[39m(\u001b[38;5;28;43mord\u001b[39;49m\u001b[43m(\u001b[49m\u001b[43minput_char\u001b[49m\u001b[43m)\u001b[49m) \u001b[38;5;241m>\u001b[39m\u001b[38;5;241m=\u001b[39m \u001b[38;5;241m65\u001b[39m \u001b[38;5;129;01mand\u001b[39;00m\n\u001b[0;32m      5\u001b[0m         \u001b[38;5;28mint\u001b[39m(\u001b[38;5;28mord\u001b[39m(input_char)) \u001b[38;5;241m<\u001b[39m\u001b[38;5;241m=\u001b[39m \u001b[38;5;241m90\u001b[39m) \u001b[38;5;129;01mor\u001b[39;00m\n\u001b[0;32m      6\u001b[0m         (\u001b[38;5;28mint\u001b[39m(\u001b[38;5;28mord\u001b[39m(input_char)) \u001b[38;5;241m>\u001b[39m\u001b[38;5;241m=\u001b[39m \u001b[38;5;241m97\u001b[39m \u001b[38;5;129;01mand\u001b[39;00m\n\u001b[0;32m      7\u001b[0m         \u001b[38;5;28mint\u001b[39m(\u001b[38;5;28mord\u001b[39m(input_char)) \u001b[38;5;241m<\u001b[39m\u001b[38;5;241m=\u001b[39m \u001b[38;5;241m122\u001b[39m)):\n\u001b[0;32m      8\u001b[0m         \u001b[38;5;28mprint\u001b[39m( \u001b[38;5;124m\"\u001b[39m\u001b[38;5;124m Alphabet \u001b[39m\u001b[38;5;124m\"\u001b[39m)\n\u001b[0;32m     10\u001b[0m     \u001b[38;5;66;03m# CHECKING FOR DIGITS\u001b[39;00m\n",
      "\u001b[1;31mTypeError\u001b[0m: ord() expected string of length 1, but int found"
     ]
    }
   ],
   "source": [
    "charCheck(6)"
   ]
  },
  {
   "cell_type": "code",
   "execution_count": 17,
   "id": "b2f86b41",
   "metadata": {},
   "outputs": [
    {
     "data": {
      "text/plain": [
       "'A'"
      ]
     },
     "execution_count": 17,
     "metadata": {},
     "output_type": "execute_result"
    }
   ],
   "source": [
    "chr(65)"
   ]
  },
  {
   "cell_type": "code",
   "execution_count": null,
   "id": "7c0219b1",
   "metadata": {},
   "outputs": [],
   "source": []
  }
 ],
 "metadata": {
  "kernelspec": {
   "display_name": "Python 3 (ipykernel)",
   "language": "python",
   "name": "python3"
  },
  "language_info": {
   "codemirror_mode": {
    "name": "ipython",
    "version": 3
   },
   "file_extension": ".py",
   "mimetype": "text/x-python",
   "name": "python",
   "nbconvert_exporter": "python",
   "pygments_lexer": "ipython3",
   "version": "3.9.12"
  }
 },
 "nbformat": 4,
 "nbformat_minor": 5
}
