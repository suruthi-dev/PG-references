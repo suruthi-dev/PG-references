{
 "cells": [
  {
   "cell_type": "markdown",
   "metadata": {},
   "source": [
    "Write a program that accepts numbers continuously as long as the number is \n",
    "positive and prints the sum of the numbers read (Use while loop)."
   ]
  },
  {
   "cell_type": "code",
   "execution_count": null,
   "metadata": {},
   "outputs": [],
   "source": [
    "num=1\n",
    "add=0 \n",
    "while (num>0):\n",
    "    num=int(input(\"Enter a number\"))\n",
    "    if num>0:\n",
    "        add+=num\n",
    "    else :\n",
    "        break\n",
    "print(add)"
   ]
  },
  {
   "cell_type": "markdown",
   "metadata": {},
   "source": [
    "Write a program to take the values of two integers m and n from the user. \n",
    "Calculate the sum of even number between m and n (including both m and n).\n",
    "\n",
    "Please note that value of m must be less than value of n.\n",
    "\n",
    "If m > n. then you must print a message “Value of m should be less than n” \n",
    "and ask for next input values.\n",
    "\n",
    "Print the values of m, n and sum. (Use while loop).\n",
    "\n",
    "The program should continue until user types ‘q’ to quit the program.\n"
   ]
  },
  {
   "cell_type": "code",
   "execution_count": null,
   "metadata": {},
   "outputs": [],
   "source": [
    "while(True):\n",
    "    m=int(input(\"Enter m value\"))\n",
    "    n=int(input(\"Enter n value\"))\n",
    "    even=0\n",
    "    if(m>n):\n",
    "         print(\"Value of m should be less than n\")\n",
    "    else:\n",
    "        for i in range(n):\n",
    "            if i%2==0:\n",
    "                even+=i\n",
    "        print(even)\n",
    "    cont=input(\"Enter q to quit the program  : \")\n",
    "    if(cont=='q'or cont=='Q'):\n",
    "        break\n",
    "    else:\n",
    "        continue\n"
   ]
  },
  {
   "cell_type": "markdown",
   "metadata": {},
   "source": [
    "Write a program to accept n and display its multiplication table. Value of n must \n",
    "be provided by the user. (Example: n * 1, n * 2,....,n*10) (Use for loop)"
   ]
  },
  {
   "cell_type": "code",
   "execution_count": null,
   "metadata": {},
   "outputs": [],
   "source": [
    "n=int(input(\"Enter a number  : \" ))\n",
    "for i in range(1,11):\n",
    "    print(f\"{n} x {i} = {n*i}\")"
   ]
  },
  {
   "cell_type": "code",
   "execution_count": null,
   "metadata": {},
   "outputs": [],
   "source": [
    "#125=1+2+5\n",
    "n=int(input(\"enter a number\"))\n",
    "sumd=0\n",
    "while(n>0):\n",
    "    r=n%10\n",
    "    sumd+=r\n",
    "    n=n//10\n",
    "print(sumd)\n",
    "\n",
    "#sum of digits : %  //"
   ]
  },
  {
   "cell_type": "code",
   "execution_count": null,
   "metadata": {},
   "outputs": [],
   "source": [
    "125%10"
   ]
  },
  {
   "cell_type": "code",
   "execution_count": null,
   "metadata": {},
   "outputs": [],
   "source": [
    "125//10"
   ]
  },
  {
   "cell_type": "code",
   "execution_count": null,
   "metadata": {},
   "outputs": [],
   "source": [
    "12%10"
   ]
  },
  {
   "cell_type": "code",
   "execution_count": null,
   "metadata": {},
   "outputs": [],
   "source": [
    "12//10"
   ]
  },
  {
   "cell_type": "code",
   "execution_count": null,
   "metadata": {},
   "outputs": [],
   "source": [
    "def listnum(lst):\n",
    "    if len(lst)==1:\n",
    "        return lst[0]\n",
    "    else:\n",
    "        return lst[0]+listnum(lst[1:])\n",
    "    \n",
    "    "
   ]
  },
  {
   "cell_type": "code",
   "execution_count": null,
   "metadata": {},
   "outputs": [],
   "source": [
    "lst=[1,2,5]\n",
    "listnum(lst)"
   ]
  },
  {
   "cell_type": "code",
   "execution_count": null,
   "metadata": {},
   "outputs": [],
   "source": [
    "total,avg,count=0,0,0\n",
    "while True:\n",
    "    try :\n",
    "        mark=input(\"enter your marks\")\n",
    "        if(mark=='done'):\n",
    "            break\n",
    "        total=float(total)\n",
    "        total+=mark\n",
    "        count+=1\n",
    "        avg=total/count\n",
    "    except:\n",
    "        print(\"Invalid input\")\n",
    "print(f\"TOTAL :{total},AVG={avg}\")"
   ]
  },
  {
   "cell_type": "code",
   "execution_count": null,
   "metadata": {},
   "outputs": [],
   "source": []
  }
 ],
 "metadata": {
  "kernelspec": {
   "display_name": "Python 3 (ipykernel)",
   "language": "python",
   "name": "python3"
  },
  "language_info": {
   "codemirror_mode": {
    "name": "ipython",
    "version": 3
   },
   "file_extension": ".py",
   "mimetype": "text/x-python",
   "name": "python",
   "nbconvert_exporter": "python",
   "pygments_lexer": "ipython3",
   "version": "3.9.12"
  }
 },
 "nbformat": 4,
 "nbformat_minor": 2
}
