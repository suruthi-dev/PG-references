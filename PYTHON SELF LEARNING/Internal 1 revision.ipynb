{
 "cells": [
  {
   "cell_type": "code",
   "execution_count": 1,
   "id": "30e19091",
   "metadata": {},
   "outputs": [],
   "source": [
    "#sum of a list of numbers\n",
    "def listnum(mylist):\n",
    "    if (len(mylist)==1):\n",
    "        return mylist[0]\n",
    "    else:\n",
    "        return mylist[0]+ listnum(mylist[1:])"
   ]
  },
  {
   "cell_type": "code",
   "execution_count": 2,
   "id": "d4fa1a23",
   "metadata": {},
   "outputs": [
    {
     "data": {
      "text/plain": [
       "15"
      ]
     },
     "execution_count": 2,
     "metadata": {},
     "output_type": "execute_result"
    }
   ],
   "source": [
    "a=[1,2,3,4,5]\n",
    "listnum(a)"
   ]
  },
  {
   "cell_type": "code",
   "execution_count": 3,
   "id": "c9d1c480",
   "metadata": {},
   "outputs": [],
   "source": [
    "#revserse string\n",
    "def strrev(stri):\n",
    "    rev=''\n",
    "    index=len(stri)\n",
    "    while(index>0):\n",
    "        rev=rev+stri[index -1]\n",
    "        index=index-1\n",
    "    print(rev)"
   ]
  },
  {
   "cell_type": "code",
   "execution_count": 17,
   "id": "f25c603e",
   "metadata": {},
   "outputs": [
    {
     "name": "stdout",
     "output_type": "stream",
     "text": [
      "lrig doog a si urus\n"
     ]
    }
   ],
   "source": [
    "a='suru is a good girl'\n",
    "strrev(a)"
   ]
  },
  {
   "cell_type": "code",
   "execution_count": 29,
   "id": "99819c5c",
   "metadata": {},
   "outputs": [
    {
     "name": "stdout",
     "output_type": "stream",
     "text": [
      "[10, 20, 30, 40]\n",
      "{40, 10, 20, 30}\n",
      "[10, 30, 10, 20, 40]\n"
     ]
    }
   ],
   "source": [
    "#unique elements using set\n",
    "a=[10,30,10,20,40]\n",
    "b=set(a)\n",
    "for i  in a:\n",
    "    if i not in b:\n",
    "        z=a.pop(i)\n",
    "print(z)\n",
    "print(b)\n",
    "print(a)"
   ]
  },
  {
   "cell_type": "code",
   "execution_count": 66,
   "id": "dedb08de",
   "metadata": {},
   "outputs": [],
   "source": [
    "with open(\"loops.txt\",'w+')as f:\n",
    "    f.write('''Loops python is used for sequentialism traversal here we will count the number of lines using the loop and if statement.\n",
    "if help us to determine is there any character or not,\n",
    "if there will be any character present the IF condition returns true and the counter will increment''')"
   ]
  },
  {
   "cell_type": "code",
   "execution_count": 67,
   "id": "b5b1b1cf",
   "metadata": {},
   "outputs": [],
   "source": [
    "#return longest word\n",
    "def longf(file):\n",
    "    with open (file,\"r\")as f:\n",
    "        a=f.read().split()\n",
    "    max_len=len(max(a,key=len))\n",
    "    return[word for word in a if len(word)==max_len]"
   ]
  },
  {
   "cell_type": "code",
   "execution_count": 68,
   "id": "4341a1af",
   "metadata": {},
   "outputs": [
    {
     "data": {
      "text/plain": [
       "['sequentialism']"
      ]
     },
     "execution_count": 68,
     "metadata": {},
     "output_type": "execute_result"
    }
   ],
   "source": [
    "longf(\"loops.txt\")"
   ]
  },
  {
   "cell_type": "code",
   "execution_count": 70,
   "id": "67b12c9c",
   "metadata": {},
   "outputs": [
    {
     "name": "stdout",
     "output_type": "stream",
     "text": [
      "3\n"
     ]
    }
   ],
   "source": [
    "with open(\"loops.txt\",'r')as f:\n",
    "    a=len(f.readlines())\n",
    "    print(a)"
   ]
  },
  {
   "cell_type": "code",
   "execution_count": 75,
   "id": "a1b46733",
   "metadata": {},
   "outputs": [
    {
     "name": "stdout",
     "output_type": "stream",
     "text": [
      "{'Ten': 10, 'Twenty': 20, 'Thirty': 30}\n"
     ]
    }
   ],
   "source": [
    "keys=['Ten','Twenty','Thirty']\n",
    "values=[10,20,30]\n",
    "a=dict(zip(keys,values))\n",
    "print(a)"
   ]
  },
  {
   "cell_type": "code",
   "execution_count": 76,
   "id": "cf5ffe59",
   "metadata": {},
   "outputs": [
    {
     "name": "stdout",
     "output_type": "stream",
     "text": [
      "{'Ten': 10, 'Twenty': 20, 'Thirty': 30, 'Fourty': 40, 'Fifty': 50}\n"
     ]
    }
   ],
   "source": [
    "dict1 = {'Ten': 10, 'Twenty': 20, 'Thirty': 30}\n",
    "dict2 = {'Thirty': 30, 'Fourty': 40, 'Fifty': 50}\n",
    "\n",
    "dict3 = {**dict1, **dict2}\n",
    "print(dict3)"
   ]
  },
  {
   "cell_type": "code",
   "execution_count": null,
   "id": "41c09323",
   "metadata": {},
   "outputs": [],
   "source": []
  }
 ],
 "metadata": {
  "kernelspec": {
   "display_name": "Python 3 (ipykernel)",
   "language": "python",
   "name": "python3"
  },
  "language_info": {
   "codemirror_mode": {
    "name": "ipython",
    "version": 3
   },
   "file_extension": ".py",
   "mimetype": "text/x-python",
   "name": "python",
   "nbconvert_exporter": "python",
   "pygments_lexer": "ipython3",
   "version": "3.9.12"
  }
 },
 "nbformat": 4,
 "nbformat_minor": 5
}
