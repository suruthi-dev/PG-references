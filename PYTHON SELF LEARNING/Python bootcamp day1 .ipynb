{
 "cells": [
  {
   "cell_type": "code",
   "execution_count": 2,
   "id": "9d8ac6b7",
   "metadata": {},
   "outputs": [
    {
     "name": "stdout",
     "output_type": "stream",
     "text": [
      "ENTER THE NUMBER OF SUBJECTS : 4\n",
      "ENTER MARK 1  : 100\n",
      "ENTER MARK 2  : 100\n",
      "ENTER MARK 3  : 100\n",
      "ENTER MARK 4  : 100\n",
      "TOTAL =400\n",
      "AVERAGE = 100.0\n"
     ]
    }
   ],
   "source": [
    "\n",
    "a=int(input(\"ENTER THE NUMBER OF SUBJECTS : \"))\n",
    "mark=[]\n",
    "total =0\n",
    "for i in range(a):\n",
    "    mark.insert(i,int(input(f\"ENTER MARK {i+1}  : \")))\n",
    "    total+=mark[i]\n",
    "print(f\"TOTAL ={total}\")\n",
    "avg=total/a\n",
    "print(f\"AVERAGE = {avg}\")\n",
    "    "
   ]
  },
  {
   "cell_type": "code",
   "execution_count": 6,
   "id": "cecb522a",
   "metadata": {},
   "outputs": [
    {
     "name": "stdout",
     "output_type": "stream",
     "text": [
      "ENTER THE TABLE TO BE PRINTED : 5\n",
      "5*1 = 5\n",
      "5*2 = 10\n",
      "5*3 = 15\n",
      "5*4 = 20\n",
      "5*5 = 25\n",
      "5*6 = 30\n",
      "5*7 = 35\n",
      "5*8 = 40\n",
      "5*9 = 45\n",
      "5*10 = 50\n"
     ]
    }
   ],
   "source": [
    "b=int(input(\"ENTER THE TABLE TO BE PRINTED : \"))\n",
    "for i in range(1,11):\n",
    "    print(f\"{b}*{i} = {b*i}\")\n",
    "               \n"
   ]
  },
  {
   "cell_type": "code",
   "execution_count": 2,
   "id": "12b8324d",
   "metadata": {},
   "outputs": [],
   "source": [
    "\n",
    "#without argument without return \n",
    "\n",
    "def show_employee(name,salary = 9000):\n",
    "    name=input(\"ENTER THE EMPLOYEE NAME : \")\n",
    "    salary = int(input(\"\\nENTER THE SALARY OF THE EMPLOYEE : \"))\n",
    "    print(f\"\\n EMPLOYEE NAME : {name}\")\n",
    "    print(f\"\\n SALARY : {salary}\")"
   ]
  },
  {
   "cell_type": "code",
   "execution_count": 6,
   "id": "6a1e48e1",
   "metadata": {},
   "outputs": [],
   "source": [
    "\n",
    "#with argument with return\n",
    "\n",
    "def show_employee(name,salary=9000):\n",
    "    print(name, salary)"
   ]
  },
  {
   "cell_type": "code",
   "execution_count": 7,
   "id": "8653da2e",
   "metadata": {},
   "outputs": [
    {
     "name": "stdout",
     "output_type": "stream",
     "text": [
      "Anne 7000\n"
     ]
    }
   ],
   "source": [
    "show_employee('Anne',7000)"
   ]
  },
  {
   "cell_type": "code",
   "execution_count": 9,
   "id": "68b99acc",
   "metadata": {},
   "outputs": [
    {
     "name": "stdout",
     "output_type": "stream",
     "text": [
      "Na 9000\n"
     ]
    }
   ],
   "source": [
    "show_employee('Na')"
   ]
  },
  {
   "cell_type": "code",
   "execution_count": 13,
   "id": "5b6db3dc",
   "metadata": {},
   "outputs": [],
   "source": [
    "def odd_or_even(num):\n",
    "    odd_num=[]\n",
    "    even_num=[]\n",
    "    for i in num:\n",
    "        if i%2==1:\n",
    "            odd_num.append(i)\n",
    "        else:\n",
    "            even_num.append(i)\n",
    "    \n",
    "    print(\"ODD NUMBERS  : \",odd_num)\n",
    "    print(\"EVEN NUMBERS  :\",even_num)"
   ]
  },
  {
   "cell_type": "code",
   "execution_count": 14,
   "id": "dbbc4840",
   "metadata": {},
   "outputs": [
    {
     "name": "stdout",
     "output_type": "stream",
     "text": [
      "ODD NUMBERS  :  [1, 3, 5, 7, 9]\n",
      "EVEN NUMBERS  : [2, 4, 6, 8, 10]\n"
     ]
    }
   ],
   "source": [
    "a=[1,2,3,4,5,6,7,8,9,10]\n",
    "odd_or_even(a)"
   ]
  },
  {
   "cell_type": "code",
   "execution_count": null,
   "id": "81e113ac",
   "metadata": {},
   "outputs": [],
   "source": [
    "def ops(a,b):\n",
    "    ops=input(\"ENTER OP\")"
   ]
  },
  {
   "cell_type": "code",
   "execution_count": null,
   "id": "713ad370",
   "metadata": {},
   "outputs": [],
   "source": []
  },
  {
   "cell_type": "code",
   "execution_count": 20,
   "id": "f1cc18cb",
   "metadata": {},
   "outputs": [],
   "source": [
    "def odd(num):\n",
    "    odd_num=[]\n",
    "    for i in num:\n",
    "        if i%2==1:\n",
    "            odd_num.append(i)\n",
    "            \n",
    "    print(\"ODD NUMBERS  : \",odd_num)        "
   ]
  },
  {
   "cell_type": "code",
   "execution_count": 21,
   "id": "9b9b9401",
   "metadata": {},
   "outputs": [
    {
     "name": "stdout",
     "output_type": "stream",
     "text": [
      "ODD NUMBERS  :  [1, 3, 5]\n"
     ]
    }
   ],
   "source": [
    "a=[1,2,3,4,5]\n",
    "odd(a)"
   ]
  },
  {
   "cell_type": "code",
   "execution_count": 23,
   "id": "5ba8e70f",
   "metadata": {},
   "outputs": [
    {
     "name": "stdout",
     "output_type": "stream",
     "text": [
      "1\n",
      "2\n",
      "3\n",
      "4\n",
      "5\n",
      "6\n",
      "7\n",
      "8\n",
      "9\n",
      "10\n"
     ]
    }
   ],
   "source": [
    "a=[1,2,3,4,5,6,7,8,9,10]\n",
    "filter(odd,a)\n",
    "for i in a:\n",
    "    print(i)"
   ]
  },
  {
   "cell_type": "code",
   "execution_count": null,
   "id": "2b4e490d",
   "metadata": {},
   "outputs": [],
   "source": []
  }
 ],
 "metadata": {
  "kernelspec": {
   "display_name": "Python 3 (ipykernel)",
   "language": "python",
   "name": "python3"
  },
  "language_info": {
   "codemirror_mode": {
    "name": "ipython",
    "version": 3
   },
   "file_extension": ".py",
   "mimetype": "text/x-python",
   "name": "python",
   "nbconvert_exporter": "python",
   "pygments_lexer": "ipython3",
   "version": "3.9.12"
  }
 },
 "nbformat": 4,
 "nbformat_minor": 5
}
