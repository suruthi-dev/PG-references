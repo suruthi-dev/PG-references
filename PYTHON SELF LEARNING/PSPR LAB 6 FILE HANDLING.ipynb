{
 "cells": [
  {
   "cell_type": "code",
   "execution_count": null,
   "id": "c45ffa6b",
   "metadata": {},
   "outputs": [],
   "source": [
    "with open(\"loginfile.txt\",'w')as f:\n",
    "    n=int(input(\"ENTER THE NO OF LOGIN ID TO BE CREATED :\"))\n",
    "    for i in range(n):\n",
    "        username=input(\"ENTER THE USER NAME :\")\n",
    "        pw=input(\"ENTER THE PASSWORD : \")\n",
    "        login=username+' '+pw+\"\\n\"\n",
    "        f.write(login)\n",
    "    f.close\n"
   ]
  },
  {
   "cell_type": "code",
   "execution_count": 4,
   "id": "83fa928a",
   "metadata": {},
   "outputs": [],
   "source": [
    "import shutil"
   ]
  },
  {
   "cell_type": "code",
   "execution_count": null,
   "id": "59cb2c09",
   "metadata": {},
   "outputs": [],
   "source": [
    "lst=[]\n",
    "with open (\"security.txt\",\"w+\")as f:\n",
    "    shutil.copyfile(\"loginfile.txt\",'security.txt')\n",
    "    for i in f:\n",
    "        lst.append(i)\n",
    "    a=f.read()\n",
    "    print(a)\n",
    "    f.close()"
   ]
  },
  {
   "cell_type": "code",
   "execution_count": null,
   "id": "de8f7067",
   "metadata": {},
   "outputs": [],
   "source": [
    "username=input(\"ENTER THE USER NAME :\")\n",
    "pw=input(\"ENTER THE PASSWORD : \")\n",
    "login=username+' '+pw+\"\\n\"\n",
    "if login in lst:\n",
    "    print(\"LOGIN SUCCESSFUL\")\n",
    "else:\n",
    "    print(\"LOGIN failed\")"
   ]
  },
  {
   "cell_type": "markdown",
   "id": "27954c3c",
   "metadata": {},
   "source": [
    "eof 1"
   ]
  },
  {
   "cell_type": "code",
   "execution_count": 1,
   "id": "8b51f8bb",
   "metadata": {},
   "outputs": [
    {
     "name": "stdout",
     "output_type": "stream",
     "text": [
      "ENTER THE NO OF RECORDS:3\n",
      "ENTER THE MARK 1 12\n",
      "ENTER THE MARK 2 14\n",
      "ENTER THE MARK 3 15\n",
      "\n",
      "HIGHEST MARK : 15.0\n"
     ]
    }
   ],
   "source": [
    "lst=[]\n",
    "with open (\"mark.txt\",\"w\")as f:              \n",
    "    n=int(input(\"ENTER THE NO OF RECORDS:\")) \n",
    "    for i in range(n):                       \n",
    "            mark=input(f\"ENTER THE MARK {i+1} \") \n",
    "            lst.append(mark)                \n",
    "            f.write(mark)                                  \n",
    "    res_max = max(lst,key=lambda x:float(x)) \n",
    "    print(\"\\nHIGHEST MARK :\",float(res_max))\n",
    "    f.close()"
   ]
  },
  {
   "cell_type": "code",
   "execution_count": 3,
   "id": "ec720d16",
   "metadata": {},
   "outputs": [
    {
     "name": "stdout",
     "output_type": "stream",
     "text": [
      "ENTER HOW MANY NEW MARKS TO BE APPENDED :2\n",
      "ENTER THE MARK  : 11\n",
      "ENTER THE MARK  : 10\n"
     ]
    }
   ],
   "source": [
    "newmark=[]\n",
    "with open (\"mark.txt\",\"a\")as appd:\n",
    "    new_mark=int(input(\"ENTER HOW MANY NEW MARKS TO BE APPENDED :\"))\n",
    "    for i in range (new_mark):\n",
    "        new=input(\"ENTER THE MARK  : \")\n",
    "        newmark.append(new)\n",
    "        appd.write(new)\n",
    "        #appd.write(\"\\n\")\n",
    "    appd.close()\n",
    "    "
   ]
  },
  {
   "cell_type": "code",
   "execution_count": 5,
   "id": "461f9cc9",
   "metadata": {},
   "outputs": [
    {
     "name": "stdout",
     "output_type": "stream",
     "text": [
      "['12', '14', '15', '11', '10']\n"
     ]
    }
   ],
   "source": [
    "upd=lst+newmark\n",
    "print(upd)\n"
   ]
  },
  {
   "cell_type": "code",
   "execution_count": 20,
   "id": "c8297abd",
   "metadata": {},
   "outputs": [
    {
     "name": "stdout",
     "output_type": "stream",
     "text": [
      "[12, 14, 15, 11, 10]\n",
      "[15, 14, 12, 11, 10]\n",
      "TOP 3 MARKS :  [15, 14, 12]\n",
      "LOWEST 3 MARKS:  [12, 11, 10]\n"
     ]
    }
   ],
   "source": [
    "hs=[]\n",
    "for element in upd:\n",
    "    element_value = int(element)\n",
    "    hs.append(element_value)\n",
    "print(hs)\n",
    "hs.sort(reverse=True)\n",
    "print(hs)\n",
    "print(\"TOP 3 MARKS : \",hs[:3])\n",
    "print(\"LOWEST 3 MARKS: \",hs[-3:])\n",
    "\n",
    "    "
   ]
  },
  {
   "cell_type": "markdown",
   "id": "c231d451",
   "metadata": {},
   "source": [
    "eof 2"
   ]
  },
  {
   "cell_type": "code",
   "execution_count": null,
   "id": "674b0e94",
   "metadata": {},
   "outputs": [],
   "source": []
  },
  {
   "cell_type": "markdown",
   "id": "9a446854",
   "metadata": {},
   "source": [
    "\n",
    "#og code : \n",
    "\n",
    "with open (\"stock-price.txt\",'w+')as f:\n",
    "    num=int(input(\"ENTER THE NUMBER OF STOCKS TO BE ENTERED FOR RECORD : \"))\n",
    "    day={}\n",
    "    for i in range (num):\n",
    "        name=input(\"ENTER THE NAME OF THE STOCK :\")\n",
    "        val=[]\n",
    "        for j in range(5):\n",
    "            v=float(input(f\"ENTER THE DAY{j+1} STOCK PRICE\"))\n",
    "            val.append(v)\n",
    "            day[name]=val\n",
    "    f.write(str(day))\n",
    "    print(day)\n",
    "    f.close()\n",
    "\n",
    "    \n",
    "    "
   ]
  },
  {
   "cell_type": "code",
   "execution_count": null,
   "id": "009729cd",
   "metadata": {},
   "outputs": [],
   "source": [
    "# PGRM 3:"
   ]
  },
  {
   "cell_type": "code",
   "execution_count": 4,
   "id": "73138fb3",
   "metadata": {},
   "outputs": [
    {
     "name": "stdout",
     "output_type": "stream",
     "text": [
      "ENTER THE NUMBER OF STOCKS TO BE ENTERED FOR RECORD : 3\n",
      "ENTER THE NAME OF THE STOCK :Qlik\n",
      "ENTER THE DAY1 STOCK PRICE150\n",
      "ENTER THE DAY2 STOCK PRICE152\n",
      "ENTER THE DAY3 STOCK PRICE154\n",
      "ENTER THE DAY4 STOCK PRICE156\n",
      "ENTER THE DAY5 STOCK PRICE160\n",
      "\n",
      "NAME : Qlik \n",
      "MINIMUMUM VALUE 150.0 \n",
      "MAXIMUM VALUE : 160.0 \n",
      "AVERAGE VALUE : 154.4\n",
      "ENTER THE NAME OF THE STOCK :AWS\n",
      "ENTER THE DAY1 STOCK PRICE200\n",
      "ENTER THE DAY2 STOCK PRICE212\n",
      "ENTER THE DAY3 STOCK PRICE222\n",
      "ENTER THE DAY4 STOCK PRICE232\n",
      "ENTER THE DAY5 STOCK PRICE242\n",
      "\n",
      "NAME : AWS \n",
      "MINIMUMUM VALUE 200.0 \n",
      "MAXIMUM VALUE : 242.0 \n",
      "AVERAGE VALUE : 221.6\n",
      "ENTER THE NAME OF THE STOCK :IBM\n",
      "ENTER THE DAY1 STOCK PRICE189\n",
      "ENTER THE DAY2 STOCK PRICE18\n",
      "ENTER THE DAY3 STOCK PRICE114\n",
      "ENTER THE DAY4 STOCK PRICE145\n",
      "ENTER THE DAY5 STOCK PRICE149\n",
      "\n",
      "NAME : IBM \n",
      "MINIMUMUM VALUE 18.0 \n",
      "MAXIMUM VALUE : 189.0 \n",
      "AVERAGE VALUE : 123.0\n",
      "{'Qlik': [150.0, 152.0, 154.0, 156.0, 160.0], 'AWS': [200.0, 212.0, 222.0, 232.0, 242.0], 'IBM': [189.0, 18.0, 114.0, 145.0, 149.0]}\n"
     ]
    }
   ],
   "source": [
    "with open (\"stock-price.txt\",'w+')as f:\n",
    "    num=int(input(\"ENTER THE NUMBER OF STOCKS TO BE ENTERED FOR RECORD : \"))\n",
    "    day={}\n",
    "    for i in range (num):\n",
    "        name=input(\"ENTER THE NAME OF THE STOCK :\")\n",
    "        val=[]\n",
    "        for j in range(5):\n",
    "            v=float(input(f\"ENTER THE DAY{j+1} STOCK PRICE\"))\n",
    "            val.append(v)\n",
    "            day[name]=val\n",
    "        mi=min(val)\n",
    "        ma=max(val)\n",
    "        av=(sum(val)/len(val))\n",
    "        print(f\"\\nNAME :\",name,\"\\nMINIMUMUM VALUE\",mi,\"\\nMAXIMUM VALUE :\",ma,\"\\nAVERAGE VALUE :\",av)\n",
    "    f.write(str(day))\n",
    "    print(day)\n",
    "    f.close()\n"
   ]
  },
  {
   "cell_type": "code",
   "execution_count": null,
   "id": "db30b786",
   "metadata": {},
   "outputs": [],
   "source": []
  },
  {
   "cell_type": "code",
   "execution_count": 11,
   "id": "02d57223",
   "metadata": {},
   "outputs": [
    {
     "name": "stdout",
     "output_type": "stream",
     "text": [
      "DO YOU WANT TO CONTINUE ?   TO CONTINUE : PRESS 1    TO CLOSE  : PRESS 0   1\n",
      "ENTER HOW MANY NEW STOCK DETAILS YOU NEED TO ENTER :1\n",
      "ENTER THE NAME OF THE STOCK :google\n",
      "ENTER THE DAY1 STOCK PRICE12\n",
      "ENTER THE DAY2 STOCK PRICE13\n",
      "ENTER THE DAY3 STOCK PRICE13\n",
      "ENTER THE DAY4 STOCK PRICE14\n",
      "ENTER THE DAY5 STOCK PRICE16\n"
     ]
    }
   ],
   "source": [
    "with open (\"stovk-price.txt\",\"a\")as f:\n",
    "    ext={}\n",
    "    ip=int(input(\"DO YOU WANT TO CONTINUE ?   TO CONTINUE : PRESS 1    TO CLOSE  : PRESS 0   \"))\n",
    "    if ip==1:\n",
    "        rec=int(input(\"ENTER HOW MANY NEW STOCK DETAILS YOU NEED TO ENTER :\"))\n",
    "        for i in range(rec):\n",
    "            name=input(\"ENTER THE NAME OF THE STOCK :\")\n",
    "            val=[]\n",
    "            for j in range(5):\n",
    "                v=float(input(f\"ENTER THE DAY{j+1} STOCK PRICE\"))\n",
    "                val.append(v)\n",
    "            ext[name]=val\n",
    "        f.write(str(ext))   \n",
    "    else:\n",
    "        pass\n",
    "         "
   ]
  },
  {
   "cell_type": "code",
   "execution_count": null,
   "id": "b04647a2",
   "metadata": {},
   "outputs": [],
   "source": []
  },
  {
   "cell_type": "code",
   "execution_count": 1,
   "id": "6736f690",
   "metadata": {},
   "outputs": [
    {
     "name": "stdout",
     "output_type": "stream",
     "text": [
      "1.Display the contents of File:\n"
     ]
    },
    {
     "ename": "FileNotFoundError",
     "evalue": "[Errno 2] No such file or directory: 'alice.txt'",
     "output_type": "error",
     "traceback": [
      "\u001b[1;31m---------------------------------------------------------------------------\u001b[0m",
      "\u001b[1;31mFileNotFoundError\u001b[0m                         Traceback (most recent call last)",
      "Input \u001b[1;32mIn [1]\u001b[0m, in \u001b[0;36m<cell line: 2>\u001b[1;34m()\u001b[0m\n\u001b[0;32m      1\u001b[0m \u001b[38;5;28mprint\u001b[39m(\u001b[38;5;124m\"\u001b[39m\u001b[38;5;124m1.Display the contents of File:\u001b[39m\u001b[38;5;124m\"\u001b[39m)\n\u001b[1;32m----> 2\u001b[0m f \u001b[38;5;241m=\u001b[39m \u001b[38;5;28;43mopen\u001b[39;49m\u001b[43m(\u001b[49m\u001b[38;5;124;43m\"\u001b[39;49m\u001b[38;5;124;43malice.txt\u001b[39;49m\u001b[38;5;124;43m\"\u001b[39;49m\u001b[43m,\u001b[49m\u001b[38;5;124;43m'\u001b[39;49m\u001b[38;5;124;43mr\u001b[39;49m\u001b[38;5;124;43m'\u001b[39;49m\u001b[43m)\u001b[49m\n\u001b[0;32m      3\u001b[0m display \u001b[38;5;241m=\u001b[39m f\u001b[38;5;241m.\u001b[39mread()\n\u001b[0;32m      4\u001b[0m \u001b[38;5;28mprint\u001b[39m(display)\n",
      "\u001b[1;31mFileNotFoundError\u001b[0m: [Errno 2] No such file or directory: 'alice.txt'"
     ]
    }
   ],
   "source": [
    "print(\"1.Display the contents of File:\")\n",
    "f = open(\"alice.txt\",'r')\n",
    "display = f.read()\n",
    "print(display)\n",
    "f.close()\n",
    "print(\"\")"
   ]
  },
  {
   "cell_type": "code",
   "execution_count": null,
   "id": "3f7dc57c",
   "metadata": {},
   "outputs": [],
   "source": []
  },
  {
   "cell_type": "code",
   "execution_count": null,
   "id": "d6985504",
   "metadata": {},
   "outputs": [],
   "source": []
  },
  {
   "cell_type": "code",
   "execution_count": null,
   "id": "d2b69818",
   "metadata": {},
   "outputs": [],
   "source": []
  },
  {
   "cell_type": "code",
   "execution_count": null,
   "id": "955e8577",
   "metadata": {},
   "outputs": [],
   "source": []
  }
 ],
 "metadata": {
  "kernelspec": {
   "display_name": "Python 3 (ipykernel)",
   "language": "python",
   "name": "python3"
  },
  "language_info": {
   "codemirror_mode": {
    "name": "ipython",
    "version": 3
   },
   "file_extension": ".py",
   "mimetype": "text/x-python",
   "name": "python",
   "nbconvert_exporter": "python",
   "pygments_lexer": "ipython3",
   "version": "3.9.12"
  }
 },
 "nbformat": 4,
 "nbformat_minor": 5
}
