{
 "cells": [
  {
   "cell_type": "markdown",
   "id": "88dae2a3",
   "metadata": {},
   "source": [
    "# LAB 4 - Python String Processing"
   ]
  },
  {
   "cell_type": "markdown",
   "id": "a36d3b37",
   "metadata": {},
   "source": [
    "SURUTHI S\n",
    "\n",
    "225229141\n",
    "\n",
    "ds225229141@bhc.edu.in\n"
   ]
  },
  {
   "cell_type": "markdown",
   "id": "f604c91e",
   "metadata": {},
   "source": [
    "1 . Develop a function count_letter(string, search) that returns the number of times search character appears in a string."
   ]
  },
  {
   "cell_type": "code",
   "execution_count": 15,
   "id": "7e9a408b",
   "metadata": {},
   "outputs": [],
   "source": [
    "def count_letter(string,search):\n",
    "    string=input(\"ENTER THE STRING :\")\n",
    "    search=input(\"ENTER THE STRING TO BE SEARCHED :  \")\n",
    "    count=0\n",
    "    for i in range(len(string)):\n",
    "        if string[i] ==search:\n",
    "            count+=1\n",
    "        else:\n",
    "            pass\n",
    "    print(count)\n",
    "\n"
   ]
  },
  {
   "cell_type": "markdown",
   "id": "29fcae1d",
   "metadata": {},
   "source": [
    "TEST CASE 1 :\n",
    "Str = “hello world”. Search = ‘o’. Calling count_letter(str, search) should return output 2"
   ]
  },
  {
   "cell_type": "code",
   "execution_count": 17,
   "id": "4928a090",
   "metadata": {},
   "outputs": [
    {
     "name": "stdout",
     "output_type": "stream",
     "text": [
      "ENTER THE STRING :helloworld\n",
      "ENTER THE STRING TO BE SEARCHED :  o\n",
      "2\n"
     ]
    }
   ],
   "source": [
    "a='helloworld'\n",
    "b='o'\n",
    "count_letter(a,b)"
   ]
  },
  {
   "cell_type": "markdown",
   "id": "00c2af6c",
   "metadata": {},
   "source": [
    "TEST CASE 2 :\n",
    "Str = “HeLlo wOrld”. Search = ‘o’. Then, calling count_letter(str, search) will return output 1"
   ]
  },
  {
   "cell_type": "code",
   "execution_count": 18,
   "id": "2374ba43",
   "metadata": {},
   "outputs": [
    {
     "name": "stdout",
     "output_type": "stream",
     "text": [
      "ENTER THE STRING :HeLlo wOrld\n",
      "ENTER THE STRING TO BE SEARCHED :  o\n",
      "1\n"
     ]
    }
   ],
   "source": [
    "a='HeLlo wOrld'\n",
    "b='o'\n",
    "count_letter(a,b)"
   ]
  },
  {
   "cell_type": "markdown",
   "id": "fabae31a",
   "metadata": {},
   "source": [
    "TEST CASE 3:\n",
    "Str = “HeLlo wOrld”. Search = ‘o’. Calling count_letter(str, search) will return output 2\n"
   ]
  },
  {
   "cell_type": "code",
   "execution_count": 19,
   "id": "105c296c",
   "metadata": {},
   "outputs": [],
   "source": [
    "def count_letter_case(string,search):\n",
    "    string=input(\"ENTER THE STRING :\")\n",
    "    search=input(\"ENTER THE STRING TO BE SEARCHED :  \")\n",
    "    count=0\n",
    "    string=string.casefold()\n",
    "    for i in range(len(string)):\n",
    "        if string[i] ==search:\n",
    "            count+=1\n",
    "        else:\n",
    "            pass\n",
    "    print(count)"
   ]
  },
  {
   "cell_type": "code",
   "execution_count": 20,
   "id": "d1b94109",
   "metadata": {},
   "outputs": [
    {
     "name": "stdout",
     "output_type": "stream",
     "text": [
      "ENTER THE STRING :HeLlo wOrld\n",
      "ENTER THE STRING TO BE SEARCHED :  o\n",
      "2\n"
     ]
    }
   ],
   "source": [
    "a='HeLlo wOrld'\n",
    "b='o'\n",
    "count_letter_case(a,b)"
   ]
  },
  {
   "cell_type": "markdown",
   "id": "46ee4a56",
   "metadata": {},
   "source": [
    "2 .  Write a program that counts the number of spaces, digits, vowels and consonants in a string that the user inputs. Print the string, no of spaces, no of digits, no of vowels and no of consonants"
   ]
  },
  {
   "cell_type": "code",
   "execution_count": 1,
   "id": "2081de89",
   "metadata": {},
   "outputs": [],
   "source": [
    "def charword(string):\n",
    "    digits=0\n",
    "    space=0\n",
    "    vowels=0\n",
    "    consonants=0   \n",
    "    for i in range (len(string)):\n",
    "        c=string[i]\n",
    "        if (c >='a' and c<='z') or (c>='A' and c<='Z'):  \n",
    "            c=c.casefold()\n",
    "            if (c=='a'or c=='e'or c=='i'or c=='o' or c=='u'):\n",
    "                vowels+=1\n",
    "            else:\n",
    "                consonants+=1\n",
    "        elif(c.isspace()):\n",
    "            space+=1\n",
    "        elif(c>='0' and c<='9'):\n",
    "            digits+=1\n",
    "            \n",
    "\n",
    "    print(\"No os space = \",space)\n",
    "    print('No of digits = ',digits)\n",
    "    print(\"No of No of vowels = \",vowels)\n",
    "    print(\"No of consonants = \",consonants)\n",
    "   \n"
   ]
  },
  {
   "cell_type": "markdown",
   "id": "8c84ed17",
   "metadata": {},
   "source": [
    "TEST CASE :\n",
    "a='Bishop Heber College 17'\n"
   ]
  },
  {
   "cell_type": "code",
   "execution_count": 6,
   "id": "366b0e60",
   "metadata": {},
   "outputs": [
    {
     "name": "stdout",
     "output_type": "stream",
     "text": [
      "space : 1 digits: 2 vow: 2 conso: 2 other  3\n"
     ]
    }
   ],
   "source": [
    "def charword(string):\n",
    "    digits, space, vowels, consonants, chars = 0,0,0,0,0\n",
    "    for i in range(len(string)):\n",
    "        c = string[i]\n",
    "        if (c >= 'a' and c <= 'z') or (c >= 'A' and c<='Z'):\n",
    "            c = c.casefold()\n",
    "            if c in 'aeiou':\n",
    "                vowels += 1\n",
    "            else:\n",
    "                consonants += 1\n",
    "        elif c.isspace():\n",
    "            space += 1\n",
    "        elif (c>='0' and c<='9'):\n",
    "            digits += 1\n",
    "        else:\n",
    "            chars +=1\n",
    "\n",
    "    print('space :',space,\"digits:\",digits,\"vow:\",vowels,\"conso:\",consonants,\"other \",chars)\n",
    "\n",
    "stri ='Suru 12!@#'\n",
    "charword(stri)"
   ]
  },
  {
   "cell_type": "code",
   "execution_count": null,
   "id": "ee4946ce",
   "metadata": {},
   "outputs": [],
   "source": []
  },
  {
   "cell_type": "code",
   "execution_count": 2,
   "id": "8cab24fa",
   "metadata": {},
   "outputs": [
    {
     "name": "stdout",
     "output_type": "stream",
     "text": [
      "No os space =  3\n",
      "No of digits =  2\n",
      "No of No of vowels =  7\n",
      "No of consonants =  11\n"
     ]
    }
   ],
   "source": [
    "a='Bishop Heber College 17'\n",
    "charword(a)"
   ]
  },
  {
   "cell_type": "code",
   "execution_count": null,
   "id": "87ebd3bf",
   "metadata": {},
   "outputs": [],
   "source": []
  },
  {
   "cell_type": "markdown",
   "id": "e5949827",
   "metadata": {},
   "source": [
    "3 . Develop a function remove_punctuation(str) that returns the string after removing\n",
    "the following punctuations.\n",
    "\n",
    "Punctuation List = \"!\\\"#$%&'()*+,-./:;<=>?@[\\]^`{|}~\""
   ]
  },
  {
   "cell_type": "code",
   "execution_count": 24,
   "id": "cea24276",
   "metadata": {},
   "outputs": [],
   "source": [
    "def remove_punctuation(str):\n",
    "    string= input(\"Enter a string: \")\n",
    "    punctuations = \"!\\\"#$%&'()*+,-./:;<=>?@[\\]^`{|}~\"\n",
    "    no_punctuation = \"\"\n",
    "    for char in string:\n",
    "        if char not in punctuations:\n",
    "            no_punctuation = no_punctuation + char\n",
    "    print(\"Punctuation Free String: \",no_punctuation)        \n",
    "    \n"
   ]
  },
  {
   "cell_type": "markdown",
   "id": "7810fe8d",
   "metadata": {},
   "source": [
    "TEST CASE 1:\n",
    "'''Bishop's College !.....'''"
   ]
  },
  {
   "cell_type": "code",
   "execution_count": 25,
   "id": "d017e240",
   "metadata": {},
   "outputs": [
    {
     "name": "stdout",
     "output_type": "stream",
     "text": [
      "Enter a string: '''Bishop's College !.....'''\n",
      "Punctuation Free String:  Bishops College \n"
     ]
    }
   ],
   "source": [
    "a='''Bishop's College !.....'''\n",
    "remove_punctuation(a)"
   ]
  },
  {
   "cell_type": "markdown",
   "id": "ceb0e3f0",
   "metadata": {},
   "source": [
    "TEST CASE 2:\n",
    "\"#bhc trending @cs $placements::>.\""
   ]
  },
  {
   "cell_type": "code",
   "execution_count": 26,
   "id": "3834de87",
   "metadata": {},
   "outputs": [
    {
     "name": "stdout",
     "output_type": "stream",
     "text": [
      "Enter a string: '''#bhc trending @cs $placements::>.'''\n",
      "Punctuation Free String:  bhc trending cs placements\n"
     ]
    }
   ],
   "source": [
    "a='''#bhc trending @cs $placements::>.'''\n",
    "remove_punctuation(a)"
   ]
  },
  {
   "cell_type": "markdown",
   "id": "cd7529e9",
   "metadata": {},
   "source": [
    "Write a program that asks the user for a word. Translate their word into Pig Latin. Pig Latin game takes the first consonant (or set of first consonants) of an English word, moves it to the end of the word and suffixes an ay. If the first letter is a vowel, do not move that vowel, but instead add “way” at the end of the word."
   ]
  },
  {
   "cell_type": "code",
   "execution_count": 27,
   "id": "036ae601",
   "metadata": {},
   "outputs": [],
   "source": [
    "def piglatin(word):\n",
    "    sentence = input('Enter a Sentence: ').lower()\n",
    "    words = sentence.split()\n",
    "    for i, word in enumerate(words):\n",
    "        if word[0] in 'aeiou':\n",
    "            words[i] = words[i]+\"-\"+ \"way\"\n",
    "        else:\n",
    "            has_vowel = False\n",
    "            \n",
    "            for j, letter in enumerate(word):\n",
    "                if letter in 'aeiou':\n",
    "                    words[i] = word[j:] + \"-\"+word[:j] + \"ay\"\n",
    "                    has_vowel = True\n",
    "                    break\n",
    "                    if(has_vowel == False):\n",
    "                        words[i] = words[i]+\"-\"+\"ay\"\n",
    "    pig_latin = ' '.join(words)\n",
    "    print(\"Pig Latin: \",pig_latin)"
   ]
  },
  {
   "cell_type": "code",
   "execution_count": 7,
   "id": "45b37e4f",
   "metadata": {},
   "outputs": [
    {
     "name": "stdout",
     "output_type": "stream",
     "text": [
      "Enter a Sentence: pig\n",
      "Pig Latin:  ig-pay\n"
     ]
    }
   ],
   "source": [
    "a='pig'\n",
    "piglatin(a)"
   ]
  },
  {
   "cell_type": "code",
   "execution_count": 8,
   "id": "aecbedc7",
   "metadata": {},
   "outputs": [
    {
     "name": "stdout",
     "output_type": "stream",
     "text": [
      "Enter a Sentence: banana\n",
      "Pig Latin:  anana-bay\n"
     ]
    }
   ],
   "source": [
    "b='banana'\n",
    "piglatin(b)"
   ]
  },
  {
   "cell_type": "code",
   "execution_count": 9,
   "id": "a2868f34",
   "metadata": {},
   "outputs": [
    {
     "name": "stdout",
     "output_type": "stream",
     "text": [
      "Enter a Sentence: trash\n",
      "Pig Latin:  ash-tray\n"
     ]
    }
   ],
   "source": [
    "c='trash'\n",
    "piglatin(c)"
   ]
  },
  {
   "cell_type": "code",
   "execution_count": 13,
   "id": "a0cc58f5",
   "metadata": {},
   "outputs": [
    {
     "name": "stdout",
     "output_type": "stream",
     "text": [
      "Enter a Sentence: apple\n",
      "Pig Latin:  apple-way\n"
     ]
    }
   ],
   "source": [
    "d='apple'\n",
    "piglatin(d)"
   ]
  },
  {
   "cell_type": "code",
   "execution_count": 14,
   "id": "82231ce8",
   "metadata": {},
   "outputs": [
    {
     "name": "stdout",
     "output_type": "stream",
     "text": [
      "Enter a Sentence: orange\n",
      "Pig Latin:  orange-way\n"
     ]
    }
   ],
   "source": [
    "e='orange'\n",
    "piglatin(e)"
   ]
  },
  {
   "cell_type": "code",
   "execution_count": 8,
   "id": "654d8b57",
   "metadata": {},
   "outputs": [
    {
     "name": "stdout",
     "output_type": "stream",
     "text": [
      "\n",
      " total5\n",
      "enter numbers1\n",
      "enter numbers2\n",
      "enter numbers3\n",
      "enter numbers4\n",
      "enter numbers99\n",
      "slice3\n",
      "Largest nos are: [99, 4, 3]\n"
     ]
    }
   ],
   "source": [
    "lst =list()\n",
    "n = int(input(\"\\n total\"))\n",
    "for i in range(n):\n",
    "    a = int(input(\"enter numbers\"))\n",
    "    lst.append(a)\n",
    "x = int(input(\"slice\"))\n",
    "lst.sort(reverse=True)\n",
    "print('Largest nos are:',lst[:x])"
   ]
  }
 ],
 "metadata": {
  "kernelspec": {
   "display_name": "Python 3 (ipykernel)",
   "language": "python",
   "name": "python3"
  },
  "language_info": {
   "codemirror_mode": {
    "name": "ipython",
    "version": 3
   },
   "file_extension": ".py",
   "mimetype": "text/x-python",
   "name": "python",
   "nbconvert_exporter": "python",
   "pygments_lexer": "ipython3",
   "version": "3.9.12"
  }
 },
 "nbformat": 4,
 "nbformat_minor": 5
}
