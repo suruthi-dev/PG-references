{
 "cells": [
  {
   "cell_type": "markdown",
   "id": "0a65d1bd",
   "metadata": {},
   "source": [
    "SURUTHI S\n",
    "\n",
    "DS22522141\n",
    "\n",
    "ds225229141@bhc.edu.in\n",
    "\n",
    "FILE HANDLING NOTEBOOK"
   ]
  },
  {
   "cell_type": "code",
   "execution_count": 1,
   "id": "d3c60475",
   "metadata": {},
   "outputs": [],
   "source": [
    "f=open(\"demo.txt\",'w')\n",
    "f.write('''Python is a high-level, interpreted, general-purpose programming language''')\n",
    "f.write('''\\nIts design philosophy emphasizes code readability with the use of significant indentation.''')\n",
    "f.write('''\\nPython is dynamically-typed and garbage-collected. It supports multiple programming paradigms,''')\n",
    "f.close()"
   ]
  },
  {
   "cell_type": "code",
   "execution_count": 3,
   "id": "23b997f9",
   "metadata": {},
   "outputs": [],
   "source": [
    "def countlines(file):\n",
    "    count=0\n",
    "    with open(file,'r')as demotext:\n",
    "        for lines in demotext:\n",
    "            count+=1\n",
    "            print(lines,end='')\n",
    "        print(\"\\n Number of lines : \",count)"
   ]
  },
  {
   "cell_type": "code",
   "execution_count": 4,
   "id": "19033078",
   "metadata": {},
   "outputs": [
    {
     "name": "stdout",
     "output_type": "stream",
     "text": [
      "Python is a high-level, interpreted, general-purpose programming language\n",
      "Its design philosophy emphasizes code readability with the use of significant indentation.\n",
      "Python is dynamically-typed and garbage-collected. It supports multiple programming paradigms,\n",
      " Number of lines :  3\n"
     ]
    }
   ],
   "source": [
    "countlines(\"demo.txt\")"
   ]
  },
  {
   "cell_type": "code",
   "execution_count": 8,
   "id": "0c744761",
   "metadata": {},
   "outputs": [],
   "source": [
    "def show(file):\n",
    "    with open (file,\"r\") as input_file:\n",
    "        all_lines=input_file.readlines()\n",
    "        \n",
    "        #to sort all lines \n",
    "        all_lines=[line.upper() for line in all_lines]\n",
    "            #write them back to file\n",
    "            \n",
    "        with open(\"sortedtest.txt\",\"w\")as output_file:\n",
    "            for line in all_lines:\n",
    "                output_file.write(line)\n",
    "                "
   ]
  },
  {
   "cell_type": "code",
   "execution_count": 9,
   "id": "25267c70",
   "metadata": {},
   "outputs": [],
   "source": [
    "show(\"demo.txt\")"
   ]
  }
 ],
 "metadata": {
  "kernelspec": {
   "display_name": "Python 3 (ipykernel)",
   "language": "python",
   "name": "python3"
  },
  "language_info": {
   "codemirror_mode": {
    "name": "ipython",
    "version": 3
   },
   "file_extension": ".py",
   "mimetype": "text/x-python",
   "name": "python",
   "nbconvert_exporter": "python",
   "pygments_lexer": "ipython3",
   "version": "3.9.12"
  }
 },
 "nbformat": 4,
 "nbformat_minor": 5
}
