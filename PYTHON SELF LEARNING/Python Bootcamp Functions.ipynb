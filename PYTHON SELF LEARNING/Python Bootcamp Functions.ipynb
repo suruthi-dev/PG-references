{
 "cells": [
  {
   "cell_type": "markdown",
   "id": "ec19b7fc",
   "metadata": {},
   "source": [
    "SURUTHI S\n",
    "\n",
    "\n",
    "DS22522141\n",
    "\n",
    "ds225229141@bhc.edu.in\n",
    " \n",
    "FUNCTION NOTEBOOK "
   ]
  },
  {
   "cell_type": "markdown",
   "id": "3bc9d586",
   "metadata": {},
   "source": [
    "1.Write a program to create a function that takes two arguments, name and \n",
    "age, and print their value"
   ]
  },
  {
   "cell_type": "code",
   "execution_count": 1,
   "id": "a758bd3c",
   "metadata": {},
   "outputs": [],
   "source": [
    "#pgrm1\n",
    "def fun(name,age):\n",
    "    return(name, age)"
   ]
  },
  {
   "cell_type": "code",
   "execution_count": 2,
   "id": "0cfc2430",
   "metadata": {},
   "outputs": [
    {
     "data": {
      "text/plain": [
       "('suru', 20)"
      ]
     },
     "execution_count": 2,
     "metadata": {},
     "output_type": "execute_result"
    }
   ],
   "source": [
    "fun(\"suru\",20)\n"
   ]
  },
  {
   "cell_type": "raw",
   "id": "f511293a",
   "metadata": {},
   "source": [
    "2.Write a program to create function func1() to accept a variable length of \n",
    "arguments and print their value. "
   ]
  },
  {
   "cell_type": "code",
   "execution_count": 59,
   "id": "d651dcd0",
   "metadata": {},
   "outputs": [],
   "source": [
    "pgrm 2\n",
    "def vol(*a):\n",
    "    return(a)"
   ]
  },
  {
   "cell_type": "code",
   "execution_count": 61,
   "id": "0a3ba294",
   "metadata": {},
   "outputs": [
    {
     "data": {
      "text/plain": [
       "(4, 5, 6, 6)"
      ]
     },
     "execution_count": 61,
     "metadata": {},
     "output_type": "execute_result"
    }
   ],
   "source": [
    "vol(4,5,6,6)"
   ]
  },
  {
   "cell_type": "markdown",
   "id": "3022e93a",
   "metadata": {},
   "source": [
    "3.Write a program to create function calculation() such that it can accept \n",
    "two variables and calculate addition and subtraction. Also, it must return \n",
    "both addition and subtraction in a single return call."
   ]
  },
  {
   "cell_type": "code",
   "execution_count": 5,
   "id": "36c62ba4",
   "metadata": {},
   "outputs": [],
   "source": [
    "#pgrm3\n",
    "def basic(a,b):\n",
    "    return(a+b,a-b)"
   ]
  },
  {
   "cell_type": "code",
   "execution_count": 6,
   "id": "73608515",
   "metadata": {},
   "outputs": [
    {
     "data": {
      "text/plain": [
       "(15, 5)"
      ]
     },
     "execution_count": 6,
     "metadata": {},
     "output_type": "execute_result"
    }
   ],
   "source": [
    "basic(10,5)"
   ]
  },
  {
   "cell_type": "markdown",
   "id": "aa11124f",
   "metadata": {},
   "source": [
    "4.Write a program to create a function show_employee() using the \n",
    "following conditions. \n",
    "a.It should accept the employee’s name and salary and display both. \n",
    "b.If the salary is missing in the function call then assign default value \n",
    "9000 to salary"
   ]
  },
  {
   "cell_type": "code",
   "execution_count": 8,
   "id": "3320285c",
   "metadata": {},
   "outputs": [],
   "source": [
    "#pgrm 4\n",
    "def show_employee(name,salary=9000):\n",
    "    return(name,salary)"
   ]
  },
  {
   "cell_type": "code",
   "execution_count": 9,
   "id": "d7882b85",
   "metadata": {},
   "outputs": [
    {
     "data": {
      "text/plain": [
       "('suru', 600000)"
      ]
     },
     "execution_count": 9,
     "metadata": {},
     "output_type": "execute_result"
    }
   ],
   "source": [
    "show_employee(\"suru\",600000)"
   ]
  },
  {
   "cell_type": "code",
   "execution_count": 11,
   "id": "b08cae7f",
   "metadata": {},
   "outputs": [
    {
     "data": {
      "text/plain": [
       "('zzzz', 9000)"
      ]
     },
     "execution_count": 11,
     "metadata": {},
     "output_type": "execute_result"
    }
   ],
   "source": [
    "show_employee('zzzz')#default argument"
   ]
  },
  {
   "cell_type": "markdown",
   "id": "3af1cd01",
   "metadata": {},
   "source": [
    "5.Write a Python function to sum all the numbers in a lis"
   ]
  },
  {
   "cell_type": "code",
   "execution_count": 16,
   "id": "10751954",
   "metadata": {},
   "outputs": [
    {
     "name": "stdout",
     "output_type": "stream",
     "text": [
      "ENTER THE RANGE OF THE LIST3\n",
      "ENTER THE VALUE 1  4\n",
      "ENTER THE VALUE 2  6\n",
      "ENTER THE VALUE 3  10\n",
      "sum of the values in the list :  20\n"
     ]
    }
   ],
   "source": [
    "#pgrm 5\n",
    "a=int(input(\"ENTER THE RANGE OF THE LIST\"))\n",
    "l=[]\n",
    "for i in range (a):\n",
    "    b=int(input(f\"ENTER THE VALUE {i+1}  \"))\n",
    "    l.append(b)\n",
    "s=0    \n",
    "for j in range(len(l)):\n",
    "    s=s+l[j]\n",
    "print(\"sum of the values in the list : \",s)"
   ]
  },
  {
   "cell_type": "markdown",
   "id": "72894d42",
   "metadata": {},
   "source": [
    "6.Write a python function given string is palindrome or not "
   ]
  },
  {
   "cell_type": "code",
   "execution_count": 38,
   "id": "080a1f63",
   "metadata": {},
   "outputs": [
    {
     "name": "stdout",
     "output_type": "stream",
     "text": [
      "Enter the string: amma\n"
     ]
    }
   ],
   "source": [
    "#pgrm 6\n",
    "def isPalindrome(s):\n",
    "    return s == s[::-1]\n"
   ]
  },
  {
   "cell_type": "code",
   "execution_count": 39,
   "id": "55e32eff",
   "metadata": {},
   "outputs": [
    {
     "data": {
      "text/plain": [
       "False"
      ]
     },
     "execution_count": 39,
     "metadata": {},
     "output_type": "execute_result"
    }
   ],
   "source": [
    "isPalindrome(\"suru\")"
   ]
  },
  {
   "cell_type": "code",
   "execution_count": 40,
   "id": "761073d2",
   "metadata": {},
   "outputs": [
    {
     "data": {
      "text/plain": [
       "True"
      ]
     },
     "execution_count": 40,
     "metadata": {},
     "output_type": "execute_result"
    }
   ],
   "source": [
    "isPalindrome(\"amma\")"
   ]
  },
  {
   "cell_type": "markdown",
   "id": "5550de71",
   "metadata": {},
   "source": [
    "7.Write a python function to print only odd numbers("
   ]
  },
  {
   "cell_type": "code",
   "execution_count": 28,
   "id": "c7eeef43",
   "metadata": {},
   "outputs": [
    {
     "name": "stdout",
     "output_type": "stream",
     "text": [
      "ENTER THE RANGE OF THE LIST3\n",
      "ENTER THE VALUE 1  1\n",
      "ENTER THE VALUE 2  5\n",
      "ENTER THE VALUE 3  9\n",
      "1\n",
      "5\n",
      "9\n"
     ]
    }
   ],
   "source": [
    "#pgrm 7\n",
    "a=int(input(\"ENTER THE RANGE OF THE LIST\"))\n",
    "l=[]\n",
    "for i in range (a):\n",
    "    b=int(input(f\"ENTER THE VALUE {i+1}  \"))\n",
    "    l.append(b)\n",
    "for j in range(len(l)):\n",
    "    if l[j]%2==1:\n",
    "        print(l[j])\n",
    "    else:\n",
    "        pass"
   ]
  },
  {
   "cell_type": "markdown",
   "id": "7a23e991",
   "metadata": {},
   "source": [
    "8.Develop a function front_back that takes in a string and return a new \n",
    "string where the first and last characters have been changed "
   ]
  },
  {
   "cell_type": "code",
   "execution_count": 36,
   "id": "bca201c5",
   "metadata": {},
   "outputs": [
    {
     "name": "stdout",
     "output_type": "stream",
     "text": [
      "eodc\n"
     ]
    }
   ],
   "source": [
    "#pgrm 8 \n",
    "a='code'\n",
    "b=list(a)\n",
    "b[0],b[-1]=b[-1],b[0]\n",
    "print(\"\".join(b))"
   ]
  },
  {
   "cell_type": "markdown",
   "id": "f0726db2",
   "metadata": {},
   "source": [
    "9.Develop a function count(string, search) that returns the number of times \n",
    "search character appears in string."
   ]
  },
  {
   "cell_type": "code",
   "execution_count": 41,
   "id": "0fc527ce",
   "metadata": {},
   "outputs": [],
   "source": [
    "#pgrm 9\n",
    "def count(string, search):\n",
    "    a=string.count(search)\n",
    "    return(a)"
   ]
  },
  {
   "cell_type": "code",
   "execution_count": 42,
   "id": "3eb3917f",
   "metadata": {},
   "outputs": [
    {
     "data": {
      "text/plain": [
       "2"
      ]
     },
     "execution_count": 42,
     "metadata": {},
     "output_type": "execute_result"
    }
   ],
   "source": [
    "count(\"suru\",\"u\")"
   ]
  },
  {
   "cell_type": "markdown",
   "id": "996b1927",
   "metadata": {},
   "source": [
    "Develop a function find(string, char) that returns the position of char if \n",
    "exists, otherwise print -1"
   ]
  },
  {
   "cell_type": "code",
   "execution_count": 44,
   "id": "368af3b0",
   "metadata": {},
   "outputs": [],
   "source": [
    "#pgrm 10\n",
    "def  find(string, char):\n",
    "    if(char in string):\n",
    "        return(string.find(char))\n",
    "    else:\n",
    "        print(\"-1\")"
   ]
  },
  {
   "cell_type": "code",
   "execution_count": 45,
   "id": "f9ddd873",
   "metadata": {},
   "outputs": [
    {
     "name": "stdout",
     "output_type": "stream",
     "text": [
      "-1\n"
     ]
    }
   ],
   "source": [
    "find(\"suru\",\"z\")"
   ]
  },
  {
   "cell_type": "code",
   "execution_count": 48,
   "id": "2a7facd7",
   "metadata": {},
   "outputs": [
    {
     "data": {
      "text/plain": [
       "0"
      ]
     },
     "execution_count": 48,
     "metadata": {},
     "output_type": "execute_result"
    }
   ],
   "source": [
    "find(\"suru\",\"s\")"
   ]
  },
  {
   "cell_type": "markdown",
   "id": "7be60430",
   "metadata": {},
   "source": [
    "11.Write the function program in below requirements \n",
    "a. Remove the first letter of the word, \n",
    "b. Place the first letter of the word at the end of the word, \n",
    "c. Add the string ”ay” to the end of the word "
   ]
  },
  {
   "cell_type": "code",
   "execution_count": 49,
   "id": "7a5d7423",
   "metadata": {},
   "outputs": [],
   "source": [
    "#pgrm 11\n",
    "def piglatin(word):\n",
    "    sentence = input('Enter a Sentence: ').lower()\n",
    "    words = sentence.split()\n",
    "    for i, word in enumerate(words):\n",
    "        if word[0] in 'aeiou':\n",
    "            words[i] = words[i]+\"-\"+ \"way\"\n",
    "        else:\n",
    "            has_vowel = False\n",
    "            \n",
    "            for j, letter in enumerate(word):\n",
    "                 if letter in 'aeiou':\n",
    "                    words[i] = word[j:] + \"-\"+word[:j] + \"ay\"\n",
    "                    has_vowel = True\n",
    "                    break\n",
    "                    if(has_vowel == False):\n",
    "                        words[i] = words[i]+\"-\"+\"ay\"\n",
    "    pig_latin = ' '.join(words)\n",
    "    print(\"Pig Latin: \",pig_latin)"
   ]
  },
  {
   "cell_type": "code",
   "execution_count": 50,
   "id": "cb3bb2cf",
   "metadata": {},
   "outputs": [
    {
     "name": "stdout",
     "output_type": "stream",
     "text": [
      "Enter a Sentence: hello\n",
      "Pig Latin:  ello-hay\n"
     ]
    }
   ],
   "source": [
    "piglatin(\"hello\")"
   ]
  },
  {
   "cell_type": "markdown",
   "id": "8347527d",
   "metadata": {},
   "source": [
    "12.Write a program that counts the # of spaces, digits, vowels and \n",
    "consonants in a string that the user inputs."
   ]
  },
  {
   "cell_type": "code",
   "execution_count": 51,
   "id": "85c1d850",
   "metadata": {},
   "outputs": [],
   "source": [
    "#pgrm 12\n",
    "def charword(string):\n",
    "    digits=0\n",
    "    space=0\n",
    "    vowels=0\n",
    "    consonants=0   \n",
    "    for i in range (len(string)):\n",
    "        c=string[i]\n",
    "        if (c >='a' and c<='z') or (c>='A' and c<='Z'):  \n",
    "            c=c.casefold()\n",
    "            if (c=='a'or c=='e'or c=='i'or c=='o' or c=='u'):\n",
    "                vowels+=1\n",
    "            else:\n",
    "                consonants+=1\n",
    "        elif(c.isspace()):\n",
    "            space+=1\n",
    "        elif(c>='0' and c<='9'):\n",
    "            digits+=1\n",
    "            \n",
    "\n",
    "    print(\"No os space = \",space)\n",
    "    print('No of digits = ',digits)\n",
    "    print(\"No of No of vowels = \",vowels)\n",
    "    print(\"No of consonants = \",consonants)\n",
    "   \n"
   ]
  },
  {
   "cell_type": "code",
   "execution_count": 52,
   "id": "6138049c",
   "metadata": {},
   "outputs": [
    {
     "name": "stdout",
     "output_type": "stream",
     "text": [
      "No os space =  3\n",
      "No of digits =  2\n",
      "No of No of vowels =  7\n",
      "No of consonants =  11\n"
     ]
    }
   ],
   "source": [
    "charword(\"Bishop Heber College 19\")"
   ]
  },
  {
   "cell_type": "markdown",
   "id": "6778fbda",
   "metadata": {},
   "source": [
    "13.Write a function replace(s, old, new) that replaces all occurrences of old \n",
    "with new in a string s: "
   ]
  },
  {
   "cell_type": "code",
   "execution_count": 57,
   "id": "2cf85188",
   "metadata": {},
   "outputs": [],
   "source": [
    "#pgrm 13\n",
    "def repl(stri,old,new):\n",
    "    return(stri.replace(old,new))"
   ]
  },
  {
   "cell_type": "code",
   "execution_count": 58,
   "id": "3bbb9221",
   "metadata": {},
   "outputs": [
    {
     "data": {
      "text/plain": [
       "'zuru'"
      ]
     },
     "execution_count": 58,
     "metadata": {},
     "output_type": "execute_result"
    }
   ],
   "source": [
    "repl(\"suru\",\"s\",\"z\")"
   ]
  },
  {
   "cell_type": "markdown",
   "id": "8eb9989b",
   "metadata": {},
   "source": [
    "#pgrm 14\n",
    "\n",
    "1.To find minimum value in given data : min(data)\n",
    "2.Li=[1,3,3,2,3] here 3 is three time occur in this list so which built \n",
    "in function suitable.\n",
    "ans : count\n",
    "\n",
    "3.Explain any two math function with suitable example\n",
    "ans:\n",
    "max(data) - returns maximum value \n",
    "len(data) - returns the length "
   ]
  },
  {
   "cell_type": "markdown",
   "id": "756049fc",
   "metadata": {},
   "source": [
    "#pgrm 15:\n",
    "What is mean by function? And explain positional argument with suitable \n",
    "example\n",
    "\n",
    "Function performs a specific task when its called \n",
    "When calling a function, we need to pass arguments to parameters. \n",
    "eg:\n",
    "def basic(a,b):\n",
    "    return(a+b,a-b)\n",
    " basic(a,b)"
   ]
  }
 ],
 "metadata": {
  "kernelspec": {
   "display_name": "Python 3 (ipykernel)",
   "language": "python",
   "name": "python3"
  },
  "language_info": {
   "codemirror_mode": {
    "name": "ipython",
    "version": 3
   },
   "file_extension": ".py",
   "mimetype": "text/x-python",
   "name": "python",
   "nbconvert_exporter": "python",
   "pygments_lexer": "ipython3",
   "version": "3.9.12"
  }
 },
 "nbformat": 4,
 "nbformat_minor": 5
}
