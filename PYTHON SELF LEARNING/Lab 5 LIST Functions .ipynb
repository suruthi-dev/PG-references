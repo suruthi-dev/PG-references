{
 "cells": [
  {
   "cell_type": "code",
   "execution_count": 1,
   "id": "146ea35f",
   "metadata": {},
   "outputs": [],
   "source": [
    "def find_average(student):\n",
    "    \n",
    "    rollno,name,marks=student\n",
    "    m1,m2,m3=marks\n",
    "       \n",
    "    avg=(m1+m2+m3)/3\n",
    "    print(\"\\n roll no\", rollno,\"\\n name\",name,\"\\n avg\",round(avg))\n",
    "    "
   ]
  },
  {
   "cell_type": "code",
   "execution_count": 3,
   "id": "1a5cb274",
   "metadata": {},
   "outputs": [
    {
     "name": "stdout",
     "output_type": "stream",
     "text": [
      "\n",
      " roll no 1 \n",
      " name rex \n",
      " avg 72\n"
     ]
    }
   ],
   "source": [
    "stud1=(1,\"rex\",(60,85,70))\n",
    "find_average(stud1)"
   ]
  },
  {
   "cell_type": "code",
   "execution_count": 4,
   "id": "6b2aeb3b",
   "metadata": {},
   "outputs": [
    {
     "name": "stdout",
     "output_type": "stream",
     "text": [
      "\n",
      " roll no 2 \n",
      " name rex \n",
      " avg 82\n"
     ]
    }
   ],
   "source": [
    "\n",
    "stud2 = (2, 'rex', (80, 75, 90))\n",
    "find_average(stud2)\n"
   ]
  },
  {
   "cell_type": "code",
   "execution_count": 5,
   "id": "e3695919",
   "metadata": {},
   "outputs": [],
   "source": [
    "\n",
    "\n",
    "def weightmanagement(value):\n",
    "    days=[]\n",
    "    for i in range(1,8):\n",
    "        day=float(input(f\"\\n ENTER THE WEIGHT OF DAY{[i]}\"))\n",
    "        days.append(day)\n",
    "        \n",
    "    print(\"\\nDAY 1 WEIGHT =\",days[0])\n",
    "    print(\"\\nDAY 7 WEIGHT =\",days[6])\n",
    "    print(\"\\nDAY 4 WEIGHT =\",days[3])\n",
    "    print(\"\\nHIGHEST WEIGHT =\",max(days))\n",
    "    print(\"\\nLOWEST WEIGHT =\",min(days))\n",
    "    print(\"\\nAVERAGE WEIGHT =\",(round(sum(days)/len(days))))\n",
    "    avgwgt=round(sum(days)/len(days))\n",
    "    lowwgt=min(days)\n",
    "    if(avgwgt<lowwgt):\n",
    "        print(\"Your weight management is excellent\")\n",
    "    else:\n",
    "        print(\"Your weight management is not good. Please take care of your diet\")\n"
   ]
  },
  {
   "cell_type": "code",
   "execution_count": 6,
   "id": "d90f509d",
   "metadata": {},
   "outputs": [],
   "source": [
    "def lastN(lst,n):\n",
    "    lst=[]\n",
    "    n=int(input(\"HOW MANY NUMBERS  YOU WANT TO ENTER :\"))\n",
    "    for i in range(n):\n",
    "        a=int(input(\"\\n ENTER A NUMBER :\"))\n",
    "        lst.append(a)\n",
    "    disp=int(input(\"HOW MANY LARGEST NUMBERS YOU WANT TO FIND\"))\n",
    "    lst.sort()\n",
    "    lst.reverse()\n",
    "    print(\"LARGEST NUMBERS ARE : \",lst[:disp])"
   ]
  },
  {
   "cell_type": "code",
   "execution_count": 1,
   "id": "41bfed00",
   "metadata": {},
   "outputs": [],
   "source": [
    "def Sort_list(lst):\n",
    "    l=lst\n",
    "    x=[]\n",
    "    nox=[]\n",
    "    for i in l:\n",
    "        if i[0].lower() == \"x\" :\n",
    "             x.append(i)\n",
    "        else:\n",
    "            nox. append(i)\n",
    "    x.sort(),nox.sort()\n",
    "    return x + nox\n",
    "\n",
    "        "
   ]
  },
  {
   "cell_type": "code",
   "execution_count": 2,
   "id": "59dd0839",
   "metadata": {},
   "outputs": [
    {
     "name": "stdout",
     "output_type": "stream",
     "text": [
      "['xanadu', 'xyz', 'aardvark', 'apple', 'mix']\n",
      "['xaa', 'xcc', 'aaa', 'bbb', 'ccc']\n",
      "['xaa', 'xzz', 'axx', 'bbb', 'ccc']\n"
     ]
    }
   ],
   "source": [
    "l1 =['mix', 'xyz', 'apple', 'xanadu', 'aardvark']\n",
    "print(Sort_list(l1))\n",
    "l2 =['ccc','bbb','aaa','xcc','xaa']\n",
    "print(Sort_list(l2))\n",
    "l3 =['bbb','ccc','axx','xzz','xaa']\n",
    "print(Sort_list(l3))"
   ]
  },
  {
   "cell_type": "code",
   "execution_count": 9,
   "id": "273d986e",
   "metadata": {},
   "outputs": [
    {
     "name": "stdout",
     "output_type": "stream",
     "text": [
      "The first element of the Tuple : \n",
      "100\n"
     ]
    }
   ],
   "source": [
    "def first(s):\n",
    "    print(s[0])\n",
    "\n",
    "t=(100,2,3,4,5,6,7,8,9,0)\n",
    "print(\"The first element of the Tuple : \")\n",
    "first(t)"
   ]
  },
  {
   "cell_type": "code",
   "execution_count": 10,
   "id": "ac8d4ac7",
   "metadata": {},
   "outputs": [
    {
     "name": "stdout",
     "output_type": "stream",
     "text": [
      "Sorted List :\n",
      "[(1, 2, 3), (4, 1, 5), (9, 4, 3), (18, 23, 5)]\n"
     ]
    },
    {
     "data": {
      "text/plain": [
       "[(1, 2, 3), (4, 1, 5), (9, 4, 3), (10, 23, 5)]"
      ]
     },
     "execution_count": 10,
     "metadata": {},
     "output_type": "execute_result"
    }
   ],
   "source": [
    "def sort_first(s):\n",
    "    return sorted(s)\n",
    "\n",
    "t=[(4,1,5),(9,4,3),(1,2,3),(18,23,5)]\n",
    "print(\"Sorted List :\")\n",
    "print(sort_first(t))\n",
    "\n",
    "[(1, 2, 3), (4, 1, 5), (9, 4, 3), (10, 23, 5)]"
   ]
  },
  {
   "cell_type": "code",
   "execution_count": 11,
   "id": "16b1a249",
   "metadata": {},
   "outputs": [
    {
     "name": "stdout",
     "output_type": "stream",
     "text": [
      "Sorted List : [(1, 2), (4, 1, 5), (9, 3), (18, 23, 5)]\n"
     ]
    }
   ],
   "source": [
    "def sort_first(s):\n",
    "    print(\"Sorted List :\",sorted(s))\n",
    "\n",
    "t=[(4,1,5),(9,3), (1,2), (18,23,5)]\n",
    "sort_first(t)\n",
    "\n"
   ]
  },
  {
   "cell_type": "code",
   "execution_count": 12,
   "id": "4d9df12f",
   "metadata": {},
   "outputs": [
    {
     "name": "stdout",
     "output_type": "stream",
     "text": [
      "Middle element of Tuple :\n",
      "34\n"
     ]
    }
   ],
   "source": [
    "def middle(s):\n",
    "    a=len(s)/2\n",
    "    print(s[int(a)])\n",
    "\n",
    "t=(108, 21, 34,4, 500)\n",
    "print(\"Middle element of Tuple :\")\n",
    "middle(t)"
   ]
  },
  {
   "cell_type": "code",
   "execution_count": 13,
   "id": "7b7c047f",
   "metadata": {},
   "outputs": [],
   "source": [
    "def Sort_last(t):\n",
    "    l=len(t)\n",
    "    for i in range(0,l):\n",
    "        for j in range(0,l-i-1):\n",
    "            if (t[j][1] > t[j + 1][1]):\n",
    "                temp = t[j]\n",
    "                t[j]= t[j + 1]\n",
    "                t[j + 1]=temp\n",
    "    return t"
   ]
  },
  {
   "cell_type": "code",
   "execution_count": 14,
   "id": "0d6785e3",
   "metadata": {},
   "outputs": [
    {
     "name": "stdout",
     "output_type": "stream",
     "text": [
      "[(1, 2, 3), (2, 1, 4), (10, 7, 15), (20, 4, 50), (30, 6, 28)]\n",
      "[(2, 1, 4), (1, 2, 3), (20, 4, 50), (30, 6, 28), (10, 7, 15)]\n"
     ]
    }
   ],
   "source": [
    "tp=[(1,2,3),(2,1,4), (10,7,15), (20,4,50), (30,6, 28) ]\n",
    "print(tp)\n",
    "print(Sort_last(tp))"
   ]
  },
  {
   "cell_type": "code",
   "execution_count": 15,
   "id": "28c62167",
   "metadata": {},
   "outputs": [
    {
     "name": "stdout",
     "output_type": "stream",
     "text": [
      "[1, 2, 2, 3]\n",
      "[1, 2, 3]\n",
      "[2, 2, 3, 3, 3]\n",
      "[2, 3]\n",
      "[]\n",
      "[]\n",
      "[2, 5, 5, 6, 6, 7]\n",
      "[2, 5, 6, 7]\n",
      "[6, 7, 7, 8, 9, 9]\n",
      "[6, 7, 8, 9]\n"
     ]
    }
   ],
   "source": [
    "def remove_adjacent(l):\n",
    "    li=list(dict.fromkeys(l))\n",
    "    print(li)\n",
    "\n",
    "l1=[1,2,2,3]\n",
    "l2=[2,2,3,3,3]\n",
    "l3=[]\n",
    "l4=[2,5,5,6,6,7]\n",
    "l5=[6,7,7,8,9,9]\n",
    "print(l1)\n",
    "remove_adjacent(l1)\n",
    "print(l2)\n",
    "remove_adjacent(l2)\n",
    "print(l3)\n",
    "remove_adjacent(l3)\n",
    "print(l4)\n",
    "remove_adjacent(l4)\n",
    "print(l5)\n",
    "remove_adjacent(l5)\n"
   ]
  },
  {
   "cell_type": "code",
   "execution_count": 16,
   "id": "6c2052ea",
   "metadata": {},
   "outputs": [
    {
     "name": "stdout",
     "output_type": "stream",
     "text": [
      "hail\n",
      "hailing\n",
      "swimming\n",
      "swimminging\n",
      "do\n",
      "doing\n"
     ]
    }
   ],
   "source": [
    "def verbing(w):\n",
    "    l=len(w)\n",
    "    if 1<=2:\n",
    "        print (w)\n",
    "    if 1 >= 3:\n",
    "        if w[-3:]=='ing':\n",
    "            w+='ly'\n",
    "    else:\n",
    "        w+='ing'\n",
    "    print(w)\n",
    "\n",
    "verbing('hail')\n",
    "verbing('swimming' )\n",
    "verbing('do')"
   ]
  },
  {
   "cell_type": "code",
   "execution_count": 17,
   "id": "c2d8be1b",
   "metadata": {},
   "outputs": [
    {
     "name": "stdout",
     "output_type": "stream",
     "text": [
      "This dinner is not that bad\n",
      "This dinner is good\n"
     ]
    }
   ],
   "source": [
    "def not_bad(str1):\n",
    "    nt=str1.find('not')\n",
    "    bd = str1.find('bad')\n",
    "    if bd>nt and nt>0 and bd>0:\n",
    "        str1 = str1.replace(str1[nt:(bd+4)], 'good')\n",
    "        return str1\n",
    "    else:\n",
    "        return str1\n",
    "\n",
    "str2='This dinner is not that bad'\n",
    "print(str2)\n",
    "print(not_bad(str2))"
   ]
  },
  {
   "cell_type": "code",
   "execution_count": null,
   "id": "de4e8438",
   "metadata": {},
   "outputs": [],
   "source": []
  }
 ],
 "metadata": {
  "kernelspec": {
   "display_name": "Python 3 (ipykernel)",
   "language": "python",
   "name": "python3"
  },
  "language_info": {
   "codemirror_mode": {
    "name": "ipython",
    "version": 3
   },
   "file_extension": ".py",
   "mimetype": "text/x-python",
   "name": "python",
   "nbconvert_exporter": "python",
   "pygments_lexer": "ipython3",
   "version": "3.9.12"
  }
 },
 "nbformat": 4,
 "nbformat_minor": 5
}
