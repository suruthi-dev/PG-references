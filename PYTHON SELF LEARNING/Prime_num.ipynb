{
 "cells": [
  {
   "cell_type": "markdown",
   "metadata": {},
   "source": [
    "# LAB 3:\n",
    "PYTHON FUNCTIONS AND MODULES "
   ]
  },
  {
   "cell_type": "markdown",
   "metadata": {},
   "source": [
    "SURUTHI S \n",
    "225229141\n",
    "1ST MSC DATA SCIENCE\n"
   ]
  },
  {
   "cell_type": "markdown",
   "metadata": {},
   "source": [
    "Create a function prime() that receives an integer and returns whether n is prime or not.\n",
    "Print all prime numbers from 1 to 100 by calling prime() function"
   ]
  },
  {
   "cell_type": "code",
   "execution_count": null,
   "metadata": {},
   "outputs": [],
   "source": [
    "def prime(n):\n",
    "    if(n<2):\n",
    "        return (\"ENTER A POSITIVE VALUE GREATER OR EQUAL TO 2\")\n",
    "    else:\n",
    "        for i in range(n+1):\n",
    "            count=0\n",
    "            for j in range(1,i+1):\n",
    "                if(i%j ==0):\n",
    "                    count+=1\n",
    "            if(count==2):\n",
    "                print(\"\\t\",i)\n",
    "    for i in range(2,n):\n",
    "        if (n%i) == 0:\n",
    "            return(n,\" IS NOT A PRIME NUMBER \")\n",
    "    return(n,\" IS A PRIME NUMBER\")\n"
   ]
  },
  {
   "cell_type": "code",
   "execution_count": null,
   "metadata": {},
   "outputs": [],
   "source": [
    "prime(100)"
   ]
  },
  {
   "cell_type": "code",
   "execution_count": 11,
   "metadata": {},
   "outputs": [
    {
     "name": "stdout",
     "output_type": "stream",
     "text": [
      "enter the range17\n",
      "prime number between 17 is\n",
      "2\n",
      "3\n",
      "4\n",
      "5\n",
      "6\n",
      "7\n",
      "8\n",
      "9\n",
      "10\n",
      "11\n",
      "12\n",
      "13\n",
      "14\n",
      "15\n",
      "16\n"
     ]
    }
   ],
   "source": [
    "n=int(input(\"enter the range\"))\n",
    "print(f\"prime number between {n} is\")\n",
    "for i in range(2,n):\n",
    "    if (n%i)==0:\n",
    "        pass\n",
    "    else:\n",
    "        print(i)\n",
    "        \n"
   ]
  },
  {
   "cell_type": "markdown",
   "metadata": {},
   "source": [
    "Develop a simple arithmetic calculator for 4 operations. The program should\n",
    "continue calculation until user types ‘q’ to quit. A sample user interaction can be:\n",
    "\n",
    " Enter operator (q to quit): +\n",
    " Enter value 1: 10\n",
    " Enter value 2: 20\n",
    " Result = 30\n",
    "\n",
    "Create 4 functions add(), subtract(), multiply() and divide() that receives two values and \n",
    "returns the result of the operation.\n",
    "\n",
    "Now, perform the following operations by calling the corresponding functions. Validate your\n",
    "outputs.\n"
   ]
  },
  {
   "cell_type": "code",
   "execution_count": null,
   "metadata": {},
   "outputs": [],
   "source": [
    "def add(m,n):\n",
    "    return (m+n)\n",
    "def sub(m,n):\n",
    "    return(m-n)\n",
    "def multi(m,n):\n",
    "    return(m*n)\n",
    "def divide(m,n):\n",
    "    return(m/n)\n",
    "def modulo(m,n):\n",
    "    return(m%n)\n",
    "def power(m,n):\n",
    "    return(m**n)\n",
    "\n",
    "def calculator(m,n):\n",
    "    ops=input(\"Enter Operator : \\n Only press + - * / % **   \")\n",
    "    \n",
    "    if ops=='q':\n",
    "        print(\"\")\n",
    "    if ops== '+':\n",
    "        print(\"ADDITION : \",m,\" + \",n,\"=\",add(m,n))\n",
    "    elif ops=='-':\n",
    "        print(\"SUBTRACTION :\",m,\"-\",n,\"=\",sub(m,n))\n",
    "    elif ops=='*':\n",
    "        print(\"MULTIPLICATION :\",m,\"*\",n,\"=\",multi(m,n))\n",
    "    elif ops==\"/\":\n",
    "         print(\"DIVIDE :\",m,\"/\",n,\"=\",round(divide(m,n)))\n",
    "    elif ops=='%':\n",
    "        print(\"MODULO: \",m,\"%\",n,\"=\",modulo(m,n))\n",
    "    elif ops=='**':\n",
    "        print(\"POWER :\",m,\"**\",n,\"=\",power(m,n))\n",
    "\n",
    "    \n",
    "        "
   ]
  },
  {
   "cell_type": "code",
   "execution_count": null,
   "metadata": {},
   "outputs": [],
   "source": [
    "calculator(10,20)"
   ]
  },
  {
   "cell_type": "code",
   "execution_count": null,
   "metadata": {},
   "outputs": [],
   "source": [
    "calculator(20,5)"
   ]
  },
  {
   "cell_type": "code",
   "execution_count": null,
   "metadata": {},
   "outputs": [],
   "source": [
    "calculator(8,5)"
   ]
  },
  {
   "cell_type": "code",
   "execution_count": null,
   "metadata": {},
   "outputs": [],
   "source": [
    "calculator(50,3)"
   ]
  },
  {
   "cell_type": "markdown",
   "metadata": {},
   "source": [
    "Create a function factorial() that takes an integer and returns its factorial value.\n",
    "\n",
    "You can create as a non-recursive version of factorial.\n",
    "\n",
    "Also, check factorial of negative number does not exist.\n",
    "\n",
    "Factorial of 0 is 1"
   ]
  },
  {
   "cell_type": "code",
   "execution_count": 12,
   "metadata": {},
   "outputs": [],
   "source": [
    "#RECURSIVE VERSION \n",
    "\n",
    "def facto(n):\n",
    "    fact=1\n",
    "    if n<0:\n",
    "        print(\"Enter a positive number\")\n",
    "    elif n==0:\n",
    "        print(\" Factorial of 0 is 1\")\n",
    "    else:\n",
    "        for i in range(1,n+1):\n",
    "            fact*=i\n",
    "        print(fact)"
   ]
  },
  {
   "cell_type": "code",
   "execution_count": 14,
   "metadata": {},
   "outputs": [],
   "source": [
    "# NON RECURSIVE VERSION \n",
    "def nrfacto(n):\n",
    "    fact =1\n",
    "    if n<0:\n",
    "        print(\"Enter a positive number\")\n",
    "    elif n==0:\n",
    "        print(\" Factorial of 0 is 1\")\n",
    "    while(n>0):\n",
    "        fact*=n\n",
    "        n=n-1\n",
    "    print(fact)"
   ]
  },
  {
   "cell_type": "code",
   "execution_count": null,
   "metadata": {},
   "outputs": [],
   "source": [
    "facto(-4)"
   ]
  },
  {
   "cell_type": "code",
   "execution_count": null,
   "metadata": {},
   "outputs": [],
   "source": [
    "facto(0)"
   ]
  },
  {
   "cell_type": "code",
   "execution_count": 13,
   "metadata": {},
   "outputs": [
    {
     "name": "stdout",
     "output_type": "stream",
     "text": [
      "120\n"
     ]
    }
   ],
   "source": [
    "facto(5)"
   ]
  },
  {
   "cell_type": "code",
   "execution_count": 15,
   "metadata": {},
   "outputs": [
    {
     "name": "stdout",
     "output_type": "stream",
     "text": [
      "120\n"
     ]
    }
   ],
   "source": [
    "nrfacto(5)"
   ]
  },
  {
   "cell_type": "code",
   "execution_count": null,
   "metadata": {},
   "outputs": [],
   "source": [
    "nrfacto(-6)"
   ]
  },
  {
   "cell_type": "code",
   "execution_count": null,
   "metadata": {},
   "outputs": [],
   "source": [
    "nrfacto(0)"
   ]
  },
  {
   "cell_type": "code",
   "execution_count": null,
   "metadata": {},
   "outputs": [],
   "source": []
  }
 ],
 "metadata": {
  "kernelspec": {
   "display_name": "Python 3 (ipykernel)",
   "language": "python",
   "name": "python3"
  },
  "language_info": {
   "codemirror_mode": {
    "name": "ipython",
    "version": 3
   },
   "file_extension": ".py",
   "mimetype": "text/x-python",
   "name": "python",
   "nbconvert_exporter": "python",
   "pygments_lexer": "ipython3",
   "version": "3.9.12"
  }
 },
 "nbformat": 4,
 "nbformat_minor": 2
}
