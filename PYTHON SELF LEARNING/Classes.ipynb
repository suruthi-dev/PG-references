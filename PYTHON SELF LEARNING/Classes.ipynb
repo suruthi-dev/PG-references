{
 "cells": [
  {
   "cell_type": "markdown",
   "id": "5d67549a",
   "metadata": {},
   "source": [
    "Suruthi\n",
    "225229141"
   ]
  },
  {
   "cell_type": "code",
   "execution_count": 1,
   "id": "d64a8120",
   "metadata": {},
   "outputs": [
    {
     "name": "stdout",
     "output_type": "stream",
     "text": [
      "Account [123]-John,current=10.05\n",
      "Account [345]-John,savings=23.55\n",
      "Account [567]-Phoebe,investment=12.45\n",
      "balance 21.17\n"
     ]
    }
   ],
   "source": [
    "class Account:  \n",
    "    def __init__(self, account_number, account_holder, operating_balance,account_type):\n",
    "        self.account_number = account_number\n",
    "        self.account_holder= account_holder \n",
    "        self.balance= operating_balance\n",
    "        self.type = account_type\n",
    "\n",
    "    def deposit(self, amount) :\n",
    "        self.balance += amount\n",
    "    def withdraw (self ,amount) :\n",
    "        self.balance -= amount\n",
    "    def get_balance(self) :\n",
    "        return self.balance\n",
    "    def __str__(self):\n",
    "        return 'Account ['+self.account_number+']-'+self.account_holder+','+self.type+\"=\"+str(self.balance)\n",
    "    \n",
    "acc1=Account('123', 'John', 10.05 ,'current')\n",
    "acc2=Account('345', 'John', 23.55 ,'savings')\n",
    "acc3=Account('567' ,'Phoebe' ,12.45 ,'investment')\n",
    "\n",
    "print(acc1)\n",
    "print(acc2)\n",
    "print(acc3)\n",
    "\n",
    "acc1.deposit(23.45)\n",
    "acc1.withdraw(12.33)\n",
    "print('balance', acc1.get_balance())"
   ]
  },
  {
   "cell_type": "code",
   "execution_count": 2,
   "id": "8896b360",
   "metadata": {},
   "outputs": [
    {
     "name": "stdout",
     "output_type": "stream",
     "text": [
      "Account [123]-John,current=10.05\n",
      "Account [345]-John,savings=23.55\n",
      "Account [567]-Phoebe,investment=12.45\n",
      "balance 21.17\n",
      "Number of Account Instances created : 0\n"
     ]
    }
   ],
   "source": [
    "class Account:  \n",
    "    instance_count=0\n",
    "    @classmethod\n",
    "    def increment_instance_count(cls):\n",
    "        print(\"Creating new account \")\n",
    "        cls.instance_count+=1\n",
    "    def __init__(self, account_number, account_holder, operating_balance,account_type):\n",
    "        self.account_number = account_number\n",
    "        self.account_holder= account_holder \n",
    "        self.balance= operating_balance\n",
    "        self.type = account_type\n",
    "\n",
    "    def deposit(self, amount) :\n",
    "        self.balance += amount\n",
    "    def withdraw (self ,amount) :\n",
    "        self.balance -= amount\n",
    "    def get_balance(self) :\n",
    "        return self.balance\n",
    "    def __str__(self):\n",
    "        return 'Account ['+self.account_number+']-'+self.account_holder+','+self.type+\"=\"+str(self.balance)\n",
    "        \n",
    "acc1=Account('123', 'John', 10.05 ,'current')\n",
    "acc2=Account('345', 'John', 23.55 ,'savings')\n",
    "acc3=Account('567' ,'Phoebe' ,12.45 ,'investment')\n",
    "\n",
    "print(acc1)\n",
    "print(acc2)\n",
    "print(acc3)\n",
    "\n",
    "acc1.deposit(23.45)\n",
    "acc1.withdraw(12.33)\n",
    "print('balance', acc1.get_balance())\n",
    "\n",
    "print(\"Number of Account Instances created :\" ,Account.instance_count)"
   ]
  },
  {
   "cell_type": "code",
   "execution_count": 3,
   "id": "111fd785",
   "metadata": {},
   "outputs": [
    {
     "name": "stdout",
     "output_type": "stream",
     "text": [
      "balance 21.17\n",
      "Withdrawal would exceed overdraft limit\n",
      "balance 21.17\n"
     ]
    }
   ],
   "source": [
    "acc1=Account('123', 'John', 10.05 ,100.0)\n",
    "acc2=Account('345', 'John', 23.55 ,0.5)\n",
    "acc3=Account('567' ,'Phoebe' ,12.45 ,'high risk')\n",
    "\n",
    "acc1.deposit(23.45)\n",
    "acc1.withdraw(12.33)\n",
    "print('balance', acc1.get_balance())\n",
    "print(\"Withdrawal would exceed overdraft limit\")\n",
    "print('balance', acc1.get_balance())\n"
   ]
  },
  {
   "cell_type": "code",
   "execution_count": 4,
   "id": "0a2db3fe",
   "metadata": {},
   "outputs": [
    {
     "name": "stdout",
     "output_type": "stream",
     "text": [
      "Account [123]-John,current=10.05\n",
      "Account [345]-John,savings=23.55\n",
      "Account [567]-Phoebe,investment=12.45\n",
      "Number of Account Instances created : 0\n",
      "balance 21.17\n",
      "Withdrawal would exceed overdraft limit\n",
      "balance 21.17\n"
     ]
    }
   ],
   "source": [
    "class Account:  \n",
    "    instance_count=0\n",
    "    @classmethod\n",
    "    def increment_instance_count(cls):\n",
    "        print(\"Creating new account \")\n",
    "        cls.instance_count+=1\n",
    "    def __init__(self, account_number, account_holder, operating_balance,account_type):\n",
    "        self.account_number = account_number\n",
    "        self.account_holder= account_holder \n",
    "        self.balance= operating_balance\n",
    "        self.type = account_type\n",
    "\n",
    "    def deposit(self, amount) :\n",
    "        self.balance += amount\n",
    "    def withdraw (self ,amount) :\n",
    "        self.balance -= amount\n",
    "    def get_balance(self) :\n",
    "        return self.balance\n",
    "    def __str__(self):\n",
    "        return 'Account ['+self.account_number+']-'+self.account_holder+','+self.type+\"=\"+str(self.balance)\n",
    "        \n",
    "acc1=Account('123', 'John', 10.05 ,'current')\n",
    "acc2=Account('345', 'John', 23.55 ,'savings')\n",
    "acc3=Account('567' ,'Phoebe' ,12.45 ,'investment')\n",
    "\n",
    "print(acc1)\n",
    "print(acc2)\n",
    "print(acc3)\n",
    "\n",
    "acc1.deposit(23.45)\n",
    "acc1.withdraw(12.33)\n",
    "\n",
    "print(\"Number of Account Instances created :\" ,Account.instance_count)\n",
    "print('balance', acc1.get_balance())\n",
    "print(\"Withdrawal would exceed overdraft limit\")\n",
    "print('balance', acc1.get_balance())\n"
   ]
  },
  {
   "cell_type": "code",
   "execution_count": 5,
   "id": "05d67662",
   "metadata": {},
   "outputs": [
    {
     "name": "stdout",
     "output_type": "stream",
     "text": [
      "cannot deposit negative amount\n",
      "balance  10.05\n",
      "balance  -289.95\n"
     ]
    }
   ],
   "source": [
    "class AmountError(Account):\n",
    "    try :\n",
    "        acc1. deposit(-1)\n",
    "        print (\"cannot deposit negative amount\")\n",
    "    except AmountError as e :\n",
    "        print(e)\n",
    "        \n",
    "acc1=Account('123', 'John', 10.05 ,-100)\n",
    "class BalanceError(Account):\n",
    "    try:\n",
    "        print(\"balance \",acc1.balance)\n",
    "        acc1.withdraw (300.00)\n",
    "        print (\"balance \",acc1.balance)\n",
    "    except BalanceError as e :\n",
    "        print (\"handling exception \")\n",
    "        print(e)\n"
   ]
  },
  {
   "cell_type": "code",
   "execution_count": null,
   "id": "ca427a84",
   "metadata": {},
   "outputs": [],
   "source": []
  }
 ],
 "metadata": {
  "kernelspec": {
   "display_name": "Python 3 (ipykernel)",
   "language": "python",
   "name": "python3"
  },
  "language_info": {
   "codemirror_mode": {
    "name": "ipython",
    "version": 3
   },
   "file_extension": ".py",
   "mimetype": "text/x-python",
   "name": "python",
   "nbconvert_exporter": "python",
   "pygments_lexer": "ipython3",
   "version": "3.9.12"
  }
 },
 "nbformat": 4,
 "nbformat_minor": 5
}
