{
 "cells": [
  {
   "cell_type": "code",
   "execution_count": 3,
   "id": "16059b10",
   "metadata": {},
   "outputs": [],
   "source": [
    "def count(string,search):\n",
    "    a=string.count(search)\n",
    "    return(a)"
   ]
  },
  {
   "cell_type": "code",
   "execution_count": 8,
   "id": "404cb033",
   "metadata": {},
   "outputs": [
    {
     "data": {
      "text/plain": [
       "1"
      ]
     },
     "execution_count": 8,
     "metadata": {},
     "output_type": "execute_result"
    }
   ],
   "source": [
    "count(\"hellOworld\",\"o\")"
   ]
  },
  {
   "cell_type": "code",
   "execution_count": 5,
   "id": "aff78d1c",
   "metadata": {},
   "outputs": [],
   "source": [
    "def countcf(string,search):\n",
    "    string=string.casefold()\n",
    "    a=string.count(search)\n",
    "    return(a)"
   ]
  },
  {
   "cell_type": "code",
   "execution_count": 7,
   "id": "8358a33f",
   "metadata": {},
   "outputs": [
    {
     "data": {
      "text/plain": [
       "2"
      ]
     },
     "execution_count": 7,
     "metadata": {},
     "output_type": "execute_result"
    }
   ],
   "source": [
    "countcf(\"hellOworld\",\"o\")"
   ]
  },
  {
   "cell_type": "code",
   "execution_count": 23,
   "id": "23244da2",
   "metadata": {},
   "outputs": [],
   "source": [
    "def charword(string):\n",
    "    d,v,co,s=0,0,0,0\n",
    "    for i in range(len(string)):\n",
    "        c=string[i]  #main line\n",
    "        if (c>='a' and c<='z' or c>='A' and c<='Z'):\n",
    "            c=c.casefold()\n",
    "            if (c == 'a'or c =='e'or c =='i'or c == 'o'or c =='u'):\n",
    "                v+=1\n",
    "            else:\n",
    "                co+=1\n",
    "        elif (c.isdigit()):\n",
    "            d+=1\n",
    "        elif (c.isspace()):\n",
    "            s+=1\n",
    "    print(f\"space : {s},digit :{d},vowels:{v},conso:{co}\")"
   ]
  },
  {
   "cell_type": "code",
   "execution_count": 24,
   "id": "2c3875c0",
   "metadata": {},
   "outputs": [
    {
     "name": "stdout",
     "output_type": "stream",
     "text": [
      "space : 1,digit :2,vowels:2,conso:3\n"
     ]
    }
   ],
   "source": [
    "a=\"abcde 17\"\n",
    "charword(a)"
   ]
  },
  {
   "cell_type": "code",
   "execution_count": 25,
   "id": "b16ea636",
   "metadata": {},
   "outputs": [],
   "source": [
    "def rempun(stri):\n",
    "    punc='''!@#$%^&*'(/){}[:]<>?/.,';'''\n",
    "    nopun=''\n",
    "    for i in stri:\n",
    "        if i not in punc:\n",
    "            nopun+=i\n",
    "    print(nopun)"
   ]
  },
  {
   "cell_type": "code",
   "execution_count": 26,
   "id": "47f72b55",
   "metadata": {},
   "outputs": [
    {
     "name": "stdout",
     "output_type": "stream",
     "text": [
      "BISHOP \n"
     ]
    }
   ],
   "source": [
    "a=\"BISHOP !@#$$##%^%^%^^$^#$^\"\n",
    "rempun(a)"
   ]
  },
  {
   "cell_type": "code",
   "execution_count": null,
   "id": "c1612d25",
   "metadata": {},
   "outputs": [],
   "source": []
  }
 ],
 "metadata": {
  "kernelspec": {
   "display_name": "Python 3 (ipykernel)",
   "language": "python",
   "name": "python3"
  },
  "language_info": {
   "codemirror_mode": {
    "name": "ipython",
    "version": 3
   },
   "file_extension": ".py",
   "mimetype": "text/x-python",
   "name": "python",
   "nbconvert_exporter": "python",
   "pygments_lexer": "ipython3",
   "version": "3.9.12"
  }
 },
 "nbformat": 4,
 "nbformat_minor": 5
}
