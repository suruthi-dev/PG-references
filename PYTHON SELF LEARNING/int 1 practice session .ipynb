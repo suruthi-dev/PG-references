{
 "cells": [
  {
   "cell_type": "code",
   "execution_count": null,
   "id": "83aca2d1",
   "metadata": {},
   "outputs": [],
   "source": [
    "a=int(input(\"ENTER THE RANGE OF THE LIST\"))\n",
    "l=[]\n",
    "for i in range (a):\n",
    "    b=int(input(f\"ENTER THE VALUE {i+1} \"))\n",
    "    l.append(b)\n",
    "s=0\n",
    "for j in range(len(l)):\n",
    "    s=s+l[j]\n",
    "print(\"Sum of the values in the list : \",s)"
   ]
  },
  {
   "cell_type": "code",
   "execution_count": null,
   "id": "46df5e5d",
   "metadata": {},
   "outputs": [],
   "source": [
    "def ispali(s):\n",
    "    return s==s[::-1]"
   ]
  },
  {
   "cell_type": "code",
   "execution_count": null,
   "id": "06a7e858",
   "metadata": {},
   "outputs": [],
   "source": [
    "ispali(\"suru\")"
   ]
  },
  {
   "cell_type": "code",
   "execution_count": null,
   "id": "90ef646a",
   "metadata": {},
   "outputs": [],
   "source": [
    "a=[1,2,3,4]\n"
   ]
  },
  {
   "cell_type": "code",
   "execution_count": null,
   "id": "32cdf519",
   "metadata": {},
   "outputs": [],
   "source": [
    "a[:]"
   ]
  },
  {
   "cell_type": "code",
   "execution_count": null,
   "id": "2f48e181",
   "metadata": {},
   "outputs": [],
   "source": [
    "a[::-2]"
   ]
  },
  {
   "cell_type": "code",
   "execution_count": null,
   "id": "3d07bbf5",
   "metadata": {},
   "outputs": [],
   "source": [
    "a[::2]"
   ]
  },
  {
   "cell_type": "code",
   "execution_count": null,
   "id": "f160aabc",
   "metadata": {},
   "outputs": [],
   "source": [
    "a[::-2]"
   ]
  },
  {
   "cell_type": "code",
   "execution_count": null,
   "id": "447c3d0c",
   "metadata": {},
   "outputs": [],
   "source": [
    "a[::-1]"
   ]
  },
  {
   "cell_type": "code",
   "execution_count": null,
   "id": "97d4d82f",
   "metadata": {},
   "outputs": [],
   "source": [
    "ispali(\"amma\")"
   ]
  },
  {
   "cell_type": "code",
   "execution_count": null,
   "id": "a69d338b",
   "metadata": {},
   "outputs": [],
   "source": [
    "l=[1,2,3,4,5,6]\n",
    "for j in range(len(l)):\n",
    "    if l[j]%2==1:\n",
    "        print(l[j])\n",
    "    else:\n",
    "        pass"
   ]
  },
  {
   "cell_type": "code",
   "execution_count": null,
   "id": "d02b398f",
   "metadata": {},
   "outputs": [],
   "source": [
    "n=7\n",
    "for i in range(1,n+1):\n",
    "    for j in range(i):\n",
    "        print(\"#\",end=\"\")\n",
    "    print(\"\\n\")\n",
    "for i in range(n,0,-1):\n",
    "    for j in range(i):\n",
    "        print(\"#\",end=\"\")\n",
    "    print(\"\\n\")"
   ]
  },
  {
   "cell_type": "code",
   "execution_count": null,
   "id": "1ba8d167",
   "metadata": {},
   "outputs": [],
   "source": [
    "a='code'\n",
    "b=list(a)\n",
    "b[0],b[-1]=b[-1],b[0]\n",
    "print(\" \".join(b))"
   ]
  },
  {
   "cell_type": "code",
   "execution_count": null,
   "id": "7131380b",
   "metadata": {},
   "outputs": [],
   "source": [
    "fish = {'name': \"Nemo\", 'hands': \"fins\", 'special': \"gills\"}\n",
    "dog = {'name': \"Clifford\", 'hands': \"paws\", 'color': \"red\"}"
   ]
  },
  {
   "cell_type": "code",
   "execution_count": null,
   "id": "9a89451c",
   "metadata": {},
   "outputs": [],
   "source": [
    "fishdog = {**fish, **dog}"
   ]
  },
  {
   "cell_type": "code",
   "execution_count": null,
   "id": "b1d7503c",
   "metadata": {},
   "outputs": [],
   "source": [
    "fishdog"
   ]
  },
  {
   "cell_type": "code",
   "execution_count": null,
   "id": "7c8c99e5",
   "metadata": {},
   "outputs": [],
   "source": [
    "y=1300\n",
    "\n",
    "if y%4==0:\n",
    "    if y%100==0:\n",
    "        if y%400==0:\n",
    "            print(f\"{y}is a leap year\")\n",
    "        else:\n",
    "            print(f\"{y}is not a leap year\")\n",
    "    else:\n",
    "        print(f\"{y}is a leap year\")\n",
    "else:\n",
    "    print(f\"{y}is a not  leap year\")\n",
    "            "
   ]
  },
  {
   "cell_type": "code",
   "execution_count": null,
   "id": "ef613ea3",
   "metadata": {},
   "outputs": [],
   "source": [
    "distance=20\n",
    "speed=10\n",
    "time=5\n",
    "\n",
    "aspeed=distance/time\n",
    "adistance=speed*time\n",
    "atime=distance/speed\n",
    "\n",
    "\n",
    "print(aspeed,adistance,atime)"
   ]
  },
  {
   "cell_type": "code",
   "execution_count": null,
   "id": "9ba7d02d",
   "metadata": {},
   "outputs": [],
   "source": [
    "#dd:hh:mm:ss to seconds\n",
    "days = int(input(\"Input days: \"))*24*60*60\n",
    "hours = int(input(\"Input hours: \"))*60*60\n",
    "minutes = int(input(\"Input minutes: \")) *60\n",
    "seconds = int(input(\"Input seconds: \"))\n",
    "\n",
    "time = days + hours + minutes + seconds\n",
    "\n",
    "print(\"The  amounts of seconds\", time)\n"
   ]
  },
  {
   "cell_type": "code",
   "execution_count": null,
   "id": "2ad6c7c4",
   "metadata": {},
   "outputs": [],
   "source": [
    "#seconds to dd:hh:mm:ss\n",
    "time = float(input(\"Input time in seconds: \"))\n",
    "day = time // (24 * 3600)\n",
    "time = time % (24 * 3600)\n",
    "hour = time // 3600\n",
    "time %= 3600\n",
    "minutes = time // 60\n",
    "time %= 60\n",
    "seconds = time\n",
    "print(\"d:h:m:s-> %d:%d:%d:%d\" % (day, hour, minutes, seconds))\n"
   ]
  },
  {
   "cell_type": "code",
   "execution_count": null,
   "id": "ddebc59a",
   "metadata": {},
   "outputs": [],
   "source": [
    "stu=()\n",
    "def st(stu):\n",
    "    rno,name,m1,m2,m3=stu\n",
    "    print(\"rno\",rno)\n",
    "    print(name)\n",
    "    print(m1)\n",
    "    print(m2)\n",
    "    print(m3)\n",
    "    tot=m1+m2+m3\n",
    "    avg=tot/3\n",
    "    print(avg)"
   ]
  },
  {
   "cell_type": "code",
   "execution_count": null,
   "id": "de636c92",
   "metadata": {},
   "outputs": [],
   "source": [
    "stu=(1,\"suru\",99,98,97)\n",
    "st(stu)"
   ]
  },
  {
   "cell_type": "code",
   "execution_count": 7,
   "id": "f25c7780",
   "metadata": {},
   "outputs": [],
   "source": [
    "def lastN(lst,n):\n",
    "    lst=[]\n",
    "    n=int(input(\"HOW MANY NUMBERS  YOU WANT TO ENTER :\"))\n",
    "    for i in range(n):\n",
    "        a=int(input(\"\\n ENTER A NUMBER :\"))\n",
    "        lst.append(a)\n",
    "    disp=int(input(\"HOW MANY LARGEST NUMBERS YOU WANT TO FIND\"))\n",
    "    lst.sort(reverse=True)\n",
    "    print(\"LARGEST NUMBERS ARE : \",lst[:disp])"
   ]
  },
  {
   "cell_type": "code",
   "execution_count": 8,
   "id": "5bc9bdb2",
   "metadata": {},
   "outputs": [
    {
     "name": "stdout",
     "output_type": "stream",
     "text": [
      "HOW MANY NUMBERS  YOU WANT TO ENTER :5\n",
      "\n",
      " ENTER A NUMBER :12\n",
      "\n",
      " ENTER A NUMBER :789\n",
      "\n",
      " ENTER A NUMBER :456\n",
      "\n",
      " ENTER A NUMBER :124\n",
      "\n",
      " ENTER A NUMBER :154\n",
      "HOW MANY LARGEST NUMBERS YOU WANT TO FIND3\n",
      "LARGEST NUMBERS ARE :  [789, 456, 154]\n"
     ]
    }
   ],
   "source": [
    "\n",
    "a=[1,2,66,44,34,344]\n",
    "lastN(a,3)"
   ]
  },
  {
   "cell_type": "code",
   "execution_count": 13,
   "id": "c35da33f",
   "metadata": {},
   "outputs": [],
   "source": [
    "st=[\n",
    "(\"John\",[\"compsci\", 'physics']),\n",
    "('Vusi',['maths', 'compsci', 'statistics', 'accounting']),\n",
    "('Jess',['compsci' ,'accounting' 'economics', 'management']),\n",
    "('Sarah',[ 'Infosys', 'accounting','economics' ,'commlaw']),\n",
    "('Zuki',['sociology' ,'economics', 'law' ,'statistics', 'music'])]"
   ]
  },
  {
   "cell_type": "code",
   "execution_count": 9,
   "id": "d39d899b",
   "metadata": {},
   "outputs": [
    {
     "name": "stdout",
     "output_type": "stream",
     "text": [
      "John has enrolled in 2 courses\n",
      "Vusi has enrolled in 4 courses\n",
      "Jess has enrolled in 3 courses\n",
      "Sarah has enrolled in 4 courses\n",
      "Zuki has enrolled in 5 courses\n"
     ]
    }
   ],
   "source": [
    "for i in range(len(st)):\n",
    "    print(f\"{st[i][0]} has enrolled in {len(st[i][1])} courses\")"
   ]
  },
  {
   "cell_type": "code",
   "execution_count": 11,
   "id": "bc6aec1f",
   "metadata": {},
   "outputs": [
    {
     "name": "stdout",
     "output_type": "stream",
     "text": [
      "John -[\"'compsci'\", 'physics']\n",
      "Vusi -['maths', 'compsci', 'statistics', 'accounting']\n",
      "Jess -['compsci', 'accountingeconomics', 'management']\n",
      "Sarah -['Infosys', 'accounting', 'economics', 'commlaw']\n",
      "Zuki -['sociology', 'economics', 'law', 'statistics', 'music']\n"
     ]
    }
   ],
   "source": [
    "for i in range(len(st)):\n",
    "    print(f\"{st[i][0]} -{st[i][1]}\")"
   ]
  },
  {
   "cell_type": "code",
   "execution_count": 14,
   "id": "7365c14e",
   "metadata": {},
   "outputs": [
    {
     "name": "stdout",
     "output_type": "stream",
     "text": [
      "3\n"
     ]
    }
   ],
   "source": [
    "count=0\n",
    "for i in range(len(st)):\n",
    "    if \"compsci\"in st[i][1]:\n",
    "        count=count+1\n",
    "print(count)\n",
    "        "
   ]
  },
  {
   "cell_type": "code",
   "execution_count": 17,
   "id": "439e596f",
   "metadata": {},
   "outputs": [
    {
     "name": "stdout",
     "output_type": "stream",
     "text": [
      "Vusi\n",
      "Sarah\n"
     ]
    }
   ],
   "source": [
    "for i in range(len(st)):\n",
    "    if \"accounting\"in st[i][1]:\n",
    "         print(f\"{st[i][0]}\")"
   ]
  },
  {
   "cell_type": "code",
   "execution_count": 20,
   "id": "05893f8e",
   "metadata": {},
   "outputs": [
    {
     "name": "stdout",
     "output_type": "stream",
     "text": [
      "Sarah\n"
     ]
    }
   ],
   "source": [
    "for i in range(len(st)):\n",
    "    if \"accounting\"in st[i][1] and 'economics' in  st[i][1]:\n",
    "        print(f\"{st[i][0]}\")"
   ]
  },
  {
   "cell_type": "code",
   "execution_count": 21,
   "id": "3ea241f3",
   "metadata": {},
   "outputs": [],
   "source": [
    "def multilist(l):\n",
    "    if len(l)==1:\n",
    "            return l[0]\n",
    "    else:\n",
    "        return l[0]* multilist(l[1:])"
   ]
  },
  {
   "cell_type": "code",
   "execution_count": 22,
   "id": "b37e1708",
   "metadata": {},
   "outputs": [
    {
     "data": {
      "text/plain": [
       "120"
      ]
     },
     "execution_count": 22,
     "metadata": {},
     "output_type": "execute_result"
    }
   ],
   "source": [
    "l=[1,2,3,4,5]\n",
    "multilist(l)"
   ]
  },
  {
   "cell_type": "code",
   "execution_count": 23,
   "id": "ae0d3a49",
   "metadata": {},
   "outputs": [],
   "source": [
    "def lcm(a,b):\n",
    "    if b==0:\n",
    "        return a\n",
    "    else:\n",
    "        return lcm(b,a%b)"
   ]
  },
  {
   "cell_type": "code",
   "execution_count": 24,
   "id": "08d82b15",
   "metadata": {},
   "outputs": [
    {
     "data": {
      "text/plain": [
       "4"
      ]
     },
     "execution_count": 24,
     "metadata": {},
     "output_type": "execute_result"
    }
   ],
   "source": [
    "lcm(4,0)"
   ]
  },
  {
   "cell_type": "code",
   "execution_count": 28,
   "id": "2eaff5aa",
   "metadata": {},
   "outputs": [
    {
     "name": "stdout",
     "output_type": "stream",
     "text": [
      "4\n"
     ]
    }
   ],
   "source": [
    "stri=\"hello suru hello naveen\"\n",
    "a=stri.split()\n",
    "count=0\n",
    "for i in a:\n",
    "    count+=1\n",
    "print(count)"
   ]
  },
  {
   "cell_type": "code",
   "execution_count": 29,
   "id": "8075e3fd",
   "metadata": {},
   "outputs": [
    {
     "name": "stdout",
     "output_type": "stream",
     "text": [
      "['hello', 'suru', 'hello', 'naveen']\n"
     ]
    }
   ],
   "source": [
    "print(a)"
   ]
  },
  {
   "cell_type": "code",
   "execution_count": null,
   "id": "c68b6460",
   "metadata": {},
   "outputs": [
    {
     "name": "stdout",
     "output_type": "stream",
     "text": [
      "enter nameaaa\n",
      "enter score 190\n",
      "enter score 290\n",
      "enter score 390\n",
      "3 : avg = 2.0\n"
     ]
    }
   ],
   "source": [
    "f=open(\"context.txt\",\"w\")\n",
    "for i in range(2):\n",
    "    a=f.write(input(\"enter name\"))\n",
    "    m1=f.write(input(\"enter score 1\"))\n",
    "    m2=f.write(input(\"enter score 2\"))\n",
    "    m3=f.write(input(\"enter score 3\"))\n",
    "    f.write(\"\\n\")\n",
    "    tot=m1+m2+m3\n",
    "    avg=tot/3\n",
    "    print(f\"{a} : avg = {avg}\")"
   ]
  },
  {
   "cell_type": "code",
   "execution_count": null,
   "id": "bb31f089",
   "metadata": {},
   "outputs": [],
   "source": []
  }
 ],
 "metadata": {
  "kernelspec": {
   "display_name": "Python 3 (ipykernel)",
   "language": "python",
   "name": "python3"
  },
  "language_info": {
   "codemirror_mode": {
    "name": "ipython",
    "version": 3
   },
   "file_extension": ".py",
   "mimetype": "text/x-python",
   "name": "python",
   "nbconvert_exporter": "python",
   "pygments_lexer": "ipython3",
   "version": "3.9.12"
  }
 },
 "nbformat": 4,
 "nbformat_minor": 5
}
