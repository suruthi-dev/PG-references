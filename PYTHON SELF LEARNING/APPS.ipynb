{
 "cells": [
  {
   "cell_type": "markdown",
   "id": "c1353a9f",
   "metadata": {},
   "source": [
    "SURUTHI S\n",
    "\n",
    "DS22522141\n",
    "\n",
    "ds225229141@bhc.edu.in\n",
    "\n",
    "APPLICATION FILES"
   ]
  },
  {
   "cell_type": "markdown",
   "id": "6f074718",
   "metadata": {},
   "source": [
    "#piglatin "
   ]
  },
  {
   "cell_type": "code",
   "execution_count": 5,
   "id": "9fc6b7d8",
   "metadata": {},
   "outputs": [],
   "source": [
    "def piglatin(word):\n",
    "    sentence = input('Enter a Sentence: ').lower()\n",
    "    words = sentence.split()\n",
    "    for i, word in enumerate(words):\n",
    "        if word[0] in 'aeiou':\n",
    "            words[i] = words[i]+\"-\"+ \"way\"\n",
    "        else:\n",
    "            has_vowel = False\n",
    "            \n",
    "            for j, letter in enumerate(word):\n",
    "                if letter in 'aeiou':\n",
    "                    words[i] = word[j:] + \"-\"+word[:j] + \"ay\"\n",
    "                    has_vowel = True\n",
    "                    break\n",
    "                    if(has_vowel == False):\n",
    "                        words[i] = words[i]+\"-\"+\"ay\"\n",
    "    pig_latin = ' '.join(words)\n",
    "    print(\"Pig Latin: \",pig_latin)"
   ]
  },
  {
   "cell_type": "code",
   "execution_count": 6,
   "id": "01ffa70c",
   "metadata": {},
   "outputs": [],
   "source": [
    "import piglatin "
   ]
  },
  {
   "cell_type": "raw",
   "id": "dbd8ed9e",
   "metadata": {},
   "source": [
    "Write a program that counts the # of spaces, digits, vowels and \n",
    "consonants in a string that the user inputs."
   ]
  },
  {
   "cell_type": "code",
   "execution_count": 7,
   "id": "03980cab",
   "metadata": {},
   "outputs": [],
   "source": [
    "def charword(string):\n",
    "    digits=0\n",
    "    space=0\n",
    "    vowels=0\n",
    "    consonants=0   \n",
    "    for i in range (len(string)):\n",
    "        c=string[i]\n",
    "        if (c >='a' and c<='z') or (c>='A' and c<='Z'):  \n",
    "            c=c.casefold()\n",
    "            if (c=='a'or c=='e'or c=='i'or c=='o' or c=='u'):\n",
    "                vowels+=1\n",
    "            else:\n",
    "                consonants+=1\n",
    "        elif(c.isspace()):\n",
    "            space+=1\n",
    "        elif(c>='0' and c<='9'):\n",
    "            digits+=1\n",
    "            \n",
    "\n",
    "    print(\"No os space = \",space)\n",
    "    print('No of digits = ',digits)\n",
    "    print(\"No of No of vowels = \",vowels)\n",
    "    print(\"No of consonants = \",consonants)\n",
    "   \n"
   ]
  },
  {
   "cell_type": "code",
   "execution_count": 8,
   "id": "44650549",
   "metadata": {},
   "outputs": [],
   "source": [
    "import charword"
   ]
  },
  {
   "cell_type": "raw",
   "id": "6736aba3",
   "metadata": {},
   "source": [
    "calculator"
   ]
  },
  {
   "cell_type": "code",
   "execution_count": 10,
   "id": "f1509e53",
   "metadata": {},
   "outputs": [],
   "source": [
    "def add(m,n):\n",
    "    return (m+n)\n",
    "def sub(m,n):\n",
    "    return(m-n)\n",
    "def multi(m,n):\n",
    "    return(m*n)\n",
    "def divide(m,n):\n",
    "    return(m/n)\n",
    "def modulo(m,n):\n",
    "    return(m%n)\n",
    "def power(m,n):\n",
    "    return(m**n)\n",
    "\n",
    "def calculator(m,n):\n",
    "    ops=input(\"Enter Operator :( \\n Only press + - * / % ** ):  \")\n",
    "    \n",
    "    if ops=='q':\n",
    "        print(\"\")\n",
    "    if ops== '+':\n",
    "        print(\"ADDITION : \",m,\" + \",n,\"=\",add(m,n))\n",
    "    elif ops=='-':\n",
    "        print(\"SUBTRACTION :\",m,\"-\",n,\"=\",sub(m,n))\n",
    "    elif ops=='*':\n",
    "        print(\"MULTIPLICATION :\",m,\"*\",n,\"=\",multi(m,n))\n",
    "    elif ops==\"/\":\n",
    "         print(\"DIVIDE :\",m,\"/\",n,\"=\",divide(m,n))\n",
    "    elif ops=='%':\n",
    "        print(\"MODULO: \",m,\"%\",n,\"=\",modulo(m,n))\n",
    "    elif ops=='**':\n",
    "        print(\"POWER :\",m,\"**\",n,\"=\",power(m,n))"
   ]
  },
  {
   "cell_type": "code",
   "execution_count": 12,
   "id": "0759c3ad",
   "metadata": {},
   "outputs": [],
   "source": [
    "import calculator"
   ]
  },
  {
   "cell_type": "markdown",
   "id": "e390b26d",
   "metadata": {},
   "source": [
    "front_back"
   ]
  },
  {
   "cell_type": "code",
   "execution_count": 16,
   "id": "55a5b88c",
   "metadata": {},
   "outputs": [
    {
     "name": "stdout",
     "output_type": "stream",
     "text": [
      "ENTER A STRINGAPPLE\n",
      "EPPLA\n"
     ]
    }
   ],
   "source": [
    "def caseswitch(s):\n",
    "    s=str(input(\"ENTER A STRING\"))\n",
    "    b=list(s)\n",
    "    b[0],b[-1]=b[-1],b[0]\n",
    "    print(\"\".join(b))\n",
    "    "
   ]
  },
  {
   "cell_type": "code",
   "execution_count": 17,
   "id": "03e1a0f2",
   "metadata": {},
   "outputs": [],
   "source": [
    "import caseswitch"
   ]
  }
 ],
 "metadata": {
  "kernelspec": {
   "display_name": "Python 3 (ipykernel)",
   "language": "python",
   "name": "python3"
  },
  "language_info": {
   "codemirror_mode": {
    "name": "ipython",
    "version": 3
   },
   "file_extension": ".py",
   "mimetype": "text/x-python",
   "name": "python",
   "nbconvert_exporter": "python",
   "pygments_lexer": "ipython3",
   "version": "3.9.12"
  }
 },
 "nbformat": 4,
 "nbformat_minor": 5
}
